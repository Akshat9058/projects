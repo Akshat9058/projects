{
 "cells": [
  {
   "cell_type": "code",
   "execution_count": 1,
   "metadata": {
    "colab": {
     "base_uri": "https://localhost:8080/",
     "height": 72
    },
    "colab_type": "code",
    "executionInfo": {
     "elapsed": 756,
     "status": "ok",
     "timestamp": 1591675399246,
     "user": {
      "displayName": "Maxim Geller",
      "photoUrl": "https://lh3.googleusercontent.com/a-/AOh14Gg5R1D-H8nVyvzU5wxYjD24Tcavzupk3iBUaJ_i=s64",
      "userId": "14378199586879751498"
     },
     "user_tz": 240
    },
    "id": "94rhHagSLn8E",
    "outputId": "7a081075-e1bf-4fe3-e1c8-ef249159792d"
   },
   "outputs": [],
   "source": [
    "import pandas as pd\n",
    "import seaborn as sns"
   ]
  },
  {
   "cell_type": "markdown",
   "metadata": {
    "colab_type": "text",
    "id": "z7OvLOKCVOFX"
   },
   "source": [
    "Today, we're exploring the CITES Wildlife Trade database. It contains the reported records of imported and exported species by quantity and country that it was imported and exported from.\n"
   ]
  },
  {
   "cell_type": "code",
   "execution_count": 2,
   "metadata": {
    "colab": {
     "base_uri": "https://localhost:8080/",
     "height": 313
    },
    "colab_type": "code",
    "executionInfo": {
     "elapsed": 477,
     "status": "ok",
     "timestamp": 1591675803486,
     "user": {
      "displayName": "Maxim Geller",
      "photoUrl": "https://lh3.googleusercontent.com/a-/AOh14Gg5R1D-H8nVyvzU5wxYjD24Tcavzupk3iBUaJ_i=s64",
      "userId": "14378199586879751498"
     },
     "user_tz": 240
    },
    "id": "ErdNUboZLw5G",
    "outputId": "5f5fb251-b7ad-4189-d2b0-8e3e338842cd"
   },
   "outputs": [
    {
     "data": {
      "text/html": [
       "<div>\n",
       "<style scoped>\n",
       "    .dataframe tbody tr th:only-of-type {\n",
       "        vertical-align: middle;\n",
       "    }\n",
       "\n",
       "    .dataframe tbody tr th {\n",
       "        vertical-align: top;\n",
       "    }\n",
       "\n",
       "    .dataframe thead th {\n",
       "        text-align: right;\n",
       "    }\n",
       "</style>\n",
       "<table border=\"1\" class=\"dataframe\">\n",
       "  <thead>\n",
       "    <tr style=\"text-align: right;\">\n",
       "      <th></th>\n",
       "      <th>Year</th>\n",
       "      <th>App.</th>\n",
       "      <th>Taxon</th>\n",
       "      <th>Class</th>\n",
       "      <th>Order</th>\n",
       "      <th>Family</th>\n",
       "      <th>Genus</th>\n",
       "      <th>Importer</th>\n",
       "      <th>Exporter</th>\n",
       "      <th>Origin</th>\n",
       "      <th>Importer reported quantity</th>\n",
       "      <th>Exporter reported quantity</th>\n",
       "      <th>Term</th>\n",
       "      <th>Unit</th>\n",
       "      <th>Purpose</th>\n",
       "      <th>Source</th>\n",
       "    </tr>\n",
       "  </thead>\n",
       "  <tbody>\n",
       "    <tr>\n",
       "      <th>0</th>\n",
       "      <td>2016</td>\n",
       "      <td>I</td>\n",
       "      <td>Aquila heliaca</td>\n",
       "      <td>Aves</td>\n",
       "      <td>Falconiformes</td>\n",
       "      <td>Accipitridae</td>\n",
       "      <td>Aquila</td>\n",
       "      <td>TR</td>\n",
       "      <td>NL</td>\n",
       "      <td>CZ</td>\n",
       "      <td>NaN</td>\n",
       "      <td>1.0</td>\n",
       "      <td>bodies</td>\n",
       "      <td>NaN</td>\n",
       "      <td>T</td>\n",
       "      <td>C</td>\n",
       "    </tr>\n",
       "    <tr>\n",
       "      <th>1</th>\n",
       "      <td>2016</td>\n",
       "      <td>I</td>\n",
       "      <td>Aquila heliaca</td>\n",
       "      <td>Aves</td>\n",
       "      <td>Falconiformes</td>\n",
       "      <td>Accipitridae</td>\n",
       "      <td>Aquila</td>\n",
       "      <td>XV</td>\n",
       "      <td>RS</td>\n",
       "      <td>RS</td>\n",
       "      <td>NaN</td>\n",
       "      <td>1.0</td>\n",
       "      <td>bodies</td>\n",
       "      <td>NaN</td>\n",
       "      <td>Q</td>\n",
       "      <td>O</td>\n",
       "    </tr>\n",
       "    <tr>\n",
       "      <th>2</th>\n",
       "      <td>2016</td>\n",
       "      <td>I</td>\n",
       "      <td>Haliaeetus albicilla</td>\n",
       "      <td>Aves</td>\n",
       "      <td>Falconiformes</td>\n",
       "      <td>Accipitridae</td>\n",
       "      <td>Haliaeetus</td>\n",
       "      <td>BE</td>\n",
       "      <td>NO</td>\n",
       "      <td>NaN</td>\n",
       "      <td>NaN</td>\n",
       "      <td>43.0</td>\n",
       "      <td>feathers</td>\n",
       "      <td>NaN</td>\n",
       "      <td>S</td>\n",
       "      <td>W</td>\n",
       "    </tr>\n",
       "    <tr>\n",
       "      <th>3</th>\n",
       "      <td>2016</td>\n",
       "      <td>I</td>\n",
       "      <td>Haliaeetus albicilla</td>\n",
       "      <td>Aves</td>\n",
       "      <td>Falconiformes</td>\n",
       "      <td>Accipitridae</td>\n",
       "      <td>Haliaeetus</td>\n",
       "      <td>BE</td>\n",
       "      <td>NO</td>\n",
       "      <td>NaN</td>\n",
       "      <td>NaN</td>\n",
       "      <td>43.0</td>\n",
       "      <td>specimens</td>\n",
       "      <td>NaN</td>\n",
       "      <td>S</td>\n",
       "      <td>W</td>\n",
       "    </tr>\n",
       "    <tr>\n",
       "      <th>4</th>\n",
       "      <td>2016</td>\n",
       "      <td>I</td>\n",
       "      <td>Haliaeetus albicilla</td>\n",
       "      <td>Aves</td>\n",
       "      <td>Falconiformes</td>\n",
       "      <td>Accipitridae</td>\n",
       "      <td>Haliaeetus</td>\n",
       "      <td>DK</td>\n",
       "      <td>IS</td>\n",
       "      <td>NaN</td>\n",
       "      <td>700.0</td>\n",
       "      <td>NaN</td>\n",
       "      <td>specimens</td>\n",
       "      <td>NaN</td>\n",
       "      <td>S</td>\n",
       "      <td>W</td>\n",
       "    </tr>\n",
       "  </tbody>\n",
       "</table>\n",
       "</div>"
      ],
      "text/plain": [
       "   Year App.                 Taxon Class          Order        Family  \\\n",
       "0  2016    I        Aquila heliaca  Aves  Falconiformes  Accipitridae   \n",
       "1  2016    I        Aquila heliaca  Aves  Falconiformes  Accipitridae   \n",
       "2  2016    I  Haliaeetus albicilla  Aves  Falconiformes  Accipitridae   \n",
       "3  2016    I  Haliaeetus albicilla  Aves  Falconiformes  Accipitridae   \n",
       "4  2016    I  Haliaeetus albicilla  Aves  Falconiformes  Accipitridae   \n",
       "\n",
       "        Genus Importer Exporter Origin  Importer reported quantity  \\\n",
       "0      Aquila       TR       NL     CZ                         NaN   \n",
       "1      Aquila       XV       RS     RS                         NaN   \n",
       "2  Haliaeetus       BE       NO    NaN                         NaN   \n",
       "3  Haliaeetus       BE       NO    NaN                         NaN   \n",
       "4  Haliaeetus       DK       IS    NaN                       700.0   \n",
       "\n",
       "   Exporter reported quantity       Term Unit Purpose Source  \n",
       "0                         1.0     bodies  NaN       T      C  \n",
       "1                         1.0     bodies  NaN       Q      O  \n",
       "2                        43.0   feathers  NaN       S      W  \n",
       "3                        43.0  specimens  NaN       S      W  \n",
       "4                         NaN  specimens  NaN       S      W  "
      ]
     },
     "execution_count": 2,
     "metadata": {},
     "output_type": "execute_result"
    }
   ],
   "source": [
    "data = pd.read_csv(\"wildlife.csv\")\n",
    "data.head()"
   ]
  },
  {
   "cell_type": "code",
   "execution_count": 3,
   "metadata": {
    "colab": {
     "base_uri": "https://localhost:8080/",
     "height": 87
    },
    "colab_type": "code",
    "executionInfo": {
     "elapsed": 322,
     "status": "ok",
     "timestamp": 1591675806473,
     "user": {
      "displayName": "Maxim Geller",
      "photoUrl": "https://lh3.googleusercontent.com/a-/AOh14Gg5R1D-H8nVyvzU5wxYjD24Tcavzupk3iBUaJ_i=s64",
      "userId": "14378199586879751498"
     },
     "user_tz": 240
    },
    "id": "fHn6RYc2MBAJ",
    "outputId": "80fe1162-1412-4f8b-d22e-ea57131d188d"
   },
   "outputs": [
    {
     "data": {
      "text/plain": [
       "Index(['Year', 'App.', 'Taxon', 'Class', 'Order', 'Family', 'Genus',\n",
       "       'Importer', 'Exporter', 'Origin', 'Importer reported quantity',\n",
       "       'Exporter reported quantity', 'Term', 'Unit', 'Purpose', 'Source'],\n",
       "      dtype='object')"
      ]
     },
     "execution_count": 3,
     "metadata": {},
     "output_type": "execute_result"
    }
   ],
   "source": [
    "data.columns"
   ]
  },
  {
   "cell_type": "code",
   "execution_count": 4,
   "metadata": {
    "colab": {
     "base_uri": "https://localhost:8080/",
     "height": 422
    },
    "colab_type": "code",
    "executionInfo": {
     "elapsed": 393,
     "status": "ok",
     "timestamp": 1591675422212,
     "user": {
      "displayName": "Maxim Geller",
      "photoUrl": "https://lh3.googleusercontent.com/a-/AOh14Gg5R1D-H8nVyvzU5wxYjD24Tcavzupk3iBUaJ_i=s64",
      "userId": "14378199586879751498"
     },
     "user_tz": 240
    },
    "id": "iRsMMoE7MDqu",
    "outputId": "6a2d5fbd-9f3d-496c-fd43-0208a9d1b2b5"
   },
   "outputs": [
    {
     "name": "stdout",
     "output_type": "stream",
     "text": [
      "<class 'pandas.core.frame.DataFrame'>\n",
      "RangeIndex: 67161 entries, 0 to 67160\n",
      "Data columns (total 16 columns):\n",
      " #   Column                      Non-Null Count  Dtype  \n",
      "---  ------                      --------------  -----  \n",
      " 0   Year                        67161 non-null  int64  \n",
      " 1   App.                        67161 non-null  object \n",
      " 2   Taxon                       67161 non-null  object \n",
      " 3   Class                       46937 non-null  object \n",
      " 4   Order                       67104 non-null  object \n",
      " 5   Family                      66700 non-null  object \n",
      " 6   Genus                       65702 non-null  object \n",
      " 7   Importer                    67090 non-null  object \n",
      " 8   Exporter                    66588 non-null  object \n",
      " 9   Origin                      25643 non-null  object \n",
      " 10  Importer reported quantity  31866 non-null  float64\n",
      " 11  Exporter reported quantity  44021 non-null  float64\n",
      " 12  Term                        67161 non-null  object \n",
      " 13  Unit                        6402 non-null   object \n",
      " 14  Purpose                     61102 non-null  object \n",
      " 15  Source                      66617 non-null  object \n",
      "dtypes: float64(2), int64(1), object(13)\n",
      "memory usage: 8.2+ MB\n"
     ]
    }
   ],
   "source": [
    "data.info()"
   ]
  },
  {
   "cell_type": "markdown",
   "metadata": {
    "colab_type": "text",
    "id": "bkROf-HSPAXd"
   },
   "source": [
    "Some questions to answer:\n",
    "- what class is the most imported/exported?\n",
    "- what is the most common genus?\n",
    "- ??\n",
    "First though, let's clean this data up. I can see that a lot of the column are irrelevant to us"
   ]
  },
  {
   "cell_type": "code",
   "execution_count": 5,
   "metadata": {
    "colab": {
     "base_uri": "https://localhost:8080/",
     "height": 195
    },
    "colab_type": "code",
    "executionInfo": {
     "elapsed": 340,
     "status": "ok",
     "timestamp": 1591675809058,
     "user": {
      "displayName": "Maxim Geller",
      "photoUrl": "https://lh3.googleusercontent.com/a-/AOh14Gg5R1D-H8nVyvzU5wxYjD24Tcavzupk3iBUaJ_i=s64",
      "userId": "14378199586879751498"
     },
     "user_tz": 240
    },
    "id": "JO2bYbH1POTO",
    "outputId": "8ffd5c46-9bc3-4cd8-a8b2-b4f1b87c7b82"
   },
   "outputs": [
    {
     "data": {
      "text/html": [
       "<div>\n",
       "<style scoped>\n",
       "    .dataframe tbody tr th:only-of-type {\n",
       "        vertical-align: middle;\n",
       "    }\n",
       "\n",
       "    .dataframe tbody tr th {\n",
       "        vertical-align: top;\n",
       "    }\n",
       "\n",
       "    .dataframe thead th {\n",
       "        text-align: right;\n",
       "    }\n",
       "</style>\n",
       "<table border=\"1\" class=\"dataframe\">\n",
       "  <thead>\n",
       "    <tr style=\"text-align: right;\">\n",
       "      <th></th>\n",
       "      <th>Taxon</th>\n",
       "      <th>Class</th>\n",
       "      <th>Order</th>\n",
       "      <th>Family</th>\n",
       "      <th>Genus</th>\n",
       "      <th>Importer</th>\n",
       "      <th>Exporter</th>\n",
       "      <th>Origin</th>\n",
       "      <th>Import Quantity</th>\n",
       "      <th>Export Quantity</th>\n",
       "      <th>Term</th>\n",
       "    </tr>\n",
       "  </thead>\n",
       "  <tbody>\n",
       "    <tr>\n",
       "      <th>0</th>\n",
       "      <td>Aquila heliaca</td>\n",
       "      <td>Aves</td>\n",
       "      <td>Falconiformes</td>\n",
       "      <td>Accipitridae</td>\n",
       "      <td>Aquila</td>\n",
       "      <td>TR</td>\n",
       "      <td>NL</td>\n",
       "      <td>CZ</td>\n",
       "      <td>NaN</td>\n",
       "      <td>1.0</td>\n",
       "      <td>bodies</td>\n",
       "    </tr>\n",
       "    <tr>\n",
       "      <th>1</th>\n",
       "      <td>Aquila heliaca</td>\n",
       "      <td>Aves</td>\n",
       "      <td>Falconiformes</td>\n",
       "      <td>Accipitridae</td>\n",
       "      <td>Aquila</td>\n",
       "      <td>XV</td>\n",
       "      <td>RS</td>\n",
       "      <td>RS</td>\n",
       "      <td>NaN</td>\n",
       "      <td>1.0</td>\n",
       "      <td>bodies</td>\n",
       "    </tr>\n",
       "    <tr>\n",
       "      <th>2</th>\n",
       "      <td>Haliaeetus albicilla</td>\n",
       "      <td>Aves</td>\n",
       "      <td>Falconiformes</td>\n",
       "      <td>Accipitridae</td>\n",
       "      <td>Haliaeetus</td>\n",
       "      <td>BE</td>\n",
       "      <td>NO</td>\n",
       "      <td>NaN</td>\n",
       "      <td>NaN</td>\n",
       "      <td>43.0</td>\n",
       "      <td>feathers</td>\n",
       "    </tr>\n",
       "    <tr>\n",
       "      <th>3</th>\n",
       "      <td>Haliaeetus albicilla</td>\n",
       "      <td>Aves</td>\n",
       "      <td>Falconiformes</td>\n",
       "      <td>Accipitridae</td>\n",
       "      <td>Haliaeetus</td>\n",
       "      <td>BE</td>\n",
       "      <td>NO</td>\n",
       "      <td>NaN</td>\n",
       "      <td>NaN</td>\n",
       "      <td>43.0</td>\n",
       "      <td>specimens</td>\n",
       "    </tr>\n",
       "    <tr>\n",
       "      <th>4</th>\n",
       "      <td>Haliaeetus albicilla</td>\n",
       "      <td>Aves</td>\n",
       "      <td>Falconiformes</td>\n",
       "      <td>Accipitridae</td>\n",
       "      <td>Haliaeetus</td>\n",
       "      <td>DK</td>\n",
       "      <td>IS</td>\n",
       "      <td>NaN</td>\n",
       "      <td>700.0</td>\n",
       "      <td>NaN</td>\n",
       "      <td>specimens</td>\n",
       "    </tr>\n",
       "  </tbody>\n",
       "</table>\n",
       "</div>"
      ],
      "text/plain": [
       "                  Taxon Class          Order        Family       Genus  \\\n",
       "0        Aquila heliaca  Aves  Falconiformes  Accipitridae      Aquila   \n",
       "1        Aquila heliaca  Aves  Falconiformes  Accipitridae      Aquila   \n",
       "2  Haliaeetus albicilla  Aves  Falconiformes  Accipitridae  Haliaeetus   \n",
       "3  Haliaeetus albicilla  Aves  Falconiformes  Accipitridae  Haliaeetus   \n",
       "4  Haliaeetus albicilla  Aves  Falconiformes  Accipitridae  Haliaeetus   \n",
       "\n",
       "  Importer Exporter Origin  Import Quantity  Export Quantity       Term  \n",
       "0       TR       NL     CZ              NaN              1.0     bodies  \n",
       "1       XV       RS     RS              NaN              1.0     bodies  \n",
       "2       BE       NO    NaN              NaN             43.0   feathers  \n",
       "3       BE       NO    NaN              NaN             43.0  specimens  \n",
       "4       DK       IS    NaN            700.0              NaN  specimens  "
      ]
     },
     "execution_count": 5,
     "metadata": {},
     "output_type": "execute_result"
    }
   ],
   "source": [
    "data = data.drop([\"Year\", \"App.\", \"Unit\", \"Purpose\", \"Source\"], axis = 1)\n",
    "data = data.rename(columns={\"Importer reported quantity\": \"Import Quantity\", \"Exporter reported quantity\": \"Export Quantity\"})\n",
    "data.head()"
   ]
  },
  {
   "cell_type": "markdown",
   "metadata": {
    "colab_type": "text",
    "id": "w38Gb_5iP67y"
   },
   "source": [
    "Okay, that's a little more palletable. However, I noticed there are lots of NaN records and also some columns with whitespace. Let's deal with the whitespace stuff first. I'm gonna apply a lambda function to do this."
   ]
  },
  {
   "cell_type": "code",
   "execution_count": 6,
   "metadata": {
    "colab": {
     "base_uri": "https://localhost:8080/",
     "height": 34
    },
    "colab_type": "code",
    "executionInfo": {
     "elapsed": 348,
     "status": "ok",
     "timestamp": 1591675811262,
     "user": {
      "displayName": "Maxim Geller",
      "photoUrl": "https://lh3.googleusercontent.com/a-/AOh14Gg5R1D-H8nVyvzU5wxYjD24Tcavzupk3iBUaJ_i=s64",
      "userId": "14378199586879751498"
     },
     "user_tz": 240
    },
    "id": "6ax2NZ-iQsaP",
    "outputId": "2346ae14-7730-48ad-a214-0a5f07148b00"
   },
   "outputs": [
    {
     "data": {
      "text/plain": [
       "1341"
      ]
     },
     "execution_count": 6,
     "metadata": {},
     "output_type": "execute_result"
    }
   ],
   "source": [
    "unique_genus = data[\"Genus\"].unique()\n",
    "len(unique_genus)"
   ]
  },
  {
   "cell_type": "code",
   "execution_count": 7,
   "metadata": {
    "colab": {
     "base_uri": "https://localhost:8080/",
     "height": 34
    },
    "colab_type": "code",
    "executionInfo": {
     "elapsed": 318,
     "status": "ok",
     "timestamp": 1591675860552,
     "user": {
      "displayName": "Maxim Geller",
      "photoUrl": "https://lh3.googleusercontent.com/a-/AOh14Gg5R1D-H8nVyvzU5wxYjD24Tcavzupk3iBUaJ_i=s64",
      "userId": "14378199586879751498"
     },
     "user_tz": 240
    },
    "id": "-z1LGyaMRZM_",
    "outputId": "8a0cd94b-ecca-4daa-8808-6b74a664b9c4"
   },
   "outputs": [
    {
     "data": {
      "text/plain": [
       "253"
      ]
     },
     "execution_count": 7,
     "metadata": {},
     "output_type": "execute_result"
    }
   ],
   "source": [
    "unique_fam = data[\"Family\"].unique()\n",
    "len(unique_fam)"
   ]
  },
  {
   "cell_type": "code",
   "execution_count": 8,
   "metadata": {
    "colab": {
     "base_uri": "https://localhost:8080/",
     "height": 34
    },
    "colab_type": "code",
    "executionInfo": {
     "elapsed": 334,
     "status": "ok",
     "timestamp": 1591675861882,
     "user": {
      "displayName": "Maxim Geller",
      "photoUrl": "https://lh3.googleusercontent.com/a-/AOh14Gg5R1D-H8nVyvzU5wxYjD24Tcavzupk3iBUaJ_i=s64",
      "userId": "14378199586879751498"
     },
     "user_tz": 240
    },
    "id": "GCsNDJe9Rdzj",
    "outputId": "0ad5071e-0650-4b5a-c70c-513accd81835"
   },
   "outputs": [
    {
     "data": {
      "text/plain": [
       "102"
      ]
     },
     "execution_count": 8,
     "metadata": {},
     "output_type": "execute_result"
    }
   ],
   "source": [
    "unique_order = data[\"Order\"].unique()\n",
    "len(unique_order)"
   ]
  },
  {
   "cell_type": "code",
   "execution_count": 9,
   "metadata": {
    "colab": {
     "base_uri": "https://localhost:8080/",
     "height": 34
    },
    "colab_type": "code",
    "executionInfo": {
     "elapsed": 317,
     "status": "ok",
     "timestamp": 1591676007524,
     "user": {
      "displayName": "Maxim Geller",
      "photoUrl": "https://lh3.googleusercontent.com/a-/AOh14Gg5R1D-H8nVyvzU5wxYjD24Tcavzupk3iBUaJ_i=s64",
      "userId": "14378199586879751498"
     },
     "user_tz": 240
    },
    "id": "Emxa3EKPSBba",
    "outputId": "05cbebfd-2797-4367-a4af-78bfc94a7ee7"
   },
   "outputs": [
    {
     "data": {
      "text/plain": [
       "17"
      ]
     },
     "execution_count": 9,
     "metadata": {},
     "output_type": "execute_result"
    }
   ],
   "source": [
    "unique_class = data[\"Class\"].unique()\n",
    "len(unique_class)"
   ]
  },
  {
   "cell_type": "markdown",
   "metadata": {
    "colab_type": "text",
    "id": "9ocvzwXcSJAH"
   },
   "source": [
    "Just 17 different classes! Could be interesting to count up how many of each there are!"
   ]
  },
  {
   "cell_type": "code",
   "execution_count": 10,
   "metadata": {
    "colab": {},
    "colab_type": "code",
    "id": "YQrN9AR8QQaG"
   },
   "outputs": [],
   "source": [
    "data = data.apply(lambda x: x.str.strip() if x.dtype == \"object\" else x)"
   ]
  },
  {
   "cell_type": "code",
   "execution_count": 11,
   "metadata": {
    "colab": {
     "base_uri": "https://localhost:8080/",
     "height": 34
    },
    "colab_type": "code",
    "executionInfo": {
     "elapsed": 360,
     "status": "ok",
     "timestamp": 1591675916862,
     "user": {
      "displayName": "Maxim Geller",
      "photoUrl": "https://lh3.googleusercontent.com/a-/AOh14Gg5R1D-H8nVyvzU5wxYjD24Tcavzupk3iBUaJ_i=s64",
      "userId": "14378199586879751498"
     },
     "user_tz": 240
    },
    "id": "8-sccMPFRLuW",
    "outputId": "614240f4-48b8-4f34-8d0e-8d24101868e4"
   },
   "outputs": [
    {
     "name": "stdout",
     "output_type": "stream",
     "text": [
      "1341 253 102\n"
     ]
    }
   ],
   "source": [
    "print(len(unique_genus), len(unique_fam), len(unique_order))"
   ]
  },
  {
   "cell_type": "markdown",
   "metadata": {
    "colab_type": "text",
    "id": "jAD0VARpR0LZ"
   },
   "source": [
    "Hmm, seems like this wasn't actually an issue."
   ]
  },
  {
   "cell_type": "code",
   "execution_count": 12,
   "metadata": {
    "colab": {
     "base_uri": "https://localhost:8080/",
     "height": 616
    },
    "colab_type": "code",
    "executionInfo": {
     "elapsed": 551,
     "status": "ok",
     "timestamp": 1591676539316,
     "user": {
      "displayName": "Maxim Geller",
      "photoUrl": "https://lh3.googleusercontent.com/a-/AOh14Gg5R1D-H8nVyvzU5wxYjD24Tcavzupk3iBUaJ_i=s64",
      "userId": "14378199586879751498"
     },
     "user_tz": 240
    },
    "id": "dBcYMRb0R3op",
    "outputId": "e1d729f3-be3c-4b0b-e054-920a98c80e5f"
   },
   "outputs": [
    {
     "data": {
      "text/plain": [
       "[Text(0, 0, 'Coelacanthi'),\n",
       " Text(0, 0, 'Dipneusti'),\n",
       " Text(0, 0, 'Holothuroidea'),\n",
       " Text(0, 0, 'Hirudinoidea'),\n",
       " Text(0, 0, 'Arachnida'),\n",
       " Text(0, 0, 'Elasmobranchii'),\n",
       " Text(0, 0, 'Hydrozoa'),\n",
       " Text(0, 0, 'Gastropoda'),\n",
       " Text(0, 0, 'Bivalvia'),\n",
       " Text(0, 0, 'Insecta'),\n",
       " Text(0, 0, 'Amphibia'),\n",
       " Text(0, 0, 'Actinopteri'),\n",
       " Text(0, 0, 'Aves'),\n",
       " Text(0, 0, 'Mammalia'),\n",
       " Text(0, 0, 'Anthozoa'),\n",
       " Text(0, 0, 'Reptilia')]"
      ]
     },
     "execution_count": 12,
     "metadata": {},
     "output_type": "execute_result"
    },
    {
     "data": {
      "image/png": "[encoded data removed]",
      "text/plain": [
       "<Figure size 432x288 with 1 Axes>"
      ]
     },
     "metadata": {
      "needs_background": "light"
     },
     "output_type": "display_data"
    }
   ],
   "source": [
    "class_ax = sns.countplot(x=\"Class\", data=data, order=data[\"Class\"].value_counts(ascending = True).index, palette=\"Blues\")\n",
    "class_labels = class_ax.get_xticklabels()\n",
    "class_ax.set_xticklabels(class_labels, rotation=50)\n"
   ]
  },
  {
   "cell_type": "markdown",
   "metadata": {
    "colab_type": "text",
    "id": "YrspooVpULOn"
   },
   "source": [
    "Ah! Looks like reptiles are the most often counted class. Reptiles are likely traded as exotic pets (sometimes illegally). However, I noticed our data creates extra entries for the exact same species imported or exported from a different country. This could mess up our counts. I'm going to try filtering out those features and grouping all the way down to the genus and see if the counts change."
   ]
  },
  {
   "cell_type": "code",
   "execution_count": 13,
   "metadata": {
    "colab": {
     "base_uri": "https://localhost:8080/",
     "height": 34
    },
    "colab_type": "code",
    "executionInfo": {
     "elapsed": 474,
     "status": "ok",
     "timestamp": 1591677970538,
     "user": {
      "displayName": "Maxim Geller",
      "photoUrl": "https://lh3.googleusercontent.com/a-/AOh14Gg5R1D-H8nVyvzU5wxYjD24Tcavzupk3iBUaJ_i=s64",
      "userId": "14378199586879751498"
     },
     "user_tz": 240
    },
    "id": "F9zbqNfyUcpn",
    "outputId": "3d3f0b33-7cd7-45fe-c2c4-1162f9e91613"
   },
   "outputs": [
    {
     "data": {
      "text/plain": [
       "(67161, 5)"
      ]
     },
     "execution_count": 13,
     "metadata": {},
     "output_type": "execute_result"
    }
   ],
   "source": [
    "classes_filtered = data.filter([\"Taxon\", \"Class\", \"Order\", \"Family\", \"Genus\"])\n",
    "classes_filtered.shape\n",
    "\n"
   ]
  },
  {
   "cell_type": "code",
   "execution_count": 14,
   "metadata": {
    "colab": {
     "base_uri": "https://localhost:8080/",
     "height": 34
    },
    "colab_type": "code",
    "executionInfo": {
     "elapsed": 342,
     "status": "ok",
     "timestamp": 1591678005945,
     "user": {
      "displayName": "Maxim Geller",
      "photoUrl": "https://lh3.googleusercontent.com/a-/AOh14Gg5R1D-H8nVyvzU5wxYjD24Tcavzupk3iBUaJ_i=s64",
      "userId": "14378199586879751498"
     },
     "user_tz": 240
    },
    "id": "j7THBS7yXtG4",
    "outputId": "4c4d70d2-ee74-4ff3-c795-980c9e7cf7c7"
   },
   "outputs": [
    {
     "data": {
      "text/plain": [
       "(6383, 5)"
      ]
     },
     "execution_count": 14,
     "metadata": {},
     "output_type": "execute_result"
    }
   ],
   "source": [
    "classes_no_dups = classes_filtered.drop_duplicates(keep=\"first\", inplace=False)\n",
    "classes_no_dups.shape"
   ]
  },
  {
   "cell_type": "code",
   "execution_count": 15,
   "metadata": {
    "colab": {
     "base_uri": "https://localhost:8080/",
     "height": 616
    },
    "colab_type": "code",
    "executionInfo": {
     "elapsed": 1178,
     "status": "ok",
     "timestamp": 1591678142418,
     "user": {
      "displayName": "Maxim Geller",
      "photoUrl": "https://lh3.googleusercontent.com/a-/AOh14Gg5R1D-H8nVyvzU5wxYjD24Tcavzupk3iBUaJ_i=s64",
      "userId": "14378199586879751498"
     },
     "user_tz": 240
    },
    "id": "b7Z4VHevZyXs",
    "outputId": "d0b106de-53a6-4af2-ce32-c03c24231f29"
   },
   "outputs": [
    {
     "data": {
      "text/plain": [
       "[Text(0, 0, 'Holothuroidea'),\n",
       " Text(0, 0, 'Dipneusti'),\n",
       " Text(0, 0, 'Coelacanthi'),\n",
       " Text(0, 0, 'Gastropoda'),\n",
       " Text(0, 0, 'Hirudinoidea'),\n",
       " Text(0, 0, 'Bivalvia'),\n",
       " Text(0, 0, 'Elasmobranchii'),\n",
       " Text(0, 0, 'Arachnida'),\n",
       " Text(0, 0, 'Insecta'),\n",
       " Text(0, 0, 'Hydrozoa'),\n",
       " Text(0, 0, 'Actinopteri'),\n",
       " Text(0, 0, 'Amphibia'),\n",
       " Text(0, 0, 'Reptilia'),\n",
       " Text(0, 0, 'Mammalia'),\n",
       " Text(0, 0, 'Anthozoa'),\n",
       " Text(0, 0, 'Aves')]"
      ]
     },
     "execution_count": 15,
     "metadata": {},
     "output_type": "execute_result"
    },
    {
     "data": {
      "image/png": "[encoded data removed]",
      "text/plain": [
       "<Figure size 432x288 with 1 Axes>"
      ]
     },
     "metadata": {
      "needs_background": "light"
     },
     "output_type": "display_data"
    }
   ],
   "source": [
    "# Let's replot the graph freom before with this cleaner data\n",
    "new_class_ax = sns.countplot(x=\"Class\", data=classes_no_dups, order=classes_no_dups[\"Class\"].value_counts(ascending = True).index, palette=\"Blues\")\n",
    "new_class_labels = new_class_ax.get_xticklabels()\n",
    "new_class_ax.set_xticklabels(new_class_labels, rotation=50)\n"
   ]
  },
  {
   "cell_type": "markdown",
   "metadata": {
    "colab_type": "text",
    "id": "OTHT6HmvaSU_"
   },
   "source": [
    "We learned something different! Birds actually seem to be the most often occuring, with sea corals, mammals, and reptiles following closely behind."
   ]
  },
  {
   "cell_type": "markdown",
   "metadata": {
    "colab_type": "text",
    "id": "Qo_E1BIxbBh3"
   },
   "source": [
    "What else can we do? I want to examine the terms column a little closer"
   ]
  },
  {
   "cell_type": "code",
   "execution_count": 16,
   "metadata": {
    "colab": {
     "base_uri": "https://localhost:8080/",
     "height": 316
    },
    "colab_type": "code",
    "executionInfo": {
     "elapsed": 392,
     "status": "ok",
     "timestamp": 1591678892683,
     "user": {
      "displayName": "Maxim Geller",
      "photoUrl": "https://lh3.googleusercontent.com/a-/AOh14Gg5R1D-H8nVyvzU5wxYjD24Tcavzupk3iBUaJ_i=s64",
      "userId": "14378199586879751498"
     },
     "user_tz": 240
    },
    "id": "1hnterLtafC5",
    "outputId": "ba555aa1-519d-4d72-f9eb-5cc82b087f06"
   },
   "outputs": [
    {
     "data": {
      "text/plain": [
       "array(['bodies', 'feathers', 'specimens', 'live', 'caviar', 'skins',\n",
       "       'seeds', 'hair', 'carvings', 'baleen', 'bone pieces',\n",
       "       'bone carvings', 'teeth', 'skin pieces', 'meat', 'bones',\n",
       "       'jewellery', 'skeletons', 'trophies', 'horns', 'skulls',\n",
       "       'fur product (small)', 'garments', 'dried plants', 'extract',\n",
       "       'cloth', 'unspecified', 'shells', 'eggshell', 'carapaces',\n",
       "       'leather products (small)', 'oil', 'eggs', 'scales', 'genitalia',\n",
       "       'medicine', 'roots', 'powder', 'derivatives',\n",
       "       'leather products (large)', 'rug', 'tails', 'cosmetics',\n",
       "       'ivory carvings', 'ivory pieces', 'piano keys', 'tusks',\n",
       "       'jewellery - ivory', 'feet', 'ears', 'claws', 'eggs (live)',\n",
       "       'wood product', 'sawn wood', 'veneer', 'musk', 'cultures', 'stems',\n",
       "       'flowers', 'fins', 'horn carvings', 'horn pieces', 'swim bladders',\n",
       "       'gall', 'coral sand', 'fingerlings', 'raw corals', 'sides',\n",
       "       'plates', 'leaves', 'fibres', 'timber', 'hair products',\n",
       "       'fur products (large)', 'chips', 'trunk', 'wax', 'logs', 'pupae',\n",
       "       'gall bladders', 'bark', 'fruit', 'pearl'], dtype=object)"
      ]
     },
     "execution_count": 16,
     "metadata": {},
     "output_type": "execute_result"
    }
   ],
   "source": [
    "data[\"Term\"].unique()"
   ]
  },
  {
   "cell_type": "markdown",
   "metadata": {
    "colab_type": "text",
    "id": "0aIWF_JidKVh"
   },
   "source": [
    "Oh! I want to look at the most common trophy species"
   ]
  },
  {
   "cell_type": "code",
   "execution_count": 17,
   "metadata": {
    "colab": {
     "base_uri": "https://localhost:8080/",
     "height": 402
    },
    "colab_type": "code",
    "executionInfo": {
     "elapsed": 393,
     "status": "ok",
     "timestamp": 1591678922630,
     "user": {
      "displayName": "Maxim Geller",
      "photoUrl": "https://lh3.googleusercontent.com/a-/AOh14Gg5R1D-H8nVyvzU5wxYjD24Tcavzupk3iBUaJ_i=s64",
      "userId": "14378199586879751498"
     },
     "user_tz": 240
    },
    "id": "uKf8xreldN_c",
    "outputId": "a69c3eb0-5dfc-4794-f1d1-d30607289433"
   },
   "outputs": [
    {
     "data": {
      "text/html": [
       "<div>\n",
       "<style scoped>\n",
       "    .dataframe tbody tr th:only-of-type {\n",
       "        vertical-align: middle;\n",
       "    }\n",
       "\n",
       "    .dataframe tbody tr th {\n",
       "        vertical-align: top;\n",
       "    }\n",
       "\n",
       "    .dataframe thead th {\n",
       "        text-align: right;\n",
       "    }\n",
       "</style>\n",
       "<table border=\"1\" class=\"dataframe\">\n",
       "  <thead>\n",
       "    <tr style=\"text-align: right;\">\n",
       "      <th></th>\n",
       "      <th>Taxon</th>\n",
       "      <th>Class</th>\n",
       "      <th>Order</th>\n",
       "      <th>Family</th>\n",
       "      <th>Genus</th>\n",
       "      <th>Importer</th>\n",
       "      <th>Exporter</th>\n",
       "      <th>Origin</th>\n",
       "      <th>Import Quantity</th>\n",
       "      <th>Export Quantity</th>\n",
       "      <th>Term</th>\n",
       "    </tr>\n",
       "  </thead>\n",
       "  <tbody>\n",
       "    <tr>\n",
       "      <th>151</th>\n",
       "      <td>Addax nasomaculatus</td>\n",
       "      <td>Mammalia</td>\n",
       "      <td>Artiodactyla</td>\n",
       "      <td>Bovidae</td>\n",
       "      <td>Addax</td>\n",
       "      <td>AR</td>\n",
       "      <td>US</td>\n",
       "      <td>NaN</td>\n",
       "      <td>1.0</td>\n",
       "      <td>1.0</td>\n",
       "      <td>trophies</td>\n",
       "    </tr>\n",
       "    <tr>\n",
       "      <th>152</th>\n",
       "      <td>Addax nasomaculatus</td>\n",
       "      <td>Mammalia</td>\n",
       "      <td>Artiodactyla</td>\n",
       "      <td>Bovidae</td>\n",
       "      <td>Addax</td>\n",
       "      <td>CA</td>\n",
       "      <td>US</td>\n",
       "      <td>NaN</td>\n",
       "      <td>NaN</td>\n",
       "      <td>1.0</td>\n",
       "      <td>trophies</td>\n",
       "    </tr>\n",
       "    <tr>\n",
       "      <th>153</th>\n",
       "      <td>Addax nasomaculatus</td>\n",
       "      <td>Mammalia</td>\n",
       "      <td>Artiodactyla</td>\n",
       "      <td>Bovidae</td>\n",
       "      <td>Addax</td>\n",
       "      <td>FR</td>\n",
       "      <td>FR</td>\n",
       "      <td>US</td>\n",
       "      <td>1.0</td>\n",
       "      <td>1.0</td>\n",
       "      <td>trophies</td>\n",
       "    </tr>\n",
       "    <tr>\n",
       "      <th>154</th>\n",
       "      <td>Addax nasomaculatus</td>\n",
       "      <td>Mammalia</td>\n",
       "      <td>Artiodactyla</td>\n",
       "      <td>Bovidae</td>\n",
       "      <td>Addax</td>\n",
       "      <td>FR</td>\n",
       "      <td>US</td>\n",
       "      <td>NaN</td>\n",
       "      <td>NaN</td>\n",
       "      <td>1.0</td>\n",
       "      <td>trophies</td>\n",
       "    </tr>\n",
       "    <tr>\n",
       "      <th>156</th>\n",
       "      <td>Addax nasomaculatus</td>\n",
       "      <td>Mammalia</td>\n",
       "      <td>Artiodactyla</td>\n",
       "      <td>Bovidae</td>\n",
       "      <td>Addax</td>\n",
       "      <td>HU</td>\n",
       "      <td>US</td>\n",
       "      <td>NaN</td>\n",
       "      <td>3.0</td>\n",
       "      <td>NaN</td>\n",
       "      <td>trophies</td>\n",
       "    </tr>\n",
       "    <tr>\n",
       "      <th>...</th>\n",
       "      <td>...</td>\n",
       "      <td>...</td>\n",
       "      <td>...</td>\n",
       "      <td>...</td>\n",
       "      <td>...</td>\n",
       "      <td>...</td>\n",
       "      <td>...</td>\n",
       "      <td>...</td>\n",
       "      <td>...</td>\n",
       "      <td>...</td>\n",
       "      <td>...</td>\n",
       "    </tr>\n",
       "    <tr>\n",
       "      <th>67088</th>\n",
       "      <td>Caracal caracal</td>\n",
       "      <td>Mammalia</td>\n",
       "      <td>Carnivora</td>\n",
       "      <td>Felidae</td>\n",
       "      <td>Caracal</td>\n",
       "      <td>US</td>\n",
       "      <td>ET</td>\n",
       "      <td>NaN</td>\n",
       "      <td>NaN</td>\n",
       "      <td>1.0</td>\n",
       "      <td>trophies</td>\n",
       "    </tr>\n",
       "    <tr>\n",
       "      <th>67089</th>\n",
       "      <td>Felis silvestris</td>\n",
       "      <td>Mammalia</td>\n",
       "      <td>Carnivora</td>\n",
       "      <td>Felidae</td>\n",
       "      <td>Felis</td>\n",
       "      <td>MX</td>\n",
       "      <td>ET</td>\n",
       "      <td>NaN</td>\n",
       "      <td>NaN</td>\n",
       "      <td>1.0</td>\n",
       "      <td>trophies</td>\n",
       "    </tr>\n",
       "    <tr>\n",
       "      <th>67090</th>\n",
       "      <td>Felis silvestris</td>\n",
       "      <td>Mammalia</td>\n",
       "      <td>Carnivora</td>\n",
       "      <td>Felidae</td>\n",
       "      <td>Felis</td>\n",
       "      <td>US</td>\n",
       "      <td>ET</td>\n",
       "      <td>NaN</td>\n",
       "      <td>NaN</td>\n",
       "      <td>4.0</td>\n",
       "      <td>trophies</td>\n",
       "    </tr>\n",
       "    <tr>\n",
       "      <th>67147</th>\n",
       "      <td>Ursus arctos</td>\n",
       "      <td>Mammalia</td>\n",
       "      <td>Carnivora</td>\n",
       "      <td>Ursidae</td>\n",
       "      <td>Ursus</td>\n",
       "      <td>BG</td>\n",
       "      <td>RU</td>\n",
       "      <td>NaN</td>\n",
       "      <td>1.0</td>\n",
       "      <td>NaN</td>\n",
       "      <td>trophies</td>\n",
       "    </tr>\n",
       "    <tr>\n",
       "      <th>67156</th>\n",
       "      <td>Canis aureus</td>\n",
       "      <td>Mammalia</td>\n",
       "      <td>Carnivora</td>\n",
       "      <td>Canidae</td>\n",
       "      <td>Canis</td>\n",
       "      <td>US</td>\n",
       "      <td>ET</td>\n",
       "      <td>NaN</td>\n",
       "      <td>NaN</td>\n",
       "      <td>7.0</td>\n",
       "      <td>trophies</td>\n",
       "    </tr>\n",
       "  </tbody>\n",
       "</table>\n",
       "<p>1603 rows × 11 columns</p>\n",
       "</div>"
      ],
      "text/plain": [
       "                     Taxon     Class         Order   Family    Genus Importer  \\\n",
       "151    Addax nasomaculatus  Mammalia  Artiodactyla  Bovidae    Addax       AR   \n",
       "152    Addax nasomaculatus  Mammalia  Artiodactyla  Bovidae    Addax       CA   \n",
       "153    Addax nasomaculatus  Mammalia  Artiodactyla  Bovidae    Addax       FR   \n",
       "154    Addax nasomaculatus  Mammalia  Artiodactyla  Bovidae    Addax       FR   \n",
       "156    Addax nasomaculatus  Mammalia  Artiodactyla  Bovidae    Addax       HU   \n",
       "...                    ...       ...           ...      ...      ...      ...   \n",
       "67088      Caracal caracal  Mammalia     Carnivora  Felidae  Caracal       US   \n",
       "67089     Felis silvestris  Mammalia     Carnivora  Felidae    Felis       MX   \n",
       "67090     Felis silvestris  Mammalia     Carnivora  Felidae    Felis       US   \n",
       "67147         Ursus arctos  Mammalia     Carnivora  Ursidae    Ursus       BG   \n",
       "67156         Canis aureus  Mammalia     Carnivora  Canidae    Canis       US   \n",
       "\n",
       "      Exporter Origin  Import Quantity  Export Quantity      Term  \n",
       "151         US    NaN              1.0              1.0  trophies  \n",
       "152         US    NaN              NaN              1.0  trophies  \n",
       "153         FR     US              1.0              1.0  trophies  \n",
       "154         US    NaN              NaN              1.0  trophies  \n",
       "156         US    NaN              3.0              NaN  trophies  \n",
       "...        ...    ...              ...              ...       ...  \n",
       "67088       ET    NaN              NaN              1.0  trophies  \n",
       "67089       ET    NaN              NaN              1.0  trophies  \n",
       "67090       ET    NaN              NaN              4.0  trophies  \n",
       "67147       RU    NaN              1.0              NaN  trophies  \n",
       "67156       ET    NaN              NaN              7.0  trophies  \n",
       "\n",
       "[1603 rows x 11 columns]"
      ]
     },
     "execution_count": 17,
     "metadata": {},
     "output_type": "execute_result"
    }
   ],
   "source": [
    "data[data[\"Term\"]==\"trophies\"]"
   ]
  },
  {
   "cell_type": "code",
   "execution_count": 18,
   "metadata": {
    "colab": {},
    "colab_type": "code",
    "id": "wgX7OfbFdO2M"
   },
   "outputs": [],
   "source": [
    "trophy_data = data.drop([\"Importer\", \"Exporter\", \"Origin\"], axis = 1).drop_duplicates(inplace=False)"
   ]
  },
  {
   "cell_type": "code",
   "execution_count": 19,
   "metadata": {
    "colab": {},
    "colab_type": "code",
    "id": "LPfSszncd0DS"
   },
   "outputs": [],
   "source": [
    "trophy_data = trophy_data[trophy_data[\"Term\"] == \"trophies\"]"
   ]
  },
  {
   "cell_type": "code",
   "execution_count": 20,
   "metadata": {
    "colab": {
     "base_uri": "https://localhost:8080/",
     "height": 402
    },
    "colab_type": "code",
    "executionInfo": {
     "elapsed": 387,
     "status": "ok",
     "timestamp": 1591679207583,
     "user": {
      "displayName": "Maxim Geller",
      "photoUrl": "https://lh3.googleusercontent.com/a-/AOh14Gg5R1D-H8nVyvzU5wxYjD24Tcavzupk3iBUaJ_i=s64",
      "userId": "14378199586879751498"
     },
     "user_tz": 240
    },
    "id": "lB6S07fpeSNq",
    "outputId": "34c0fce1-a917-45e7-cdc9-0c4841a1d26d"
   },
   "outputs": [
    {
     "data": {
      "text/html": [
       "<div>\n",
       "<style scoped>\n",
       "    .dataframe tbody tr th:only-of-type {\n",
       "        vertical-align: middle;\n",
       "    }\n",
       "\n",
       "    .dataframe tbody tr th {\n",
       "        vertical-align: top;\n",
       "    }\n",
       "\n",
       "    .dataframe thead th {\n",
       "        text-align: right;\n",
       "    }\n",
       "</style>\n",
       "<table border=\"1\" class=\"dataframe\">\n",
       "  <thead>\n",
       "    <tr style=\"text-align: right;\">\n",
       "      <th></th>\n",
       "      <th>Taxon</th>\n",
       "      <th>Class</th>\n",
       "      <th>Order</th>\n",
       "      <th>Family</th>\n",
       "      <th>Genus</th>\n",
       "      <th>Import Quantity</th>\n",
       "      <th>Export Quantity</th>\n",
       "      <th>Term</th>\n",
       "    </tr>\n",
       "  </thead>\n",
       "  <tbody>\n",
       "    <tr>\n",
       "      <th>151</th>\n",
       "      <td>Addax nasomaculatus</td>\n",
       "      <td>Mammalia</td>\n",
       "      <td>Artiodactyla</td>\n",
       "      <td>Bovidae</td>\n",
       "      <td>Addax</td>\n",
       "      <td>1.0</td>\n",
       "      <td>1.0</td>\n",
       "      <td>trophies</td>\n",
       "    </tr>\n",
       "    <tr>\n",
       "      <th>152</th>\n",
       "      <td>Addax nasomaculatus</td>\n",
       "      <td>Mammalia</td>\n",
       "      <td>Artiodactyla</td>\n",
       "      <td>Bovidae</td>\n",
       "      <td>Addax</td>\n",
       "      <td>NaN</td>\n",
       "      <td>1.0</td>\n",
       "      <td>trophies</td>\n",
       "    </tr>\n",
       "    <tr>\n",
       "      <th>156</th>\n",
       "      <td>Addax nasomaculatus</td>\n",
       "      <td>Mammalia</td>\n",
       "      <td>Artiodactyla</td>\n",
       "      <td>Bovidae</td>\n",
       "      <td>Addax</td>\n",
       "      <td>3.0</td>\n",
       "      <td>NaN</td>\n",
       "      <td>trophies</td>\n",
       "    </tr>\n",
       "    <tr>\n",
       "      <th>157</th>\n",
       "      <td>Addax nasomaculatus</td>\n",
       "      <td>Mammalia</td>\n",
       "      <td>Artiodactyla</td>\n",
       "      <td>Bovidae</td>\n",
       "      <td>Addax</td>\n",
       "      <td>NaN</td>\n",
       "      <td>2.0</td>\n",
       "      <td>trophies</td>\n",
       "    </tr>\n",
       "    <tr>\n",
       "      <th>163</th>\n",
       "      <td>Capra falconeri</td>\n",
       "      <td>Mammalia</td>\n",
       "      <td>Artiodactyla</td>\n",
       "      <td>Bovidae</td>\n",
       "      <td>Capra</td>\n",
       "      <td>1.0</td>\n",
       "      <td>NaN</td>\n",
       "      <td>trophies</td>\n",
       "    </tr>\n",
       "    <tr>\n",
       "      <th>...</th>\n",
       "      <td>...</td>\n",
       "      <td>...</td>\n",
       "      <td>...</td>\n",
       "      <td>...</td>\n",
       "      <td>...</td>\n",
       "      <td>...</td>\n",
       "      <td>...</td>\n",
       "      <td>...</td>\n",
       "    </tr>\n",
       "    <tr>\n",
       "      <th>67071</th>\n",
       "      <td>Colobus guereza</td>\n",
       "      <td>Mammalia</td>\n",
       "      <td>Primates</td>\n",
       "      <td>Cercopithecidae</td>\n",
       "      <td>Colobus</td>\n",
       "      <td>NaN</td>\n",
       "      <td>10.0</td>\n",
       "      <td>trophies</td>\n",
       "    </tr>\n",
       "    <tr>\n",
       "      <th>67077</th>\n",
       "      <td>Papio hamadryas</td>\n",
       "      <td>Mammalia</td>\n",
       "      <td>Primates</td>\n",
       "      <td>Cercopithecidae</td>\n",
       "      <td>Papio</td>\n",
       "      <td>NaN</td>\n",
       "      <td>13.0</td>\n",
       "      <td>trophies</td>\n",
       "    </tr>\n",
       "    <tr>\n",
       "      <th>67078</th>\n",
       "      <td>Theropithecus gelada</td>\n",
       "      <td>Mammalia</td>\n",
       "      <td>Primates</td>\n",
       "      <td>Cercopithecidae</td>\n",
       "      <td>Theropithecus</td>\n",
       "      <td>NaN</td>\n",
       "      <td>5.0</td>\n",
       "      <td>trophies</td>\n",
       "    </tr>\n",
       "    <tr>\n",
       "      <th>67090</th>\n",
       "      <td>Felis silvestris</td>\n",
       "      <td>Mammalia</td>\n",
       "      <td>Carnivora</td>\n",
       "      <td>Felidae</td>\n",
       "      <td>Felis</td>\n",
       "      <td>NaN</td>\n",
       "      <td>4.0</td>\n",
       "      <td>trophies</td>\n",
       "    </tr>\n",
       "    <tr>\n",
       "      <th>67156</th>\n",
       "      <td>Canis aureus</td>\n",
       "      <td>Mammalia</td>\n",
       "      <td>Carnivora</td>\n",
       "      <td>Canidae</td>\n",
       "      <td>Canis</td>\n",
       "      <td>NaN</td>\n",
       "      <td>7.0</td>\n",
       "      <td>trophies</td>\n",
       "    </tr>\n",
       "  </tbody>\n",
       "</table>\n",
       "<p>689 rows × 8 columns</p>\n",
       "</div>"
      ],
      "text/plain": [
       "                      Taxon     Class         Order           Family  \\\n",
       "151     Addax nasomaculatus  Mammalia  Artiodactyla          Bovidae   \n",
       "152     Addax nasomaculatus  Mammalia  Artiodactyla          Bovidae   \n",
       "156     Addax nasomaculatus  Mammalia  Artiodactyla          Bovidae   \n",
       "157     Addax nasomaculatus  Mammalia  Artiodactyla          Bovidae   \n",
       "163         Capra falconeri  Mammalia  Artiodactyla          Bovidae   \n",
       "...                     ...       ...           ...              ...   \n",
       "67071       Colobus guereza  Mammalia      Primates  Cercopithecidae   \n",
       "67077       Papio hamadryas  Mammalia      Primates  Cercopithecidae   \n",
       "67078  Theropithecus gelada  Mammalia      Primates  Cercopithecidae   \n",
       "67090      Felis silvestris  Mammalia     Carnivora          Felidae   \n",
       "67156          Canis aureus  Mammalia     Carnivora          Canidae   \n",
       "\n",
       "               Genus  Import Quantity  Export Quantity      Term  \n",
       "151            Addax              1.0              1.0  trophies  \n",
       "152            Addax              NaN              1.0  trophies  \n",
       "156            Addax              3.0              NaN  trophies  \n",
       "157            Addax              NaN              2.0  trophies  \n",
       "163            Capra              1.0              NaN  trophies  \n",
       "...              ...              ...              ...       ...  \n",
       "67071        Colobus              NaN             10.0  trophies  \n",
       "67077          Papio              NaN             13.0  trophies  \n",
       "67078  Theropithecus              NaN              5.0  trophies  \n",
       "67090          Felis              NaN              4.0  trophies  \n",
       "67156          Canis              NaN              7.0  trophies  \n",
       "\n",
       "[689 rows x 8 columns]"
      ]
     },
     "execution_count": 20,
     "metadata": {},
     "output_type": "execute_result"
    }
   ],
   "source": [
    "trophy_data"
   ]
  },
  {
   "cell_type": "code",
   "execution_count": 21,
   "metadata": {
    "colab": {
     "base_uri": "https://localhost:8080/",
     "height": 402
    },
    "colab_type": "code",
    "executionInfo": {
     "elapsed": 370,
     "status": "ok",
     "timestamp": 1591679405087,
     "user": {
      "displayName": "Maxim Geller",
      "photoUrl": "https://lh3.googleusercontent.com/a-/AOh14Gg5R1D-H8nVyvzU5wxYjD24Tcavzupk3iBUaJ_i=s64",
      "userId": "14378199586879751498"
     },
     "user_tz": 240
    },
    "id": "7QfLY1YeeZQS",
    "outputId": "55a7315d-33b6-407b-d92e-88a06033029a"
   },
   "outputs": [
    {
     "data": {
      "text/html": [
       "<div>\n",
       "<style scoped>\n",
       "    .dataframe tbody tr th:only-of-type {\n",
       "        vertical-align: middle;\n",
       "    }\n",
       "\n",
       "    .dataframe tbody tr th {\n",
       "        vertical-align: top;\n",
       "    }\n",
       "\n",
       "    .dataframe thead th {\n",
       "        text-align: right;\n",
       "    }\n",
       "</style>\n",
       "<table border=\"1\" class=\"dataframe\">\n",
       "  <thead>\n",
       "    <tr style=\"text-align: right;\">\n",
       "      <th></th>\n",
       "      <th>Taxon</th>\n",
       "      <th>Class</th>\n",
       "      <th>Order</th>\n",
       "      <th>Family</th>\n",
       "      <th>Genus</th>\n",
       "      <th>Import Quantity</th>\n",
       "      <th>Export Quantity</th>\n",
       "      <th>Term</th>\n",
       "      <th>Count</th>\n",
       "    </tr>\n",
       "  </thead>\n",
       "  <tbody>\n",
       "    <tr>\n",
       "      <th>61982</th>\n",
       "      <td>Ursus americanus</td>\n",
       "      <td>Mammalia</td>\n",
       "      <td>Carnivora</td>\n",
       "      <td>Ursidae</td>\n",
       "      <td>Ursus</td>\n",
       "      <td>7447.0</td>\n",
       "      <td>0.0</td>\n",
       "      <td>trophies</td>\n",
       "      <td>7447.0</td>\n",
       "    </tr>\n",
       "    <tr>\n",
       "      <th>12956</th>\n",
       "      <td>Caiman crocodilus fuscus</td>\n",
       "      <td>Reptilia</td>\n",
       "      <td>Crocodylia</td>\n",
       "      <td>Alligatoridae</td>\n",
       "      <td>Caiman</td>\n",
       "      <td>0.0</td>\n",
       "      <td>3000.0</td>\n",
       "      <td>trophies</td>\n",
       "      <td>3000.0</td>\n",
       "    </tr>\n",
       "    <tr>\n",
       "      <th>34577</th>\n",
       "      <td>Grus canadensis</td>\n",
       "      <td>Aves</td>\n",
       "      <td>Gruiformes</td>\n",
       "      <td>Gruidae</td>\n",
       "      <td>Grus</td>\n",
       "      <td>2458.0</td>\n",
       "      <td>0.0</td>\n",
       "      <td>trophies</td>\n",
       "      <td>2458.0</td>\n",
       "    </tr>\n",
       "    <tr>\n",
       "      <th>30330</th>\n",
       "      <td>Equus zebra hartmannae</td>\n",
       "      <td>Mammalia</td>\n",
       "      <td>Perissodactyla</td>\n",
       "      <td>Equidae</td>\n",
       "      <td>Equus</td>\n",
       "      <td>484.0</td>\n",
       "      <td>214.0</td>\n",
       "      <td>trophies</td>\n",
       "      <td>698.0</td>\n",
       "    </tr>\n",
       "    <tr>\n",
       "      <th>65154</th>\n",
       "      <td>Antilope cervicapra</td>\n",
       "      <td>Mammalia</td>\n",
       "      <td>Artiodactyla</td>\n",
       "      <td>Bovidae</td>\n",
       "      <td>Antilope</td>\n",
       "      <td>259.0</td>\n",
       "      <td>257.0</td>\n",
       "      <td>trophies</td>\n",
       "      <td>516.0</td>\n",
       "    </tr>\n",
       "    <tr>\n",
       "      <th>...</th>\n",
       "      <td>...</td>\n",
       "      <td>...</td>\n",
       "      <td>...</td>\n",
       "      <td>...</td>\n",
       "      <td>...</td>\n",
       "      <td>...</td>\n",
       "      <td>...</td>\n",
       "      <td>...</td>\n",
       "      <td>...</td>\n",
       "    </tr>\n",
       "    <tr>\n",
       "      <th>32930</th>\n",
       "      <td>Felis silvestris</td>\n",
       "      <td>Mammalia</td>\n",
       "      <td>Carnivora</td>\n",
       "      <td>Felidae</td>\n",
       "      <td>Felis</td>\n",
       "      <td>0.0</td>\n",
       "      <td>1.0</td>\n",
       "      <td>trophies</td>\n",
       "      <td>1.0</td>\n",
       "    </tr>\n",
       "    <tr>\n",
       "      <th>14843</th>\n",
       "      <td>Kobus leche</td>\n",
       "      <td>Mammalia</td>\n",
       "      <td>Artiodactyla</td>\n",
       "      <td>Bovidae</td>\n",
       "      <td>Kobus</td>\n",
       "      <td>1.0</td>\n",
       "      <td>0.0</td>\n",
       "      <td>trophies</td>\n",
       "      <td>1.0</td>\n",
       "    </tr>\n",
       "    <tr>\n",
       "      <th>14845</th>\n",
       "      <td>Kobus leche</td>\n",
       "      <td>Mammalia</td>\n",
       "      <td>Artiodactyla</td>\n",
       "      <td>Bovidae</td>\n",
       "      <td>Kobus</td>\n",
       "      <td>0.0</td>\n",
       "      <td>1.0</td>\n",
       "      <td>trophies</td>\n",
       "      <td>1.0</td>\n",
       "    </tr>\n",
       "    <tr>\n",
       "      <th>65180</th>\n",
       "      <td>Capra hircus aegagrus</td>\n",
       "      <td>Mammalia</td>\n",
       "      <td>Artiodactyla</td>\n",
       "      <td>Bovidae</td>\n",
       "      <td>Capra</td>\n",
       "      <td>0.0</td>\n",
       "      <td>1.0</td>\n",
       "      <td>trophies</td>\n",
       "      <td>1.0</td>\n",
       "    </tr>\n",
       "    <tr>\n",
       "      <th>67015</th>\n",
       "      <td>Panthera pardus</td>\n",
       "      <td>Mammalia</td>\n",
       "      <td>Carnivora</td>\n",
       "      <td>Felidae</td>\n",
       "      <td>Panthera</td>\n",
       "      <td>0.0</td>\n",
       "      <td>0.0</td>\n",
       "      <td>trophies</td>\n",
       "      <td>0.0</td>\n",
       "    </tr>\n",
       "  </tbody>\n",
       "</table>\n",
       "<p>689 rows × 9 columns</p>\n",
       "</div>"
      ],
      "text/plain": [
       "                          Taxon     Class           Order         Family  \\\n",
       "61982          Ursus americanus  Mammalia       Carnivora        Ursidae   \n",
       "12956  Caiman crocodilus fuscus  Reptilia      Crocodylia  Alligatoridae   \n",
       "34577           Grus canadensis      Aves      Gruiformes        Gruidae   \n",
       "30330    Equus zebra hartmannae  Mammalia  Perissodactyla        Equidae   \n",
       "65154       Antilope cervicapra  Mammalia    Artiodactyla        Bovidae   \n",
       "...                         ...       ...             ...            ...   \n",
       "32930          Felis silvestris  Mammalia       Carnivora        Felidae   \n",
       "14843               Kobus leche  Mammalia    Artiodactyla        Bovidae   \n",
       "14845               Kobus leche  Mammalia    Artiodactyla        Bovidae   \n",
       "65180     Capra hircus aegagrus  Mammalia    Artiodactyla        Bovidae   \n",
       "67015           Panthera pardus  Mammalia       Carnivora        Felidae   \n",
       "\n",
       "          Genus  Import Quantity  Export Quantity      Term   Count  \n",
       "61982     Ursus           7447.0              0.0  trophies  7447.0  \n",
       "12956    Caiman              0.0           3000.0  trophies  3000.0  \n",
       "34577      Grus           2458.0              0.0  trophies  2458.0  \n",
       "30330     Equus            484.0            214.0  trophies   698.0  \n",
       "65154  Antilope            259.0            257.0  trophies   516.0  \n",
       "...         ...              ...              ...       ...     ...  \n",
       "32930     Felis              0.0              1.0  trophies     1.0  \n",
       "14843     Kobus              1.0              0.0  trophies     1.0  \n",
       "14845     Kobus              0.0              1.0  trophies     1.0  \n",
       "65180     Capra              0.0              1.0  trophies     1.0  \n",
       "67015  Panthera              0.0              0.0  trophies     0.0  \n",
       "\n",
       "[689 rows x 9 columns]"
      ]
     },
     "execution_count": 21,
     "metadata": {},
     "output_type": "execute_result"
    }
   ],
   "source": [
    "trophy_data = trophy_data.fillna(value=0)\n",
    "trophy_data[\"Count\"] = trophy_data[\"Import Quantity\"] + trophy_data[\"Export Quantity\"]\n",
    "trophy_data.sort_values(by=\"Count\", ascending=False)"
   ]
  },
  {
   "cell_type": "code",
   "execution_count": 22,
   "metadata": {
    "colab": {
     "base_uri": "https://localhost:8080/",
     "height": 313
    },
    "colab_type": "code",
    "executionInfo": {
     "elapsed": 558,
     "status": "ok",
     "timestamp": 1591680548430,
     "user": {
      "displayName": "Maxim Geller",
      "photoUrl": "https://lh3.googleusercontent.com/a-/AOh14Gg5R1D-H8nVyvzU5wxYjD24Tcavzupk3iBUaJ_i=s64",
      "userId": "14378199586879751498"
     },
     "user_tz": 240
    },
    "id": "Ifx92dLXfIUt",
    "outputId": "816eb3e3-011f-4797-ac44-2a8fdb250b90"
   },
   "outputs": [
    {
     "data": {
      "text/plain": [
       "Text(0.5, 1.0, 'Count of Animals Hunted as Trophies')"
      ]
     },
     "execution_count": 22,
     "metadata": {},
     "output_type": "execute_result"
    },
    {
     "data": {
      "image/png": "[encoded data removed]",
      "text/plain": [
       "<Figure size 432x288 with 1 Axes>"
      ]
     },
     "metadata": {
      "needs_background": "light"
     },
     "output_type": "display_data"
    }
   ],
   "source": [
    "top_10 = trophy_data.nlargest(10, \"Count\")\n",
    "trophies = sns.barplot(x=\"Count\", y=\"Taxon\", data=top_10, palette=\"RdBu\", orient=\"h\")\n",
    "sns.despine(top=True, right=True)\n",
    "trophies.set_title(\"Count of Animals Hunted as Trophies\")"
   ]
  }
 ],
 "metadata": {
  "@webio": {
   "lastCommId": null,
   "lastKernelId": null
  },
  "colab": {
   "authorship_tag": "ABX9TyPOIb4pu3nO/KPxKtec183x",
   "mount_file_id": "1TplcGvSy84152d86Fn2-W4hNZNC2XiUp",
   "name": "wildlife_safari.ipynb",
   "provenance": []
  },
  "kernelspec": {
   "display_name": "Python 3",
   "language": "python",
   "name": "python3"
  },
  "language_info": {
   "codemirror_mode": {
    "name": "ipython",
    "version": 3
   },
   "file_extension": ".py",
   "mimetype": "text/x-python",
   "name": "python",
   "nbconvert_exporter": "python",
   "pygments_lexer": "ipython3",
   "version": "3.8.2"
  }
 },
 "nbformat": 4,
 "nbformat_minor": 1
}

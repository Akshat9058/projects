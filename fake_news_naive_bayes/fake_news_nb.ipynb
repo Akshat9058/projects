{
  "nbformat": 4,
  "nbformat_minor": 0,
  "metadata": {
    "colab": {
      "name": "fake-news-nb.ipynb",
      "provenance": [],
      "collapsed_sections": []
    },
    "kernelspec": {
      "name": "python3",
      "display_name": "Python 3"
    }
  },
  "cells": [
    {
      "cell_type": "markdown",
      "metadata": {
        "id": "OpFtM0xZfUjR",
        "colab_type": "text"
      },
      "source": [
        "### Importing and Cleaning"
      ]
    },
    {
      "cell_type": "code",
      "metadata": {
        "id": "82C46AetUpIW",
        "colab_type": "code",
        "colab": {}
      },
      "source": [
        "import pandas as pd #libraries imported as we go for enhanced readability"
      ],
      "execution_count": 0,
      "outputs": []
    },
    {
      "cell_type": "code",
      "metadata": {
        "id": "FSsdQA1IU91Y",
        "colab_type": "code",
        "outputId": "ba430e23-e5ef-40dc-9a1c-2b73e72c0ec1",
        "colab": {
          "base_uri": "https://localhost:8080/",
          "height": 125
        }
      },
      "source": [
        "from google.colab import drive #quick how to on Google Colab\n",
        "drive.mount('/content/drive')"
      ],
      "execution_count": 2,
      "outputs": [
        {
          "output_type": "stream",
          "text": [
            "Go to this URL in a browser: https://accounts.google.com/o/oauth2/auth?client_id=947318989803-6bn6qk8qdgf4n4g3pfee6491hc0brc4i.apps.googleusercontent.com&redirect_uri=urn%3aietf%3awg%3aoauth%3a2.0%3aoob&response_type=code&scope=email%20https%3a%2f%2fwww.googleapis.com%2fauth%2fdocs.test%20https%3a%2f%2fwww.googleapis.com%2fauth%2fdrive%20https%3a%2f%2fwww.googleapis.com%2fauth%2fdrive.photos.readonly%20https%3a%2f%2fwww.googleapis.com%2fauth%2fpeopleapi.readonly\n",
            "\n",
            "Enter your authorization code:\n",
            "··········\n",
            "Mounted at /content/drive\n"
          ],
          "name": "stdout"
        }
      ]
    },
    {
      "cell_type": "code",
      "metadata": {
        "id": "LClRtAqGU1Xl",
        "colab_type": "code",
        "outputId": "6bc6cc71-b5c1-4a39-e599-0cab20113e05",
        "colab": {
          "base_uri": "https://localhost:8080/",
          "height": 34
        }
      },
      "source": [
        "%ls"
      ],
      "execution_count": 3,
      "outputs": [
        {
          "output_type": "stream",
          "text": [
            "\u001b[0m\u001b[01;34mdrive\u001b[0m/  \u001b[01;34msample_data\u001b[0m/\n"
          ],
          "name": "stdout"
        }
      ]
    },
    {
      "cell_type": "code",
      "metadata": {
        "id": "vPCnUQV_V6tc",
        "colab_type": "code",
        "outputId": "618831ae-3542-4ce1-afe2-12c8d42b8a78",
        "colab": {
          "base_uri": "https://localhost:8080/",
          "height": 34
        }
      },
      "source": [
        "cd drive/"
      ],
      "execution_count": 4,
      "outputs": [
        {
          "output_type": "stream",
          "text": [
            "/content/drive\n"
          ],
          "name": "stdout"
        }
      ]
    },
    {
      "cell_type": "code",
      "metadata": {
        "id": "14InaMmAWT4k",
        "colab_type": "code",
        "outputId": "2407e55d-1555-4b77-c710-7e275f9df2dd",
        "colab": {
          "base_uri": "https://localhost:8080/",
          "height": 34
        }
      },
      "source": [
        "cd My\\ Drive/"
      ],
      "execution_count": 5,
      "outputs": [
        {
          "output_type": "stream",
          "text": [
            "/content/drive/My Drive\n"
          ],
          "name": "stdout"
        }
      ]
    },
    {
      "cell_type": "code",
      "metadata": {
        "id": "Rr73ksfyWnTw",
        "colab_type": "code",
        "colab": {}
      },
      "source": [
        "fake = pd.read_csv(\"Fake.csv\")\n",
        "true = pd.read_csv(\"True.csv\")"
      ],
      "execution_count": 0,
      "outputs": []
    },
    {
      "cell_type": "code",
      "metadata": {
        "id": "iREDy7C1W6yP",
        "colab_type": "code",
        "outputId": "0c09bc5b-abaf-461b-b053-4af13fbf05ff",
        "colab": {
          "base_uri": "https://localhost:8080/",
          "height": 195
        }
      },
      "source": [
        "true[\"fake_news\"] = 0 \n",
        "true.head() # notice reuters is in all the real articles, will need to extract it"
      ],
      "execution_count": 7,
      "outputs": [
        {
          "output_type": "execute_result",
          "data": {
            "text/html": [
              "<div>\n",
              "<style scoped>\n",
              "    .dataframe tbody tr th:only-of-type {\n",
              "        vertical-align: middle;\n",
              "    }\n",
              "\n",
              "    .dataframe tbody tr th {\n",
              "        vertical-align: top;\n",
              "    }\n",
              "\n",
              "    .dataframe thead th {\n",
              "        text-align: right;\n",
              "    }\n",
              "</style>\n",
              "<table border=\"1\" class=\"dataframe\">\n",
              "  <thead>\n",
              "    <tr style=\"text-align: right;\">\n",
              "      <th></th>\n",
              "      <th>title</th>\n",
              "      <th>text</th>\n",
              "      <th>subject</th>\n",
              "      <th>date</th>\n",
              "      <th>fake_news</th>\n",
              "    </tr>\n",
              "  </thead>\n",
              "  <tbody>\n",
              "    <tr>\n",
              "      <th>0</th>\n",
              "      <td>As U.S. budget fight looms, Republicans flip t...</td>\n",
              "      <td>WASHINGTON (Reuters) - The head of a conservat...</td>\n",
              "      <td>politicsNews</td>\n",
              "      <td>December 31, 2017</td>\n",
              "      <td>0</td>\n",
              "    </tr>\n",
              "    <tr>\n",
              "      <th>1</th>\n",
              "      <td>U.S. military to accept transgender recruits o...</td>\n",
              "      <td>WASHINGTON (Reuters) - Transgender people will...</td>\n",
              "      <td>politicsNews</td>\n",
              "      <td>December 29, 2017</td>\n",
              "      <td>0</td>\n",
              "    </tr>\n",
              "    <tr>\n",
              "      <th>2</th>\n",
              "      <td>Senior U.S. Republican senator: 'Let Mr. Muell...</td>\n",
              "      <td>WASHINGTON (Reuters) - The special counsel inv...</td>\n",
              "      <td>politicsNews</td>\n",
              "      <td>December 31, 2017</td>\n",
              "      <td>0</td>\n",
              "    </tr>\n",
              "    <tr>\n",
              "      <th>3</th>\n",
              "      <td>FBI Russia probe helped by Australian diplomat...</td>\n",
              "      <td>WASHINGTON (Reuters) - Trump campaign adviser ...</td>\n",
              "      <td>politicsNews</td>\n",
              "      <td>December 30, 2017</td>\n",
              "      <td>0</td>\n",
              "    </tr>\n",
              "    <tr>\n",
              "      <th>4</th>\n",
              "      <td>Trump wants Postal Service to charge 'much mor...</td>\n",
              "      <td>SEATTLE/WASHINGTON (Reuters) - President Donal...</td>\n",
              "      <td>politicsNews</td>\n",
              "      <td>December 29, 2017</td>\n",
              "      <td>0</td>\n",
              "    </tr>\n",
              "  </tbody>\n",
              "</table>\n",
              "</div>"
            ],
            "text/plain": [
              "                                               title  ... fake_news\n",
              "0  As U.S. budget fight looms, Republicans flip t...  ...         0\n",
              "1  U.S. military to accept transgender recruits o...  ...         0\n",
              "2  Senior U.S. Republican senator: 'Let Mr. Muell...  ...         0\n",
              "3  FBI Russia probe helped by Australian diplomat...  ...         0\n",
              "4  Trump wants Postal Service to charge 'much mor...  ...         0\n",
              "\n",
              "[5 rows x 5 columns]"
            ]
          },
          "metadata": {
            "tags": []
          },
          "execution_count": 7
        }
      ]
    },
    {
      "cell_type": "code",
      "metadata": {
        "id": "d2ueWfMQXVf-",
        "colab_type": "code",
        "outputId": "96299142-0c7d-4a61-ed79-c52207351ce7",
        "colab": {
          "base_uri": "https://localhost:8080/",
          "height": 195
        }
      },
      "source": [
        "fake[\"fake_news\"] = 1\n",
        "fake.head()"
      ],
      "execution_count": 8,
      "outputs": [
        {
          "output_type": "execute_result",
          "data": {
            "text/html": [
              "<div>\n",
              "<style scoped>\n",
              "    .dataframe tbody tr th:only-of-type {\n",
              "        vertical-align: middle;\n",
              "    }\n",
              "\n",
              "    .dataframe tbody tr th {\n",
              "        vertical-align: top;\n",
              "    }\n",
              "\n",
              "    .dataframe thead th {\n",
              "        text-align: right;\n",
              "    }\n",
              "</style>\n",
              "<table border=\"1\" class=\"dataframe\">\n",
              "  <thead>\n",
              "    <tr style=\"text-align: right;\">\n",
              "      <th></th>\n",
              "      <th>title</th>\n",
              "      <th>text</th>\n",
              "      <th>subject</th>\n",
              "      <th>date</th>\n",
              "      <th>fake_news</th>\n",
              "    </tr>\n",
              "  </thead>\n",
              "  <tbody>\n",
              "    <tr>\n",
              "      <th>0</th>\n",
              "      <td>Donald Trump Sends Out Embarrassing New Year’...</td>\n",
              "      <td>Donald Trump just couldn t wish all Americans ...</td>\n",
              "      <td>News</td>\n",
              "      <td>December 31, 2017</td>\n",
              "      <td>1</td>\n",
              "    </tr>\n",
              "    <tr>\n",
              "      <th>1</th>\n",
              "      <td>Drunk Bragging Trump Staffer Started Russian ...</td>\n",
              "      <td>House Intelligence Committee Chairman Devin Nu...</td>\n",
              "      <td>News</td>\n",
              "      <td>December 31, 2017</td>\n",
              "      <td>1</td>\n",
              "    </tr>\n",
              "    <tr>\n",
              "      <th>2</th>\n",
              "      <td>Sheriff David Clarke Becomes An Internet Joke...</td>\n",
              "      <td>On Friday, it was revealed that former Milwauk...</td>\n",
              "      <td>News</td>\n",
              "      <td>December 30, 2017</td>\n",
              "      <td>1</td>\n",
              "    </tr>\n",
              "    <tr>\n",
              "      <th>3</th>\n",
              "      <td>Trump Is So Obsessed He Even Has Obama’s Name...</td>\n",
              "      <td>On Christmas day, Donald Trump announced that ...</td>\n",
              "      <td>News</td>\n",
              "      <td>December 29, 2017</td>\n",
              "      <td>1</td>\n",
              "    </tr>\n",
              "    <tr>\n",
              "      <th>4</th>\n",
              "      <td>Pope Francis Just Called Out Donald Trump Dur...</td>\n",
              "      <td>Pope Francis used his annual Christmas Day mes...</td>\n",
              "      <td>News</td>\n",
              "      <td>December 25, 2017</td>\n",
              "      <td>1</td>\n",
              "    </tr>\n",
              "  </tbody>\n",
              "</table>\n",
              "</div>"
            ],
            "text/plain": [
              "                                               title  ... fake_news\n",
              "0   Donald Trump Sends Out Embarrassing New Year’...  ...         1\n",
              "1   Drunk Bragging Trump Staffer Started Russian ...  ...         1\n",
              "2   Sheriff David Clarke Becomes An Internet Joke...  ...         1\n",
              "3   Trump Is So Obsessed He Even Has Obama’s Name...  ...         1\n",
              "4   Pope Francis Just Called Out Donald Trump Dur...  ...         1\n",
              "\n",
              "[5 rows x 5 columns]"
            ]
          },
          "metadata": {
            "tags": []
          },
          "execution_count": 8
        }
      ]
    },
    {
      "cell_type": "code",
      "metadata": {
        "id": "5PgslTZgYRVH",
        "colab_type": "code",
        "outputId": "19de190a-3a56-4a63-bb5b-9c255eb3033e",
        "colab": {
          "base_uri": "https://localhost:8080/",
          "height": 52
        }
      },
      "source": [
        "fake[\"subject\"].unique()"
      ],
      "execution_count": 9,
      "outputs": [
        {
          "output_type": "execute_result",
          "data": {
            "text/plain": [
              "array(['News', 'politics', 'Government News', 'left-news', 'US_News',\n",
              "       'Middle-east'], dtype=object)"
            ]
          },
          "metadata": {
            "tags": []
          },
          "execution_count": 9
        }
      ]
    },
    {
      "cell_type": "code",
      "metadata": {
        "id": "acvuhFv8ZueN",
        "colab_type": "code",
        "outputId": "559d9c30-66d0-4f58-b15e-0d682a997eed",
        "colab": {
          "base_uri": "https://localhost:8080/",
          "height": 34
        }
      },
      "source": [
        "true[\"subject\"].unique() # dont care about these, probably will just use text and fake news score"
      ],
      "execution_count": 10,
      "outputs": [
        {
          "output_type": "execute_result",
          "data": {
            "text/plain": [
              "array(['politicsNews', 'worldnews'], dtype=object)"
            ]
          },
          "metadata": {
            "tags": []
          },
          "execution_count": 10
        }
      ]
    },
    {
      "cell_type": "code",
      "metadata": {
        "id": "16Ji0W83Z50z",
        "colab_type": "code",
        "outputId": "92c9bb43-c820-4343-9650-47f35ffc0323",
        "colab": {
          "base_uri": "https://localhost:8080/",
          "height": 228
        }
      },
      "source": [
        "true_text = true[\"text\"]\n",
        "true_text"
      ],
      "execution_count": 11,
      "outputs": [
        {
          "output_type": "execute_result",
          "data": {
            "text/plain": [
              "0        WASHINGTON (Reuters) - The head of a conservat...\n",
              "1        WASHINGTON (Reuters) - Transgender people will...\n",
              "2        WASHINGTON (Reuters) - The special counsel inv...\n",
              "3        WASHINGTON (Reuters) - Trump campaign adviser ...\n",
              "4        SEATTLE/WASHINGTON (Reuters) - President Donal...\n",
              "                               ...                        \n",
              "21412    BRUSSELS (Reuters) - NATO allies on Tuesday we...\n",
              "21413    LONDON (Reuters) - LexisNexis, a provider of l...\n",
              "21414    MINSK (Reuters) - In the shadow of disused Sov...\n",
              "21415    MOSCOW (Reuters) - Vatican Secretary of State ...\n",
              "21416    JAKARTA (Reuters) - Indonesia will buy 11 Sukh...\n",
              "Name: text, Length: 21417, dtype: object"
            ]
          },
          "metadata": {
            "tags": []
          },
          "execution_count": 11
        }
      ]
    },
    {
      "cell_type": "code",
      "metadata": {
        "id": "tjTdCHuBaJJG",
        "colab_type": "code",
        "colab": {}
      },
      "source": [
        "true_text = true_text.str.extractall(r\".* - (?P<text>.*)\")"
      ],
      "execution_count": 0,
      "outputs": []
    },
    {
      "cell_type": "code",
      "metadata": {
        "id": "TvKa7V93axrQ",
        "colab_type": "code",
        "outputId": "f35dda7e-6a7e-492d-8961-bf78eebc0cd6",
        "colab": {
          "base_uri": "https://localhost:8080/",
          "height": 404
        }
      },
      "source": [
        "true_text.index"
      ],
      "execution_count": 13,
      "outputs": [
        {
          "output_type": "execute_result",
          "data": {
            "text/plain": [
              "MultiIndex([(    0, 0),\n",
              "            (    1, 0),\n",
              "            (    2, 0),\n",
              "            (    3, 0),\n",
              "            (    4, 0),\n",
              "            (    5, 0),\n",
              "            (    6, 0),\n",
              "            (    7, 0),\n",
              "            (    8, 0),\n",
              "            (    9, 0),\n",
              "            ...\n",
              "            (21407, 0),\n",
              "            (21408, 0),\n",
              "            (21409, 0),\n",
              "            (21410, 0),\n",
              "            (21411, 0),\n",
              "            (21412, 0),\n",
              "            (21413, 0),\n",
              "            (21414, 0),\n",
              "            (21415, 0),\n",
              "            (21416, 0)],\n",
              "           names=[None, 'match'], length=21388)"
            ]
          },
          "metadata": {
            "tags": []
          },
          "execution_count": 13
        }
      ]
    },
    {
      "cell_type": "code",
      "metadata": {
        "id": "lcDpMp9UdBAJ",
        "colab_type": "code",
        "outputId": "5861755b-3ed9-42e3-a390-897ba39babef",
        "colab": {
          "base_uri": "https://localhost:8080/",
          "height": 402
        }
      },
      "source": [
        "true_text = true_text.droplevel(1)\n",
        "true_text"
      ],
      "execution_count": 14,
      "outputs": [
        {
          "output_type": "execute_result",
          "data": {
            "text/html": [
              "<div>\n",
              "<style scoped>\n",
              "    .dataframe tbody tr th:only-of-type {\n",
              "        vertical-align: middle;\n",
              "    }\n",
              "\n",
              "    .dataframe tbody tr th {\n",
              "        vertical-align: top;\n",
              "    }\n",
              "\n",
              "    .dataframe thead th {\n",
              "        text-align: right;\n",
              "    }\n",
              "</style>\n",
              "<table border=\"1\" class=\"dataframe\">\n",
              "  <thead>\n",
              "    <tr style=\"text-align: right;\">\n",
              "      <th></th>\n",
              "      <th>text</th>\n",
              "    </tr>\n",
              "  </thead>\n",
              "  <tbody>\n",
              "    <tr>\n",
              "      <th>0</th>\n",
              "      <td>The head of a conservative Republican faction ...</td>\n",
              "    </tr>\n",
              "    <tr>\n",
              "      <th>1</th>\n",
              "      <td>have issued rulings blocking Trump’s ban while...</td>\n",
              "    </tr>\n",
              "    <tr>\n",
              "      <th>2</th>\n",
              "      <td>The special counsel investigation of links bet...</td>\n",
              "    </tr>\n",
              "    <tr>\n",
              "      <th>3</th>\n",
              "      <td>Trump campaign adviser George Papadopoulos tol...</td>\n",
              "    </tr>\n",
              "    <tr>\n",
              "      <th>4</th>\n",
              "      <td>President Donald Trump called on the U.S. Post...</td>\n",
              "    </tr>\n",
              "    <tr>\n",
              "      <th>...</th>\n",
              "      <td>...</td>\n",
              "    </tr>\n",
              "    <tr>\n",
              "      <th>21412</th>\n",
              "      <td>the country is still struggling with weak cent...</td>\n",
              "    </tr>\n",
              "    <tr>\n",
              "      <th>21413</th>\n",
              "      <td>LexisNexis, a provider of legal, regulatory an...</td>\n",
              "    </tr>\n",
              "    <tr>\n",
              "      <th>21414</th>\n",
              "      <td>one  machine-making factory named after the 19...</td>\n",
              "    </tr>\n",
              "    <tr>\n",
              "      <th>21415</th>\n",
              "      <td>Vatican Secretary of State Cardinal Pietro Par...</td>\n",
              "    </tr>\n",
              "    <tr>\n",
              "      <th>21416</th>\n",
              "      <td>Indonesia will buy 11 Sukhoi fighter jets wort...</td>\n",
              "    </tr>\n",
              "  </tbody>\n",
              "</table>\n",
              "<p>21388 rows × 1 columns</p>\n",
              "</div>"
            ],
            "text/plain": [
              "                                                    text\n",
              "0      The head of a conservative Republican faction ...\n",
              "1      have issued rulings blocking Trump’s ban while...\n",
              "2      The special counsel investigation of links bet...\n",
              "3      Trump campaign adviser George Papadopoulos tol...\n",
              "4      President Donald Trump called on the U.S. Post...\n",
              "...                                                  ...\n",
              "21412  the country is still struggling with weak cent...\n",
              "21413  LexisNexis, a provider of legal, regulatory an...\n",
              "21414  one  machine-making factory named after the 19...\n",
              "21415  Vatican Secretary of State Cardinal Pietro Par...\n",
              "21416  Indonesia will buy 11 Sukhoi fighter jets wort...\n",
              "\n",
              "[21388 rows x 1 columns]"
            ]
          },
          "metadata": {
            "tags": []
          },
          "execution_count": 14
        }
      ]
    },
    {
      "cell_type": "code",
      "metadata": {
        "id": "BSBxjWgea_jI",
        "colab_type": "code",
        "outputId": "2df4ce91-6729-496d-fa14-35f2be7c11a6",
        "colab": {
          "base_uri": "https://localhost:8080/",
          "height": 195
        }
      },
      "source": [
        "true = true.assign(text=true_text[\"text\"])\n",
        "true.head()"
      ],
      "execution_count": 15,
      "outputs": [
        {
          "output_type": "execute_result",
          "data": {
            "text/html": [
              "<div>\n",
              "<style scoped>\n",
              "    .dataframe tbody tr th:only-of-type {\n",
              "        vertical-align: middle;\n",
              "    }\n",
              "\n",
              "    .dataframe tbody tr th {\n",
              "        vertical-align: top;\n",
              "    }\n",
              "\n",
              "    .dataframe thead th {\n",
              "        text-align: right;\n",
              "    }\n",
              "</style>\n",
              "<table border=\"1\" class=\"dataframe\">\n",
              "  <thead>\n",
              "    <tr style=\"text-align: right;\">\n",
              "      <th></th>\n",
              "      <th>title</th>\n",
              "      <th>text</th>\n",
              "      <th>subject</th>\n",
              "      <th>date</th>\n",
              "      <th>fake_news</th>\n",
              "    </tr>\n",
              "  </thead>\n",
              "  <tbody>\n",
              "    <tr>\n",
              "      <th>0</th>\n",
              "      <td>As U.S. budget fight looms, Republicans flip t...</td>\n",
              "      <td>The head of a conservative Republican faction ...</td>\n",
              "      <td>politicsNews</td>\n",
              "      <td>December 31, 2017</td>\n",
              "      <td>0</td>\n",
              "    </tr>\n",
              "    <tr>\n",
              "      <th>1</th>\n",
              "      <td>U.S. military to accept transgender recruits o...</td>\n",
              "      <td>have issued rulings blocking Trump’s ban while...</td>\n",
              "      <td>politicsNews</td>\n",
              "      <td>December 29, 2017</td>\n",
              "      <td>0</td>\n",
              "    </tr>\n",
              "    <tr>\n",
              "      <th>2</th>\n",
              "      <td>Senior U.S. Republican senator: 'Let Mr. Muell...</td>\n",
              "      <td>The special counsel investigation of links bet...</td>\n",
              "      <td>politicsNews</td>\n",
              "      <td>December 31, 2017</td>\n",
              "      <td>0</td>\n",
              "    </tr>\n",
              "    <tr>\n",
              "      <th>3</th>\n",
              "      <td>FBI Russia probe helped by Australian diplomat...</td>\n",
              "      <td>Trump campaign adviser George Papadopoulos tol...</td>\n",
              "      <td>politicsNews</td>\n",
              "      <td>December 30, 2017</td>\n",
              "      <td>0</td>\n",
              "    </tr>\n",
              "    <tr>\n",
              "      <th>4</th>\n",
              "      <td>Trump wants Postal Service to charge 'much mor...</td>\n",
              "      <td>President Donald Trump called on the U.S. Post...</td>\n",
              "      <td>politicsNews</td>\n",
              "      <td>December 29, 2017</td>\n",
              "      <td>0</td>\n",
              "    </tr>\n",
              "  </tbody>\n",
              "</table>\n",
              "</div>"
            ],
            "text/plain": [
              "                                               title  ... fake_news\n",
              "0  As U.S. budget fight looms, Republicans flip t...  ...         0\n",
              "1  U.S. military to accept transgender recruits o...  ...         0\n",
              "2  Senior U.S. Republican senator: 'Let Mr. Muell...  ...         0\n",
              "3  FBI Russia probe helped by Australian diplomat...  ...         0\n",
              "4  Trump wants Postal Service to charge 'much mor...  ...         0\n",
              "\n",
              "[5 rows x 5 columns]"
            ]
          },
          "metadata": {
            "tags": []
          },
          "execution_count": 15
        }
      ]
    },
    {
      "cell_type": "code",
      "metadata": {
        "id": "c1nncSGPdqUZ",
        "colab_type": "code",
        "outputId": "6daf38ee-6bfe-4669-edf0-a551ea9e84d0",
        "colab": {
          "base_uri": "https://localhost:8080/",
          "height": 228
        }
      },
      "source": [
        "fake.info()"
      ],
      "execution_count": 16,
      "outputs": [
        {
          "output_type": "stream",
          "text": [
            "<class 'pandas.core.frame.DataFrame'>\n",
            "RangeIndex: 23481 entries, 0 to 23480\n",
            "Data columns (total 5 columns):\n",
            " #   Column     Non-Null Count  Dtype \n",
            "---  ------     --------------  ----- \n",
            " 0   title      23481 non-null  object\n",
            " 1   text       23481 non-null  object\n",
            " 2   subject    23481 non-null  object\n",
            " 3   date       23481 non-null  object\n",
            " 4   fake_news  23481 non-null  int64 \n",
            "dtypes: int64(1), object(4)\n",
            "memory usage: 917.4+ KB\n"
          ],
          "name": "stdout"
        }
      ]
    },
    {
      "cell_type": "code",
      "metadata": {
        "id": "ZCfeEdMjev0h",
        "colab_type": "code",
        "outputId": "00ab78dc-2e3e-4360-9151-74337bb48217",
        "colab": {
          "base_uri": "https://localhost:8080/",
          "height": 228
        }
      },
      "source": [
        "true.info()"
      ],
      "execution_count": 17,
      "outputs": [
        {
          "output_type": "stream",
          "text": [
            "<class 'pandas.core.frame.DataFrame'>\n",
            "RangeIndex: 21417 entries, 0 to 21416\n",
            "Data columns (total 5 columns):\n",
            " #   Column     Non-Null Count  Dtype \n",
            "---  ------     --------------  ----- \n",
            " 0   title      21417 non-null  object\n",
            " 1   text       21388 non-null  object\n",
            " 2   subject    21417 non-null  object\n",
            " 3   date       21417 non-null  object\n",
            " 4   fake_news  21417 non-null  int64 \n",
            "dtypes: int64(1), object(4)\n",
            "memory usage: 836.7+ KB\n"
          ],
          "name": "stdout"
        }
      ]
    },
    {
      "cell_type": "code",
      "metadata": {
        "id": "eQgVLAjAdYUd",
        "colab_type": "code",
        "colab": {}
      },
      "source": [
        "df = pd.concat([fake, true], axis = 0) # good to go for combine!"
      ],
      "execution_count": 0,
      "outputs": []
    },
    {
      "cell_type": "code",
      "metadata": {
        "id": "SUVKqRTCeIZz",
        "colab_type": "code",
        "colab": {}
      },
      "source": [
        "df = df.drop([\"subject\", \"date\"], axis = 1)"
      ],
      "execution_count": 0,
      "outputs": []
    },
    {
      "cell_type": "code",
      "metadata": {
        "id": "X9Gd7zJQeb8A",
        "colab_type": "code",
        "outputId": "1332bf10-ec88-49e0-a225-9b4d34c015c3",
        "colab": {
          "base_uri": "https://localhost:8080/",
          "height": 193
        }
      },
      "source": [
        "df.info()"
      ],
      "execution_count": 20,
      "outputs": [
        {
          "output_type": "stream",
          "text": [
            "<class 'pandas.core.frame.DataFrame'>\n",
            "Int64Index: 44898 entries, 0 to 21416\n",
            "Data columns (total 3 columns):\n",
            " #   Column     Non-Null Count  Dtype \n",
            "---  ------     --------------  ----- \n",
            " 0   title      44898 non-null  object\n",
            " 1   text       44869 non-null  object\n",
            " 2   fake_news  44898 non-null  int64 \n",
            "dtypes: int64(1), object(2)\n",
            "memory usage: 1.4+ MB\n"
          ],
          "name": "stdout"
        }
      ]
    },
    {
      "cell_type": "code",
      "metadata": {
        "id": "vzTuEayle5To",
        "colab_type": "code",
        "colab": {}
      },
      "source": [
        "df = df.dropna()"
      ],
      "execution_count": 0,
      "outputs": []
    },
    {
      "cell_type": "code",
      "metadata": {
        "id": "ZAc_x8pQfGKT",
        "colab_type": "code",
        "outputId": "288e1bfd-24ee-4602-a9b7-cceb33fbaf8c",
        "colab": {
          "base_uri": "https://localhost:8080/",
          "height": 193
        }
      },
      "source": [
        "df.info() # are there any real graphs i can make here? idk"
      ],
      "execution_count": 22,
      "outputs": [
        {
          "output_type": "stream",
          "text": [
            "<class 'pandas.core.frame.DataFrame'>\n",
            "Int64Index: 44869 entries, 0 to 21416\n",
            "Data columns (total 3 columns):\n",
            " #   Column     Non-Null Count  Dtype \n",
            "---  ------     --------------  ----- \n",
            " 0   title      44869 non-null  object\n",
            " 1   text       44869 non-null  object\n",
            " 2   fake_news  44869 non-null  int64 \n",
            "dtypes: int64(1), object(2)\n",
            "memory usage: 1.4+ MB\n"
          ],
          "name": "stdout"
        }
      ]
    },
    {
      "cell_type": "markdown",
      "metadata": {
        "id": "v5i4nTG1hU3D",
        "colab_type": "text"
      },
      "source": [
        "### Break up the text"
      ]
    },
    {
      "cell_type": "code",
      "metadata": {
        "id": "vkL2PD3-hThf",
        "colab_type": "code",
        "colab": {}
      },
      "source": [
        "# import nltk # this was a mess! not using\n",
        "# nltk.download('punkt')\n",
        "# from nltk.tokenize import word_tokenize "
      ],
      "execution_count": 0,
      "outputs": []
    },
    {
      "cell_type": "markdown",
      "metadata": {
        "id": "5ds8mYhWfZiD",
        "colab_type": "text"
      },
      "source": [
        "### Naive Bayes using SK-learn"
      ]
    },
    {
      "cell_type": "code",
      "metadata": {
        "id": "-HZBE-jtfkxC",
        "colab_type": "code",
        "colab": {}
      },
      "source": [
        "# split the data\n",
        "DV = \"fake_news\"\n",
        "X = df.drop([DV,\"title\"], axis = 1)\n",
        "y = df[DV]"
      ],
      "execution_count": 0,
      "outputs": []
    },
    {
      "cell_type": "code",
      "metadata": {
        "id": "HCOb-ckvjk-9",
        "colab_type": "code",
        "colab": {}
      },
      "source": [
        "# Split data into test and train\n",
        "from sklearn.model_selection import train_test_split\n",
        "X_train, X_test, y_train, y_test = train_test_split(X,y, test_size=0.25)"
      ],
      "execution_count": 0,
      "outputs": []
    },
    {
      "cell_type": "code",
      "metadata": {
        "id": "yvLEvaj27SlP",
        "colab_type": "code",
        "outputId": "3a53612f-1196-435a-a707-79927b5df558",
        "colab": {
          "base_uri": "https://localhost:8080/",
          "height": 402
        }
      },
      "source": [
        "X_train"
      ],
      "execution_count": 26,
      "outputs": [
        {
          "output_type": "execute_result",
          "data": {
            "text/html": [
              "<div>\n",
              "<style scoped>\n",
              "    .dataframe tbody tr th:only-of-type {\n",
              "        vertical-align: middle;\n",
              "    }\n",
              "\n",
              "    .dataframe tbody tr th {\n",
              "        vertical-align: top;\n",
              "    }\n",
              "\n",
              "    .dataframe thead th {\n",
              "        text-align: right;\n",
              "    }\n",
              "</style>\n",
              "<table border=\"1\" class=\"dataframe\">\n",
              "  <thead>\n",
              "    <tr style=\"text-align: right;\">\n",
              "      <th></th>\n",
              "      <th>text</th>\n",
              "    </tr>\n",
              "  </thead>\n",
              "  <tbody>\n",
              "    <tr>\n",
              "      <th>17836</th>\n",
              "      <td>A Turkish court has sentenced a journalist fro...</td>\n",
              "    </tr>\n",
              "    <tr>\n",
              "      <th>9710</th>\n",
              "      <td>President Trump greeted the NHL s Stanley Cup ...</td>\n",
              "    </tr>\n",
              "    <tr>\n",
              "      <th>321</th>\n",
              "      <td>The Trump administration has named career dipl...</td>\n",
              "    </tr>\n",
              "    <tr>\n",
              "      <th>18921</th>\n",
              "      <td>German Chancellor Angela Merkel on Wednesday w...</td>\n",
              "    </tr>\n",
              "    <tr>\n",
              "      <th>10080</th>\n",
              "      <td>Recall that in 2016 a Muslim professor was cau...</td>\n",
              "    </tr>\n",
              "    <tr>\n",
              "      <th>...</th>\n",
              "      <td>...</td>\n",
              "    </tr>\n",
              "    <tr>\n",
              "      <th>17104</th>\n",
              "      <td>Norwegian Defence Minister Ine Eriksen Soereid...</td>\n",
              "    </tr>\n",
              "    <tr>\n",
              "      <th>6413</th>\n",
              "      <td>On Thursday, while Republican leadership was m...</td>\n",
              "    </tr>\n",
              "    <tr>\n",
              "      <th>214</th>\n",
              "      <td>This article is uncensored and contains very o...</td>\n",
              "    </tr>\n",
              "    <tr>\n",
              "      <th>18234</th>\n",
              "      <td>Here s a question for the anti-Trump media: If...</td>\n",
              "    </tr>\n",
              "    <tr>\n",
              "      <th>183</th>\n",
              "      <td>With all the recent talk of sentencing reform ...</td>\n",
              "    </tr>\n",
              "  </tbody>\n",
              "</table>\n",
              "<p>33651 rows × 1 columns</p>\n",
              "</div>"
            ],
            "text/plain": [
              "                                                    text\n",
              "17836  A Turkish court has sentenced a journalist fro...\n",
              "9710   President Trump greeted the NHL s Stanley Cup ...\n",
              "321    The Trump administration has named career dipl...\n",
              "18921  German Chancellor Angela Merkel on Wednesday w...\n",
              "10080  Recall that in 2016 a Muslim professor was cau...\n",
              "...                                                  ...\n",
              "17104  Norwegian Defence Minister Ine Eriksen Soereid...\n",
              "6413   On Thursday, while Republican leadership was m...\n",
              "214    This article is uncensored and contains very o...\n",
              "18234  Here s a question for the anti-Trump media: If...\n",
              "183    With all the recent talk of sentencing reform ...\n",
              "\n",
              "[33651 rows x 1 columns]"
            ]
          },
          "metadata": {
            "tags": []
          },
          "execution_count": 26
        }
      ]
    },
    {
      "cell_type": "code",
      "metadata": {
        "id": "UOu5lrcHlepR",
        "colab_type": "code",
        "outputId": "94a50b62-1bf1-4b7f-86d9-c3aed8d23cb8",
        "colab": {
          "base_uri": "https://localhost:8080/",
          "height": 54
        }
      },
      "source": [
        "from sklearn.feature_extraction.text import CountVectorizer # I need to look into more why this works\n",
        "\n",
        "count_vect = CountVectorizer(max_features = 5000)\n",
        "X_train_counts = count_vect.fit(X_train[\"text\"])\n",
        "print(count_vect.vocabulary_)\n",
        "X_train_counts = count_vect.transform(X_train[\"text\"])"
      ],
      "execution_count": 27,
      "outputs": [
        {
          "output_type": "stream",
          "text": [
            "{'turkish': 4656, 'court': 1133, 'has': 2093, 'sentenced': 4036, 'journalist': 2489, 'from': 1904, 'the': 4500, 'wall': 4829, 'street': 4310, 'journal': 2487, 'to': 4561, 'two': 4671, 'years': 4978, 'and': 313, 'one': 3139, 'month': 2939, 'in': 2281, 'prison': 3474, 'on': 3137, 'charges': 834, 'of': 3111, 'carrying': 770, 'out': 3191, 'propaganda': 3520, 'for': 1854, 'kurdish': 2558, 'militants': 2882, 'newspaper': 3043, 'said': 3932, 'tuesday': 4653, 'reporter': 3771, 'with': 4930, 'citizenship': 877, 'was': 4845, 'over': 3203, '2015': 40, 'story': 4303, 'about': 117, 'ongoing': 3141, 'clashes': 888, 'between': 577, 'security': 4006, 'forces': 1857, 'kurdistan': 2559, 'workers': 4950, 'party': 3262, 'turkey': 4655, 'this': 4521, 'an': 308, 'criminal': 1156, 'charge': 832, 'inappropriate': 2282, 'conviction': 1085, 'that': 4499, 'report': 3768, 'paper': 3236, 'quoted': 3603, 'its': 2436, 'editor': 1499, 'chief': 845, 'baker': 495, 'as': 413, 'saying': 3953, 'who': 4900, 'is': 2417, 'currently': 1185, 'united': 4708, 'states': 4269, 'will': 4914, 'appeal': 358, 'against': 226, 'decision': 1242, 'row': 3905, 'after': 221, 'nato': 3002, 'allies': 276, 'suspended': 4406, 'visa': 4797, 'services': 4054, 'sunday': 4371, 'already': 286, 'relations': 3730, 'new': 3040, 'low': 2736, 'rights': 3865, 'groups': 2032, 'western': 4889, 'have': 2104, 'complained': 975, 'human': 2220, 'under': 4690, 'president': 3444, 'tayyip': 4448, 'erdogan': 1599, 'fear': 1755, 'country': 1125, 'towards': 4588, 'greater': 2020, 'crackdown': 1141, 'since': 4134, 'july': 2501, '2016': 41, 'failed': 1719, 'coup': 1128, 'authorities': 468, 'jailed': 2442, '50': 83, '000': 1, 'people': 3296, 'pending': 3291, 'trial': 4629, 'detained': 1327, 'or': 3169, 'dismissed': 1387, 'their': 4502, 'jobs': 2470, 'some': 4177, '150': 10, 'part': 3247, 'media': 2837, 'outlets': 3194, 'been': 545, 'shut': 4114, 'down': 1442, 'around': 401, 'journalists': 2490, 'are': 385, 'jail': 2441, 'according': 136, 'association': 438, 'given': 1970, 'current': 1184, 'climate': 900, 'shouldn': 4107, 'come': 941, 'surprise': 4394, 'me': 2828, 'but': 711, 'it': 2431, 'did': 1345, 'trump': 4645, 'winning': 4924, 'at': 441, 'white': 4898, 'house': 2206, 'today': 4562, 'first': 1816, 'lady': 2567, 'were': 4886, 'hand': 2068, 'team': 4454, 'small': 4154, 'very': 4766, 'cool': 1091, 'welcomed': 4881, 'them': 4503, 'win': 4919, 'you': 4984, 'true': 4643, 'incredible': 2298, 'patriots': 3277, 'not': 3071, 'seen': 4017, 'three': 4535, 'generation': 1951, 'know': 2548, 'ready': 3650, 'challenge': 813, 'going': 1983, 'be': 531, 'watching': 4853, 'so': 4161, 'closely': 907, 'because': 539, 'think': 4517, 're': 3641, 'back': 485, 'here': 2136, 'next': 3045, 'year': 4977, 'tweeted': 4665, 'what': 4890, 'honor': 2184, 'my': 2984, 'great': 2019, 'host': 2196, '2017': 43, 'champion': 819, 'https': 2215, 'co': 914, 'pic': 3335, 'twitter': 4670, 'com': 938, 'donald': 1427, 'realdonaldtrump': 3653, 'october': 3108, '10': 2, '2017trump': 45, 'also': 287, 'suggested': 4361, 'owner': 3214, 'ron': 3893, 'get': 1959, 'involved': 2404, 'nafta': 2987, 'negotiations': 3024, 'really': 3657, 'mean': 2829, 'if': 2243, 'want': 4833, 'negotiating': 3023, 'like': 2671, 'we': 4860, 'course': 1132, 'he': 2108, 'may': 2819, 'maybe': 2820, 'other': 3185, 'side': 4117, 'read': 3646, 'more': 2944, 'administration': 184, 'named': 2989, 'career': 760, 'diplomat': 1358, 'head': 2109, 'all': 268, 'abandoned': 108, 'embassy': 1536, 'havana': 2103, 'sources': 4196, 'familiar': 1732, 'matter': 2813, 'time': 4552, 'tensions': 4476, 'cuba': 1177, 'lengthy': 2639, 'experience': 1670, 'number': 3086, 'countries': 1124, 'described': 1307, 'by': 715, 'congressional': 1021, 'aide': 244, 'monday': 2934, 'best': 574, 'his': 2159, 'appointment': 373, 'socialist': 4163, 'ally': 281, '2008': 33, 'claimed': 884, 'social': 4162, 'unrest': 4720, 'publicly': 3560, 'announced': 327, 'approved': 380, 'moment': 2931, 'bilateral': 589, 'former': 1867, 'democratic': 1285, 'barack': 514, 'obama': 3093, 'republican': 3782, 'returned': 3835, 'cold': 923, 'war': 4837, 'cuban': 1178, 'government': 2000, 'imposed': 2275, 'restrictions': 3825, 'doing': 1420, 'business': 707, 'travel': 4617, 'charged': 833, 'responsibility': 3820, 'health': 2116, 'problems': 3485, 'dozen': 1443, 'diplomats': 1360, 'family': 1734, 'members': 2848, 'which': 4896, 'attacks': 447, 'denies': 1293, 'reduced': 3686, 'staff': 4245, 'almost': 282, 'pulled': 3565, '60': 92, 'percent': 3299, 'personnel': 3318, 'ordered': 3172, 'similar': 4130, 'reduction': 3688, 'washington': 4846, '15': 9, 'position': 3405, 'ambassador': 296, 'role': 3888, 'does': 1417, 'need': 3017, 'congress': 1020, 'there': 4509, 'no': 3053, 'opened': 3147, 'controlled': 1077, 'senate': 4026, 'opposed': 3162, 'pick': 3336, 'instead': 2348, 'take': 4425, 'left': 2628, 'previous': 3457, 'posts': 3415, 'include': 2287, 'mission': 2910, 'most': 2950, 'recently': 3670, 'philippines': 3326, 'rather': 3637, 'american': 300, 'university': 4712, 'professor': 3498, 'william': 4915, 'expert': 1672, 'foreign': 1860, 'service': 4053, 'professional': 3497, 'represent': 3775, 'policies': 3380, 'tell': 4466, 'follow': 1845, 'predecessor': 3432, 'carry': 769, 'hostile': 2199, 'policy': 3381, 'closed': 906, 'when': 4892, 'broke': 678, 'diplomatic': 1359, 'maintained': 2761, 'lower': 2737, 'level': 2647, 'interests': 2374, 'each': 1479, 'german': 1957, 'chancellor': 821, 'angela': 317, 'merkel': 2858, 'wednesday': 4872, 'french': 1896, 'emmanuel': 1543, 'macron': 2745, 'speech': 4216, 'european': 1622, 'union': 4703, 'reform': 3695, 'contained': 1054, 'lot': 2728, 'material': 2810, 'necessary': 3015, 'debate': 1231, 'issue': 2428, 'her': 2135, 'spokesman': 4229, 'germany': 1958, 'shares': 4079, 'view': 4779, 'eu': 1619, 'needs': 3019, 'reforms': 3696, 'details': 1326, 'must': 2982, 'discussed': 1380, 'added': 175, 'discussion': 1382, 'told': 4565, 'regular': 3717, 'news': 3042, 'conference': 1007, 'berlin': 570, 'adding': 176, 'leaders': 2608, 'would': 4960, 'chance': 820, 'talk': 4430, 'meeting': 2843, 'thursday': 4543, 'recall': 3664, 'muslim': 2980, 'caught': 785, 'video': 4776, 'see': 4007, 'below': 563, 'explaining': 1677, 'why': 4905, 'cutting': 1191, 'off': 3112, 'hands': 2074, 'punishment': 3570, 'theft': 4501, 'good': 1990, 'believes': 562, 'sharia': 4080, 'law': 2596, 'such': 4350, 'idea': 2234, 'cut': 1189, 'crime': 1153, 'just': 2506, 'clear': 893, 'man': 2771, 'ok': 3131, 'where': 4894, 'islamic': 2420, 'they': 4513, 'die': 1347, 'dozens': 1444, 'hundreds': 2224, 'every': 1631, 'day': 1216, 'organized': 3178, 'kill': 2532, 'capital': 751, 'even': 1625, 'though': 4524, 'sounds': 4194, 'severe': 4068, 'solution': 4172, 'prevent': 3454, 'any': 343, 'crimes': 1155, 'then': 4506, 'still': 4290, 'rules': 3913, 'regulations': 3720, 'mention': 2855, 'stop': 4296, 'let': 2643, 'say': 3952, 'person': 3315, 'takes': 4427, 'whole': 4902, 'nation': 2994, 'much': 2968, 'better': 576, 'resolution': 3807, 'than': 4496, 'having': 2106, 'run': 3917, 'away': 480, 'saw': 3951, 'west': 4888, 'record': 3678, 'him': 2154, 'again': 225, 'august': 463, '17': 12, 'florida': 1836, 'atlantic': 443, 'society': 4164, 'agreed': 237, 'defend': 1259, 'ran': 3621, 'shame': 4075, 'minutes': 2902, 'before': 546, 'programs': 3503, 'starting': 4263, 'title': 4559, 'nothing': 3075, 'dr': 1445, 'making': 2767, 'case': 774, 'non': 3062, 'muslims': 2981, 'deep': 1253, 'knows': 2552, 'facts': 1717, 'suspect': 4403, 'fears': 1757, 'americans': 301, 'use': 4738, 'consensus': 1029, 'lies': 2663, 'truth': 4648, 'those': 4523, 'showed': 4110, 'up': 4724, 'film': 1798, 'can': 737, 'audience': 459, 'event': 1627, 'organizers': 3179, 'might': 2874, 'reason': 3658, 'via': 4771, 'rich': 3856, 'folks': 1844, 'fox': 1883, 'getting': 1961, 'minute': 2901, 'basis': 525, 'although': 291, 'quite': 3599, 'sad': 3928, 'organization': 3176, 'calls': 724, 'itself': 2437, 'outlet': 3193, 'eat': 1492, 'own': 3212, 'latest': 2585, 'called': 721, 'judge': 2495, 'supporter': 4378, 'job': 2469, 'national': 2995, 'committee': 960, 'chairman': 811, 'reince': 3725, 'priebus': 3462, 'recent': 3669, 'statements': 4268, 'convention': 1081, 'watch': 4850, 'youtube': 4991, 'www': 4972, 'usually': 4745, 'outrageous': 3198, 'democrats': 1286, 'she': 4085, 'perceived': 3298, 'anti': 339, 'response': 3818, 'suggestion': 4363, 'acceptable': 130, 'republicans': 3783, 'nomination': 3059, 'goes': 1982, 'into': 2386, 'delegates': 1272, 'enough': 1575, 'secure': 4004, 'unhinged': 4702, 'contributor': 1075, 'establishment': 1611, 'desperate': 1317, 'ted': 4460, 'cruz': 1175, 'working': 4951, 'our': 3188, 'vote': 4811, 'ever': 1630, 'now': 3082, 'voting': 4816, 'keep': 2515, 'your': 4987, 'status': 4275, 'quo': 3600, 'pay': 3281, 'remarks': 3748, 'fresh': 1899, 'face': 1706, 'needed': 3018, 'beat': 534, 'clinton': 901, 'november': 3081, 'aren': 388, 'guy': 2052, 'kept': 2524, 'bringing': 670, 'us': 4736, 'bush': 706, 'another': 333, 'continuing': 1064, 'attacked': 445, 'rnc': 3877, 'calling': 723, 'refusing': 3704, 'sean': 3990, 'hannity': 2076, 'whether': 4895, 'presidential': 3445, 'nominee': 3060, 'top': 4576, 'whatever': 4891, 'happened': 2078, 'matters': 2814, 'only': 3143, 'un': 4682, 'these': 4512, 'conservatives': 1033, 'eyes': 1705, 'comes': 944, 'right': 3864, 'elections': 1519, 'helps': 2133, 'gop': 1993, 'should': 4106, 'featured': 1759, 'image': 2255, 'screenshot': 3985, 'officially': 3125, 'george': 1955, 'david': 1214, 'had': 2058, 'strong': 4320, 'words': 4946, 'inauguration': 2283, 'won': 4941, 'actually': 171, 'until': 4721, 'decided': 1240, 'vacation': 4748, 'll': 2698, 'plenty': 3368, 'tweet': 4664, 'posted': 3413, 'throw': 4539, 'worst': 4958, 'being': 556, 'become': 541, 'includes': 2289, 'owned': 3213, 'enter': 1578, 'presidency': 3443, 'january': 2446, '20': 23, 'doubt': 1439, 'slavery': 4151, 'definitely': 1265, 'hell': 2129, 'company': 970, 'products': 3496, 'made': 2748, 'cheap': 839, 'labor': 2564, 'overseas': 3207, 'free': 1893, 'love': 2733, 'fact': 1713, 'supporters': 4379, 'believe': 560, 'bad': 491, 'forget': 1862, 'supremacist': 4384, 'support': 4376, 'campaign': 731, 'adviser': 201, 'followed': 1846, 'how': 2212, 'andrew': 315, 'jackson': 2440, 'least': 2620, 'brave': 652, 'fought': 1875, 'soldier': 4168, 'draft': 1446, 'during': 1474, 'vietnam': 4778, 'could': 1114, 'someone': 4180, 'doesn': 1418, 'care': 759, 'intends': 2366, 'destroy': 1320, 'everything': 1634, 'across': 154, 'days': 1217, 'hope': 2186, 'change': 823, 'gone': 1988, 'double': 1438, 'never': 3039, 'price': 3459, 'alex': 261, 'wong': 4944, 'getty': 1962, 'images': 2256, 'representatives': 3777, 'introduced': 2387, 'criticism': 1161, 'alliance': 274, 'presumptive': 3451, 'adam': 173, 'democrat': 1284, 'john': 2472, 'says': 3954, 'north': 3069, 'treaty': 4626, 'central': 801, 'interest': 2371, 'campaigning': 733, 'old': 3134, 'costs': 1112, 'too': 4572, 'nations': 2999, 'look': 2715, 'defense': 1263, 'world': 4953, 'engaged': 1569, 'america': 299, 'participation': 3252, 'statement': 4267, 'including': 2290, 'lead': 2606, 'backed': 486, '18': 13, 'pledged': 3367, 'hire': 2156, 'refugees': 3699, 'controversial': 1079, 'immigrant': 2260, 'ban': 503, 'ceo': 804, 'howard': 2213, 'schultz': 3973, 'letter': 2644, 'employees': 1548, '75': 102, 'different': 1352, 'five': 1819, 'period': 3308, 'living': 2697, 'unprecedented': 4719, 'witness': 4935, 'promise': 3510, 'dream': 1451, 'question': 3590, 'times': 4554, 'call': 720, 'measures': 2835, 'communication': 964, 'tools': 4575, 'used': 4739, 'past': 3269, 'banned': 510, 'iraqi': 2412, 'six': 4144, 'months': 2940, '2011': 36, 'military': 2883, 'maga': 2751, 'ed': 1496, '28': 59, 'chair': 810, 'mary': 2801, 'robert': 3881, 'gates': 1941, 'kevin': 2526, 'johnson': 2473, 'cooper': 1092, 'james': 2444, 'jr': 2492, 'independent': 2303, 'director': 1365, 'obligation': 3096, 'do': 1409, 'power': 3421, 'make': 2765, 'profit': 3500, 'public': 3558, 'citizens': 876, 'help': 2130, '21st': 50, 'century': 803, 'wire': 4926, '21wire': 51, 'reported': 3769, 'oregon': 3175, 'standoff': 4257, 'protesters': 3540, 'federal': 1763, 'finicum': 1808, 'agent': 231, 'mainstream': 2759, 'silent': 4129, 'running': 3919, 'point': 3374, 'supposed': 4382, 'award': 476, 'referred': 3691, 'planned': 3351, 'traffic': 4599, 'turns': 4662, 'completely': 980, 'wrong': 4969, 'while': 4897, 'managed': 2774, 'cover': 1135, 'beginning': 549, 'obvious': 3101, 'without': 4934, 'audio': 460, 'track': 4593, 'fbi': 1752, 'footage': 1852, 'impossible': 2277, 'shots': 4105, 'fired': 1812, 'official': 3124, 'special': 4212, 'greg': 2025, 'insisted': 2342, 'provided': 3549, 'honest': 2181, 'wasn': 4847, 'evidence': 1636, 'exposing': 1686, 'lie': 2661, 'shot': 4104, 'revealed': 3840, 'heart': 2123, 'problem': 3484, 'legal': 2631, 'proceedings': 3489, 'pre': 3430, 'hired': 2157, 'gunman': 2050, 'trigger': 4632, 'indicted': 2311, 'lying': 2742, 'friends': 1903, 'justice': 2507, '27': 58, '26': 57, 'wilson': 4918, 'allegedly': 272, 'wildlife': 4913, 'refuge': 3697, 'occupation': 3103, 'high': 2145, 'profile': 3499, 'based': 521, 'attorney': 457, 'hostage': 2197, 'rescue': 3794, 'member': 2847, 'joseph': 2485, 'well': 4883, 'known': 2551, 'alaska': 258, 'sen': 4025, 'department': 1297, 'senator': 4027, 'corruption': 1110, 'later': 2584, 'found': 1876, 'example': 1641, 'gross': 2028, 'misconduct': 2903, 'powerful': 3422, 'few': 1779, 'supreme': 4387, 'capitol': 752, 'happen': 2077, 'anybody': 344, 'bar': 513, 'gathering': 1944, 'serve': 4049, 'counsel': 1118, 'portland': 3402, 'attorneys': 458, 'francis': 1887, 'prosecutors': 3530, 'accused': 145, 'investigators': 2396, 'firing': 1813, 'gun': 2049, 'leader': 2607, 'dead': 1220, 'neither': 3031, 'hit': 2165, 'several': 4067, 'failing': 1720, 'disclose': 1372, 'false': 1731, 'obstruction': 3098, 'continue': 1061, 'bundy': 698, 'filessupport': 1794, 'work': 4947, 'subscribing': 4341, 'becoming': 543, 'tv': 4663, 'search': 3991, 'global': 1975, 'warming': 4838, 'helped': 2131, 'fuel': 1909, 'gas': 1939, 'reaching': 3644, 'released': 3736, 'cited': 872, 'el': 1514, 'cycle': 1193, 'factor': 1715, 'behind': 554, 'third': 4520, 'important': 2272, 'pledge': 3366, 'leftist': 2629, 'donors': 1434, 'iraq': 2411, 'pulling': 3566, 'troops': 4637, 'little': 2693, 'detail': 1324, 'rarely': 3634, 'liberal': 2653, 'wanted': 4834, 'leave': 2621, 'threatened': 4531, 'give': 1969, 'immunity': 2263, 'courts': 1134, 'thus': 4544, 'put': 3579, 'men': 2852, 'women': 4940, 'oct': 3107, 'leaving': 2623, 'sovereign': 4200, 'stable': 4244, 'self': 4022, 'representative': 3776, 'success': 4346, 'officials': 3126, 'far': 1738, 'previously': 3458, 'quietly': 3597, 'ground': 2029, 'operations': 3153, 'state': 4265, 'increased': 2294, 'scrutiny': 3987, 'following': 1848, 'death': 1229, 'weekend': 4874, 'marine': 2792, 'second': 3997, 'combat': 939, 'renewed': 3756, 'killed': 2533, 'launched': 2592, 'base': 519, 'city': 878, 'existence': 1655, 'prior': 3471, 'louis': 2731, 'pentagon': 3295, 'declined': 1249, 'serving': 4055, 'northern': 3070, 'protect': 3533, 'nearby': 3012, 'larger': 2578, 'presence': 3439, 'navy': 3007, 'ships': 4091, 'middle': 2873, 'east': 1489, '21': 49, 'brief': 663, 'appearance': 361, 'mr': 2964, 'promised': 3511, 'rest': 3822, 'home': 2178, 'end': 1556, 'nearly': 3013, 'nine': 3051, 'remaining': 3745, '40': 72, 'repeat': 3760, 'mistake': 2913, 'started': 4262, 'march': 2787, '2003': 28, 'weeks': 4876, 'insurgency': 2357, 'violence': 4791, '100': 3, 'civilian': 880, 'lives': 2696, 'however': 2214, 'moving': 2963, 'forward': 1873, 'strength': 4312, 'last': 2582, 'cross': 1167, 'border': 635, 'held': 2128, 'proud': 3543, 'stressed': 4314, 'withdrawal': 4932, 'deadline': 1221, 'reached': 3643, 'earlier': 1481, 'keeping': 2516, 'candidate': 744, 'wind': 4920, 'fast': 1743, 'possible': 3410, 'force': 1855, 'beyond': 578, 'training': 4606, 'capacity': 750, 'acted': 156, 'neighboring': 3028, 'iran': 2409, 'despite': 1319, 'discussions': 1383, 'continued': 1062, 'guarantee': 2037, 'prosecution': 3528, 'plot': 3369, 'worked': 4948, 'debbie': 1233, 'wasserman': 4848, 'access': 133, 'emails': 1532, 'millions': 2888, 'money': 2936, 'laundering': 2594, 'fund': 1915, 'terrorism': 4483, 'daily': 1196, 'caller': 722, 'hezbollah': 2141, 'linked': 2683, 'cash': 776, 'intelligence': 2363, 'set': 4058, 'car': 755, 'fake': 1726, 'reports': 3774, 'cia': 868, 'seemed': 4014, 'ordinary': 3174, 'expenses': 1668, 'facebook': 1707, 'page': 3224, 'falls': 1730, 'whose': 4904, 'photo': 3331, 'taken': 4426, 'model': 2923, 'came': 727, 'web': 4869, 'beautiful': 537, 'girls': 1967, 'looking': 2717, 'buy': 712, 'cars': 771, 'international': 2379, 'often': 3127, 'managing': 2777, 'partner': 3258, 'handling': 2073, 'frequently': 1898, 'simply': 4133, 'go': 1978, 'sell': 4023, 'testified': 4488, 'lawsuit': 2600, 'write': 4964, 'place': 3344, 'try': 4649, 'able': 114, 'sense': 4032, 'many': 2784, 'explain': 1675, 'existing': 1656, 'transactions': 4608, 'resources': 3812, 'supporting': 4380, 'knew': 2547, 'became': 538, 'brother': 680, 'full': 1911, 'control': 1076, 'aides': 245, 'caucus': 784, 'server': 4051, 'thousands': 4528, 'same': 3936, 'homeland': 2179, 'affairs': 210, 'committees': 961, 'took': 4573, 'financial': 1802, 'books': 633, 'bizarre': 600, 'testimony': 4490, 'records': 3681, 'church': 867, 'va': 4747, 'early': 1482, 'decade': 1236, 'drug': 1470, 'enforcement': 1567, 'agency': 229, 'miles': 2880, 'learning': 2619, 'iranian': 2410, 'terrorist': 4484, 'group': 2031, 'deployed': 1300, 'explosive': 1681, 'politico': 3386, 'expose': 1684, 'million': 2887, 'equipment': 1596, 'suspected': 4404, 'businesses': 708, 'signs': 4127, 'wealth': 4862, 'amounts': 306, 'raise': 3614, 'questions': 3593, 'sending': 4030, 'dramatic': 1447, 'opening': 3148, 'marco': 2788, 'rubio': 3910, 'ad': 172, 'titled': 4560, 'morning': 2946, 'isn': 2424, 'canada': 738, 'didn': 1346, 'long': 2712, 'canadian': 739, 'sun': 4370, 'spot': 4235, 'clearly': 895, 'treated': 4624, 'scene': 3965, 'centre': 802, 'port': 3400, 'appears': 364, 'flying': 1839, 'flag': 1822, 'february': 1761, '14': 8, 'wants': 4836, 'find': 1804, 'seems': 4016, 'else': 1529, 'expect': 1663, 'biggest': 586, 'idiot': 2242, 'considering': 1037, 'hoping': 2191, 'name': 2988, '2013': 38, 'delivering': 1278, 'annual': 330, 'address': 179, 'word': 4945, 'water': 4854, 'collective': 930, 'voters': 4814, 'appear': 360, 'gay': 1946, 'repeatedly': 3762, 'release': 3735, 'safe': 3930, 'assume': 439, 'screen': 3982, 'capture': 753, 'occupied': 3104, 'europe': 1621, 'australian': 465, 'researchers': 3796, 'removed': 3754, 'remains': 3746, 'issued': 2429, 'formal': 1864, 'apology': 355, 'turned': 4659, 'region': 3710, 'removal': 3752, 'caused': 787, 'communities': 967, 'research': 3795, 'contributed': 1072, 'significantly': 4125, 'understanding': 4694, 'history': 2164, 'always': 292, 'knowledge': 2550, 'latin': 2586, 'visit': 4800, 'friday': 1900, 'walls': 4831, 'favors': 1751, 'movement': 2959, 'borders': 636, 'comment': 950, 'specifically': 4214, 'proposal': 3525, 'build': 690, 'along': 284, 'mexican': 2864, 'curb': 1182, 'illegal': 2251, 'immigration': 2262, 'trafficking': 4600, 'press': 3447, 'don': 1426, 'investment': 2397, 'office': 3120, 'interested': 2372, 'once': 3138, 'ties': 4548, 'elected': 1517, 'electoral': 1520, 'victory': 4775, '30': 61, 'south': 4197, 'neighbor': 3025, 'showing': 4111, 'pictures': 3340, 'briefly': 667, 'whom': 4903, 'asked': 418, 'deport': 1302, 'provision': 3555, 'allows': 280, 'preserve': 3442, 'judiciary': 2499, 'seconds': 3998, 'week': 4873, 'ago': 235, 'alternative': 290, 'potentially': 3417, 'process': 3490, 'seeking': 4011, 'arrest': 403, 'connection': 1027, 'graft': 2008, 'probe': 3483, 'denied': 1292, 'allegations': 270, 'discussing': 1381, 'migration': 2877, '70': 100, '200': 24, 'illegally': 2252, 'criminals': 1157, 'doctors': 1411, 'games': 1934, 'breaking': 656, '34': 66, 'british': 673, 'league': 2612, 'gold': 1984, '2012': 37, 'london': 2710, 'seven': 4066, '32': 64, '62': 94, 'front': 1905, 'determined': 1332, 'effort': 1507, '33': 65, 'meet': 2842, 'angered': 320, 'surrounding': 4398, 'violating': 4788, 'bbc': 530, 'thought': 4525, 'missed': 2906, 'bit': 598, 'tight': 4549, 'paid': 3226, 'hero': 2138, 'ali': 263, 'race': 3604, 'stance': 4252, 'died': 1348, 'applause': 365, 'greatest': 2021, 'big': 584, 'mine': 2891, 'send': 4029, 'somali': 4175, 'born': 637, 'kenya': 2523, '44': 77, '16': 11, 'hillary': 2153, 'holder': 2170, '13': 7, '12': 5, 'distance': 1396, 'felt': 1775, 'lost': 2727, 'apart': 351, 'four': 1881, 'leading': 2610, '00': 0, '500': 84, '29': 60, 'qatar': 3585, 'jump': 2502, '37': 69, 'produced': 3492, 'britain': 672, 'beaten': 535, 'fifth': 1784, 'mark': 2793, '42': 75, 'struggling': 4328, 'neck': 3016, 'injury': 2334, 'round': 3902, 'tried': 4630, 'sadly': 3929, 'worse': 4957, 'am': 293, 'unable': 4683, 'move': 2957, 'doctor': 1410, 'thinks': 4519, 'affect': 211, 'bid': 582, 'positive': 3407, 'medical': 2839, 'fix': 1820, 'australia': 464, 'competitive': 974, 'return': 3834, 'fall': 1727, 'finished': 1809, '46': 79, 'fundamental': 1916, 'continues': 1063, 'michelle': 2870, 'hateful': 2100, 'divisive': 1406, 'narrative': 2992, 'chapter': 830, 'confederate': 1006, 'carolina': 766, 'emerged': 1538, 'rallies': 3619, 'involving': 2406, 'klan': 2545, 'black': 601, 'police': 3379, 'officer': 3121, 'helping': 2132, 'loyal': 2739, 'kkk': 2544, 'protesting': 3541, 'remove': 3753, 'grounds': 2030, 'advocates': 207, 'rally': 3620, 'among': 304, 'parties': 3255, 'hate': 2099, 'hopeful': 2188, 'rob': 3880, 'deputy': 1305, 'governor': 2002, 'haley': 2062, 'spread': 4237, 'internet': 2381, 'humanity': 2222, 'smith': 4157, 'shelter': 4086, 'heat': 2124, 'wrote': 4971, 'posting': 3414, 'hot': 2201, 'upper': 4729, 'attended': 453, 'crowd': 1170, 'spokeswoman': 4231, 'expected': 1665, 'general': 1949, 'largely': 2577, 'fell': 1772, 'camps': 735, 'questioning': 3592, 'hatred': 2102, 'replied': 3767, 'amazing': 294, 'couldn': 1115, 'reverse': 3847, 'done': 1432, 'nice': 3047, 'save': 3947, 'shooting': 4099, 'encouraged': 1554, 'stay': 4276, 'grace': 2006, 'shown': 4112, 'inspired': 2345, 'neighbors': 3029, 'entire': 1582, 'hopes': 2190, 'join': 2474, 'staying': 4278, 'create': 1144, 'breitbart': 658, 'ohio': 3129, 'texas': 4493, 'local': 2704, 'worry': 4956, 'tax': 4443, 'overhaul': 3206, 'plans': 3353, 'through': 4537, 'harder': 2084, 'streets': 4311, 'fight': 1785, 'teachers': 4452, 'plan': 3347, 'sharply': 4083, 'deduction': 1251, 'claim': 883, 'payments': 3284, 'county': 1127, 'town': 4590, 'governments': 2001, 'ending': 1558, 'taxpayers': 4446, 'especially': 1605, 'less': 2641, 'likely': 2673, 'future': 1928, 'increases': 2295, 'taxes': 4444, 'present': 3440, 'levels': 2648, 'proposed': 3527, 'repeal': 3758, 'assault': 426, 'elizabeth': 1528, 'mayor': 2821, 'minnesota': 2897, 'near': 3011, 'something': 4181, 'schools': 3972, 'operate': 3150, 'fire': 1810, 'departments': 1298, 'maintain': 2760, 'essential': 1606, 'limited': 2676, 'cities': 873, 'towns': 4591, 'counties': 1123, 'property': 3524, 'sales': 3934, 'income': 2291, 'amount': 305, 'due': 1472, 'bill': 590, 'eliminate': 1526, 'individuals': 2314, 'families': 1733, 'entirely': 1583, 'fate': 1744, 'break': 655, 'package': 3221, 'changes': 825, 'trillion': 4634, 'revenues': 3846, 'increase': 2293, 'revenue': 3845, 'corporate': 1103, 'rate': 3635, 'both': 640, 'chuck': 866, 'order': 3171, 'represents': 3780, 'officers': 3122, 'nationwide': 3000, 'concerned': 991, 'total': 4580, 'ability': 113, 'agencies': 228, 'reporters': 3772, 'finance': 1801, 'blame': 603, 'individual': 2313, 'taxpayer': 4445, 'argue': 390, 'seek': 4009, 'spend': 4220, 'maintaining': 2762, 'legislative': 2634, 'exchange': 1645, 'council': 1117, 'nonprofit': 3064, 'conservative': 1032, 'legislators': 2635, 'private': 3477, 'activists': 163, 'various': 4755, 'fighting': 1788, 'hill': 2152, 'steve': 4286, 'williams': 4916, 'growth': 2036, 'demanded': 1280, 'stations': 4272, 'roads': 3879, 'safety': 3931, 'houston': 2209, 'district': 1397, 'brady': 648, 'picking': 3338, 'final': 1799, 'analysis': 309, 'voted': 4812, '22': 52, 'election': 1518, 'station': 4271, 'works': 4952, 'building': 691, 'holding': 2171, 'cell': 798, 'suspects': 4405, 'approve': 379, 'demands': 1282, 'blow': 618, 'huge': 2218, 'hole': 2173, 'budget': 689, 'san': 3937, 'diego': 1349, 'california': 719, 'board': 620, 'concerns': 993, 'impact': 2264, 'community': 968, 'unfair': 4699, 'partly': 3257, 'taking': 4428, 'dnc': 1408, 'wikileaks': 4911, 'ceasefire': 792, 'deals': 1226, 'russia': 3923, 'rebel': 3661, 'areas': 387, 'syria': 4417, 'assad': 423, 'tillerson': 4550, 'de': 1219, 'efforts': 1508, 'turning': 4660, 'air': 250, 'received': 3667, 'main': 2755, 'difference': 1350, 'defeat': 1256, 'credit': 1150, 'isis': 2418, 'advantage': 197, 'situation': 4143, 'pro': 3481, 'open': 3146, 'hollywood': 2175, 'liberals': 2654, 'hour': 2204, 'language': 2575, 'art': 409, 'comedy': 943, 'critics': 1165, 'jim': 2466, 'creation': 1147, 'driver': 1462, 'bus': 705, 'writes': 4966, 'plays': 3362, 'captured': 754, 'dog': 1419, 'performance': 3305, 'names': 2990, 'proven': 3546, 'allen': 273, 'stephen': 4283, 'competition': 973, 'solid': 4170, 'hardly': 2085, 'night': 3049, 'screening': 3984, 'written': 4968, 'directed': 1362, 'drew': 1455, 'touch': 4582, '2007': 32, 'wild': 4912, 'refugee': 3698, 'humanitarian': 2221, 'aid': 243, 'activist': 162, 'text': 4494, 'explains': 1678, 'woman': 4939, 'hear': 2119, 'cast': 777, 'jared': 2449, 'harris': 2088, 'star': 4259, 'jean': 2452, 'affair': 209, 'variety': 4754, 'slow': 4153, 'motion': 2954, 'scenes': 3966, 'focus': 1841, 'music': 2979, 'negative': 3020, 'reaction': 3645, 've': 4758, 'feel': 1766, 'value': 4750, 'stand': 4253, 'everybody': 1632, 'entitled': 1585, 'post': 3412, 'sheriff': 4087, 'sees': 4018, 'bomb': 627, 'kid': 2530, 'got': 1996, 'food': 1850, 'poverty': 3419, 'unemployment': 4698, 'secretary': 4000, 'kerry': 2525, 'democracy': 1283, 'sitting': 4142, 'tough': 4583, 'location': 2706, 'china': 850, 'rare': 3633, 'cabinet': 717, 'arriving': 408, 'paris': 3243, 'route': 3904, 'beijing': 555, 'attend': 452, 'strategic': 4306, 'economic': 1493, 'dialogue': 1343, 'talks': 4433, 'sought': 4192, 'increasingly': 2297, 'rivals': 3874, 'heavily': 2125, 'trade': 4594, 'energy': 1565, 'imports': 2273, 'regularly': 3718, 'transition': 4612, 'independence': 2302, 'soviet': 4202, 'quarter': 3588, 'residence': 3799, 'identity': 2239, 'noted': 3073, 'laws': 2599, 'lack': 2566, 'transparency': 4613, 'executive': 1650, 'judicial': 2498, 'confidence': 1008, 'invited': 2402, 'parliamentary': 3246, 'criticized': 1163, 'rule': 3911, 'parliament': 3245, 'smaller': 4155, 'badly': 492, 'economy': 1495, 'falling': 1729, 'prices': 3460, 'exports': 1683, 'coal': 915, 'weak': 4861, 'demand': 1279, 'trading': 4595, 'implement': 2266, 'agreement': 238, 'provide': 3548, 'investors': 2400, 'signed': 4123, 'implementation': 2267, 'red': 3684, 'tape': 4435, 'commit': 956, 'english': 1572, 'explanation': 1679, 'allow': 277, 'comments': 951, 'key': 2527, 'step': 4282, 'direct': 1361, 'michael': 2868, 'flynn': 1840, 'none': 3063, 'mike': 2878, 'pence': 3290, 'basically': 524, 'hearing': 2121, 'heard': 2120, 'shock': 4094, 'lied': 2662, 'turn': 4657, 'eye': 1704, 'roll': 3890, 'insider': 2340, 'rep': 3757, 'ranking': 3625, 'oversight': 3209, 'sent': 4034, 'information': 2325, 'potential': 3416, 'conflicts': 1014, 'posed': 3404, 'lobbying': 2702, 'receiving': 3668, 'classified': 890, 'briefings': 666, 'firm': 1814, 'intel': 2361, 'inc': 2284, 'lobby': 2701, 'behalf': 552, 'principal': 3468, 'confirmed': 1012, 'stating': 4270, 'informed': 2326, 'elect': 1516, 'close': 905, 'responded': 3816, 'businessman': 709, 'gulen': 2047, 'pennsylvania': 3293, 'responsible': 3821, 'planning': 3352, 'attempted': 449, 'generally': 1950, 'dissent': 1395, 'inside': 2339, 'resigned': 3804, 'claims': 886, 'alone': 283, 'unlikely': 4716, 'common': 963, 'center': 799, 'yet': 4982, 'scandal': 3958, 'powers': 3423, 'avoid': 475, 'occurred': 3106, 'addition': 177, 'warned': 4839, 'vice': 4772, 'directly': 1364, 'created': 1145, 'prevented': 3455, 'conducting': 1005, 'serious': 4047, 'catch': 782, 'issues': 2430, 'poor': 3393, 'school': 3971, 'wonder': 4942, 'thinking': 4518, 'student': 4330, 'awards': 478, 'ceremony': 805, 'anthony': 338, 'teacher': 4451, 'handed': 2069, 'students': 4331, 'watched': 4852, 'joke': 2478, 'suicide': 4365, 'bombing': 628, 'concert': 994, 'offended': 3113, 'feelings': 1768, 'laughing': 2590, 'mom': 2930, 'twice': 4669, 'daughter': 1212, 'advanced': 196, 'academic': 127, 'program': 3502, 'usa': 4737, 'construction': 1047, 'libya': 2658, 'libyan': 2659, 'african': 220, 'seized': 4020, 'traveling': 4620, 'airport': 253, 'plant': 3354, 'asking': 419, 'immediate': 2258, 'indication': 2310, 'website': 4870, 'temporarily': 4469, 'outside': 3200, 'site': 4140, 'subject': 4338, 'contact': 1050, 'impose': 2274, 'accountability': 138, 'blamed': 604, 'syrian': 4418, 'attack': 444, 'april': 382, 'pena': 3288, 'nieto': 3048, 'express': 1687, 'confident': 1009, 'dreamers': 1452, 'mexico': 2866, 'deal': 1223, 'protections': 3537, 'immigrants': 2261, 'brought': 683, 'children': 849, 'reach': 3642, 'coverage': 1136, 'zone': 4996, 'visiting': 4802, 'massive': 2806, 'system': 4419, 'nazi': 3008, 'style': 4337, 'commission': 954, 'inquiry': 2337, 'committed': 959, 'nazis': 3009, 'reuters': 3838, 'korea': 2555, 'rejected': 3728, 'accusations': 143, 'abuses': 126, 'sanctions': 3938, 'pyongyang': 3583, '2006': 31, 'ballistic': 499, 'missiles': 2908, 'nuclear': 3085, 'pressure': 3450, 'improving': 2280, 'providing': 3552, 'korean': 2556, 'permanent': 3309, 'nov': 3080, 'investigating': 2392, 'contacts': 1052, 'panel': 3235, 'communications': 965, 'prompting': 3518, 'insist': 2341, 'determination': 1330, 'nunes': 3089, 'select': 4021, 'prosecutor': 3529, 'returns': 3837, 'appoint': 371, 'exactly': 1640, 'presented': 3441, 'russian': 3924, 'looked': 2716, 'anything': 347, 'richard': 3857, 'collusion': 933, 'fueled': 1910, 'led': 2626, 'fellow': 1773, 'conduct': 1003, 'investigation': 2393, 'politically': 3383, 'acknowledged': 150, 'organizations': 3177, 'intended': 2365, 'promote': 3514, 'partisan': 3256, 'divide': 1402, 'schiff': 3970, 'effective': 1504, 'insisting': 2343, 'begin': 548, 'conclusion': 996, 'nancy': 2991, 'pelosi': 3287, 'raised': 3615, 'attempts': 451, 'influence': 2321, 'prompted': 3517, 'contrast': 1070, 'approach': 375, 'multiple': 2972, 'investigations': 2394, 'email': 1531, 'line': 2680, 'review': 3848, 'successful': 4347, 'starts': 4264, 'standards': 4255, 'comey': 945, 'bureau': 700, 'furious': 1924, 'related': 3729, 'hearings': 2122, 'chris': 859, 'stock': 4291, 'asia': 414, 'prepared': 3437, 'hall': 2064, 'st': 4242, 'markets': 2797, 'unknown': 4713, 'tonight': 4570, 'probably': 3482, 'remain': 3743, 'range': 3623, 'bound': 643, 'punish': 3568, 'message': 2860, 'easily': 1488, 'targeting': 4439, 'hotels': 2203, 'globe': 1976, 'easy': 1491, 'targets': 4440, 'joy': 2491, 'reid': 3723, 'explained': 1676, 'terrorists': 4485, 'attacking': 446, 'buildings': 692, 'start': 4261, 'target': 4437, 'indeed': 2301, 'places': 3346, 'risk': 3871, 'prime': 3466, 'gives': 1971, 'bet': 575, 'targeted': 4438, 'thin': 4514, 'skin': 4148, 'makes': 2766, 'wars': 4844, 'anyone': 346, 'quick': 3594, 'anywhere': 349, 'earth': 1485, 'vulnerable': 4819, 'threaten': 4530, 'threatening': 4532, 'debt': 1234, 'cannot': 746, 'personal': 3316, 'banks': 509, 'extent': 1695, 'hotel': 2202, 'built': 693, 'acts': 169, 'way': 4858, 'absolutely': 122, 'critical': 1160, 'owns': 3217, 'las': 2581, 'vegas': 4759, 'chicago': 844, 'york': 4983, 'properties': 3523, 'india': 2305, 'literally': 2691, 'launch': 2591, 'retaliation': 3831, 'blood': 616, 'gateway': 1942, 'pundit': 3567, 'popular': 3396, 'publication': 3559, 'supremacists': 4385, 'means': 2831, 'fit': 1818, 'grant': 2011, 'allowing': 279, 'ask': 417, 'spicer': 4223, 'founder': 1879, 'source': 4195, 'brown': 684, 'ferguson': 1778, 'cop': 1096, 'bottom': 641, 'alleged': 271, 'repeated': 3761, 'wing': 4922, 'reality': 3654, 'deleted': 1274, 'ultimately': 4681, 'live': 2694, 'radio': 3611, 'warren': 4843, 'apologize': 353, 'ck': 882, 'rex': 3853, 'notes': 3074, 'parade': 3238, 'cnn': 913, 'late': 2583, 'friendly': 1902, 'willing': 4917, 'allowed': 278, 'homes': 2180, 'bangladesh': 505, 'diplomacy': 1357, 'things': 4516, 'door': 1435, 'highest': 2147, 'graphic': 2014, 'rohingya': 3887, 'click': 897, 'rs': 3908, 'additional': 178, 'funds': 1921, 'investments': 2398, 'veteran': 4767, 'minister': 2894, 'euro': 1620, 'succeed': 4345, 'coalition': 916, 'trying': 4650, 'form': 1863, 'widely': 4907, 'fdp': 1754, 'joining': 2476, 'stopped': 4297, 'short': 4102, 'claiming': 885, 'ministry': 2896, 'christian': 860, 'fiscal': 1817, 'greece': 2022, 'putting': 3582, 'loyalty': 2740, 'ahead': 241, 'political': 3382, 'convictions': 1086, 'consistent': 1039, 'himself': 2155, 'soon': 4188, 'trip': 4635, 'planet': 3350, 'oh': 3128, 'wait': 4822, 'japan': 2447, 'shoot': 4097, 'shows': 4113, 'complete': 978, 'capabilities': 748, 'extremely': 1699, 'difficult': 1353, 'speed': 4218, 'missile': 2907, 'embarrassed': 1533, 'alongside': 285, 'tests': 4492, 'systems': 4420, 'consistently': 1040, 'ourselves': 3189, 'thing': 4515, 'understand': 4693, 'wouldn': 4961, 'belief': 558, 'stupid': 4336, 'ethnic': 1618, 'headed': 2110, 'walking': 4828, 'racist': 3608, 'stage': 4248, 'kremlin': 2557, 'putin': 3580, 'phone': 3328, 'crisis': 1158, 'carried': 767, 'locations': 2707, 'large': 2576, 'numbers': 3087, 'sign': 4120, 'moscow': 2948, 'cooperate': 1093, 'serves': 4052, 'together': 4564, 'followers': 1847, 'saturday': 3945, 'immediately': 2259, 'respond': 3815, 'requests': 3787, 'alert': 260, 'islamist': 2421, 'militant': 2881, 'explosion': 1680, 'train': 4604, 'mainly': 2758, 'ex': 1638, 'themselves': 4505, 'values': 4751, 'hold': 2169, 'higher': 2146, 'moral': 2943, 'standard': 4254, 'hypocrisy': 2231, 'missouri': 2912, 'legislature': 2636, 'require': 3788, 'gift': 1964, 'sex': 4069, 'disclosed': 1373, 'monetary': 2935, 'actual': 170, 'term': 4478, 'shall': 4074, 'sexual': 4071, 'registered': 3714, 'assembly': 428, 'married': 2799, 'persons': 3319, 'entered': 1579, 'relationship': 3731, 'registration': 3715, 'employment': 1550, 'reporting': 3773, 'purposes': 3573, 'dollar': 1422, 'yeah': 4976, 'gain': 1930, 'speculation': 4215, 'game': 1933, 'dinner': 1356, 'club': 912, 'fully': 1912, 'oversees': 3208, 'speaker': 4209, 'meetings': 2844, 'justify': 2509, 'actions': 159, 'requires': 3792, 'listed': 2687, 'lobbyists': 2703, 'engaging': 1571, 'activity': 165, 'lawmakers': 2598, 'answers': 336, 'sure': 4388, 'abortion': 115, 'removing': 3755, 'politics': 3387, 'standing': 4256, 'path': 3272, 'finally': 1800, 'broken': 679, 'landslide': 2574, 'announcing': 329, 'longer': 2713, 'matt': 2812, 'moore': 2942, 'gave': 1945, 'primary': 3465, 'ballot': 500, 'raises': 3616, 'answer': 334, 'contests': 1059, 'resolve': 3809, 'walk': 4825, 'opponents': 3158, 'delegate': 1271, 'count': 1119, 'further': 1925, 'crucial': 1173, 'push': 3576, 'strip': 4319, 'ego': 1509, 'eventually': 1629, 'document': 1412, 'endorse': 1559, 'regardless': 3707, 'suddenly': 4353, 'opposition': 3166, 'telling': 4467, 'anderson': 314, 'anymore': 345, 'arguing': 392, 'ignored': 2247, 'manager': 2776, 'staffers': 4247, 'mccain': 2824, 'behavior': 553, 'polls': 3390, 'rival': 3873, 'momentum': 2933, 'arms': 399, 'phoenix': 3327, 'interesting': 2373, 'antifa': 340, 'check': 840, 'announcement': 328, 'steven': 4287, 'deserves': 1313, 'please': 3365, 'pray': 3428, 'aliens': 265, 'thugs': 4542, 'list': 2686, 'shocked': 4095, 'silence': 4128, 'tactics': 4423, 'extreme': 1698, 'destruction': 1323, 'happens': 2080, 'sides': 4119, 'using': 4743, 'scary': 3963, 'huffington': 2217, 'article': 410, 'everyone': 1633, 'agenda': 230, 'noticed': 3077, 'yesterday': 4981, 'replaced': 3764, 'totally': 4581, 'haven': 2105, 'physical': 3334, 'shocking': 4096, 'jumped': 2503, 'threw': 4536, 'jose': 2484, 'sued': 4355, 'pushed': 3577, 'forced': 1856, 'fundraiser': 1919, 'elderly': 1515, 'tennessee': 4473, 'assaulted': 427, 'sale': 3933, 'jersey': 2456, 'september': 4043, 'supported': 4377, 'college': 931, 'kicked': 2529, 'maryland': 2802, 'wearing': 4867, 'hat': 2097, 'arrested': 404, 'mexicans': 2865, 'beating': 536, 'girl': 1966, 'bullying': 696, 'tower': 4589, 'upset': 4730, 'gathered': 1943, 'tied': 4547, 'connecticut': 1026, 'december': 1238, 'surrounded': 4397, 'vehicle': 4760, 'began': 547, 'burning': 703, 'tom': 4567, 'angry': 321, 'vehicles': 4761, 'female': 1776, 'staffer': 4246, 'protest': 3538, 'berkeley': 569, 'campus': 736, 'thrown': 4541, 'charles': 837, 'murray': 2977, 'pushing': 3578, 'hair': 2060, 'suffered': 4357, 'forth': 1871, 'canceled': 741, 'threats': 4534, 'violent': 4792, 'protests': 3542, 'ann': 324, 'coulter': 1116, 'series': 4046, 'deemed': 1252, 'credible': 1149, 'agents': 232, 'road': 3878, 'dakota': 1197, 'identified': 2237, 'lock': 2708, 'significant': 4124, 'injuries': 2333, 'june': 2504, 'baseball': 520, 'practice': 3424, 'majority': 2764, 'scalise': 3957, 'threat': 4529, 'shortly': 4103, 'driving': 1464, 'reportedly': 3770, 'truck': 4640, 'indiana': 2307, 'producer': 3493, 'spotlight': 4236, 'onto': 3144, 'pointing': 3376, 'direction': 1363, 'letting': 2646, 'successfully': 4348, 'moments': 2932, 'single': 4136, 'seat': 3993, 'sorry': 4190, 'seeing': 4008, 'likes': 2674, 'integrity': 2360, 'closer': 908, 'scheme': 3969, 'suggests': 4364, 'enormous': 1574, 'entering': 1580, 'mostly': 2951, 'multi': 2971, 'billionaire': 592, 'info': 2323, 'net': 3034, 'worth': 4959, 'estimated': 1614, 'financing': 1803, 'loans': 2700, 'date': 1211, 'foundation': 1877, 'terms': 4479, 'secret': 3999, 'hard': 2083, 'imagine': 2257, 'revelations': 3844, 'spending': 4221, 'commercial': 953, 'plane': 3348, 'boeing': 625, 'transport': 4615, '43': 76, 'passengers': 3267, '24': 54, 'sit': 4139, 'room': 3895, 'jet': 2459, 'aircraft': 251, 'cost': 1111, 'bills': 594, 'kind': 2538, 'companies': 969, 'manage': 2773, 'corp': 1102, 'tens': 4474, 'dollars': 1423, 'bars': 518, 'candidates': 745, 'campaigns': 734, 'paul': 3280, 'ryan': 3926, 'sort': 4191, 'strange': 4305, 'gray': 2018, 'area': 386, 'addressed': 180, 'ivanka': 2438, 'technical': 4458, 'violation': 4789, 'pocket': 3372, 'throughout': 4538, 'vowed': 4817, 'profits': 3501, 'losses': 2726, 'filed': 1792, 'empire': 1545, 'major': 2763, 'describing': 1309, 'straight': 4304, 'wife': 4910, 'mate': 2808, 'tip': 4557, 'pruitt': 3557, 'show': 4109, 'figure': 1789, 'credibility': 1148, 'ben': 564, 'carson': 772, 'talked': 4431, 'coming': 947, 'surprised': 4395, 'gotten': 1997, 'adult': 193, 'life': 2665, 'surely': 4389, 'god': 1981, 'certainly': 807, 'heavy': 2126, 'drop': 1466, 'favorite': 1750, 'either': 1513, 'stuck': 4329, 'split': 4226, 'deserve': 1312, 'spencer': 4219, 'vladimir': 4806, 'concrete': 997, 'results': 3829, 'creating': 1146, 'conditions': 1002, 'speaking': 4210, 'austria': 466, 'freedom': 1894, 'struck': 4324, 'share': 4077, 'equally': 1595, 'referendum': 3690, 'membership': 2849, '31': 63, 'republic': 3781, 'interior': 2377, 'agriculture': 240, 'afraid': 218, 'incoming': 2292, 'praised': 3427, 'hitler': 2166, 'eight': 1512, 'founded': 1878, 'campaigned': 732, 'bloc': 611, '1994': 19, 'available': 472, 'unlike': 4715, 'france': 1886, 'obtained': 3100, 'brexit': 660, 'votes': 4815, 'joint': 2477, 'goals': 1980, 'achieved': 148, 'dominated': 1425, 'asylum': 440, 'seekers': 4010, 'benefits': 566, 'wave': 4857, 'arrivals': 406, 'battle': 528, 'ended': 1557, 'specific': 4213, 'invasion': 2388, 'emerging': 1540, 'oppose': 3161, 'recognize': 3675, 'ideas': 2235, 'points': 3377, 'politicians': 3385, 'gained': 1931, 'le': 2605, 'tomorrow': 4568, 'fewer': 1780, '2000': 25, 'rise': 3869, 'stone': 4294, 'privacy': 3476, 'voiced': 4809, 'promoted': 3515, 'movie': 2962, 'nsa': 3084, 'associated': 436, 'surveillance': 4399, 'monitoring': 2938, 'magazine': 2752, 'funny': 1923, 'happening': 2079, 'google': 1992, 'data': 1209, 'mining': 2893, 'buying': 713, 'frankly': 1891, 'faced': 1708, 'player': 3359, 'account': 137, 'users': 4741, 'files': 1793, 'lebanon': 2625, 'al': 255, 'hariri': 2086, 'sparked': 4206, 'declaring': 1247, 'resignation': 3803, 'riyadh': 3876, 'traveled': 4618, 'saudi': 3946, 'sunni': 4372, 'arabia': 384, 'shi': 4088, 'ite': 2434, 'aggression': 233, 'lebanese': 2624, 'tiny': 4556, 'ratings': 3639, 'joined': 2475, 'unity': 4710, 'harm': 2087, 'rating': 3638, 'sudden': 4352, 'nature': 3005, 'abu': 124, 'arab': 383, 'emirates': 1541, 'crown': 1172, 'prince': 3467, 'mohammed': 2929, 'bin': 595, 'salman': 3935, 'supply': 4375, 'militias': 2885, 'yemen': 4979, 'kingdom': 2541, 'rocket': 3884, 'hours': 2205, 'newly': 3041, 'doug': 1441, 'jones': 2481, 'margin': 2789, 'hasn': 2095, '25': 55, 'highly': 2149, 'contentious': 1057, 'roy': 3906, 'overwhelmingly': 3211, 'unless': 4714, 'gets': 1960, 'interview': 2383, 'prominent': 3509, 'harassment': 2082, 'resign': 3802, 'interviews': 2385, 'stunning': 4335, 'alabama': 256, 'real': 3652, 'facing': 1712, 'odds': 3109, 'ny': 3090, '19': 14, 'stepped': 4284, 'franken': 1890, 'conyers': 1090, 'spoke': 4227, 'passing': 3268, 'priorities': 3472, 'infrastructure': 2327, 'wrongdoing': 4970, 'sexually': 4072, 'divided': 1403, 'agree': 236, 'protester': 3539, 'cleveland': 896, 'light': 2670, 'attempt': 448, 'awesome': 481, 'riot': 3867, 'thank': 4497, 'mandatory': 2779, 'otherwise': 3187, 'clintons': 902, 'speeches': 4217, 'concerning': 992, 'simple': 4132, 'horrible': 2192, 'possibly': 3411, 'remember': 3749, 'crooked': 1166, 'collected': 928, 'fees': 1770, 'advance': 195, '2014': 39, 'book': 632, 'choices': 854, 'husband': 2229, 'relief': 3739, 'couple': 1129, '2001': 26, 'ends': 1562, 'mrs': 2965, 'favor': 1747, 'industry': 2318, 'bed': 544, 'goldman': 1986, 'sachs': 3927, 'bob': 622, 'trips': 4636, 'morgan': 2945, 'bank': 506, 'roberts': 3882, 'management': 2775, 'character': 831, 'rolling': 3891, 'pop': 3394, 'somewhat': 4183, 'conspiracy': 1041, 'theory': 4508, 'tech': 4457, 'internal': 2378, 'struggle': 4326, 'institutions': 2351, 'determine': 1331, 'exclusive': 1647, 'unusual': 4722, 'criticize': 1162, 'reckless': 3673, 'definition': 1266, 'science': 3975, 'assigned': 432, 'carl': 764, 'supposedly': 4383, 'suffering': 4358, 'loss': 2725, 'seem': 4013, 'background': 487, 'piece': 3341, 'consider': 1034, 'writing': 4967, 'talking': 4432, 'experts': 1673, 'writer': 4965, 'scientific': 3976, 'published': 3561, 'reviewed': 3849, 'weapons': 4865, 'ones': 3140, 'learned': 2618, 'draw': 1448, 'lines': 2681, 'scientists': 3977, 'sound': 4193, 'body': 624, 'lots': 2729, 'effects': 1506, 'environmental': 1588, 'aware': 479, 'interviewed': 2384, 'others': 3186, 'solve': 4174, 'victims': 4774, 'weapon': 4864, 'seriously': 4048, 'notion': 3079, 'mad': 2746, 'readers': 3647, 'accepted': 131, 'articles': 411, 'editorial': 1500, 'judgment': 2497, 'blaming': 605, 'concluded': 995, 'reading': 3648, 'driven': 1461, 'topic': 4577, 'opportunity': 3160, 'suggest': 4360, 'welcome': 4880, 'yes': 4980, 'somehow': 4179, 'circle': 869, 'evil': 1637, 'flood': 1834, 'act': 155, 'normally': 3068, 'subscribe': 4340, 'denial': 1291, 'losing': 2724, 'rigged': 3863, 'thanks': 4498, 'leaked': 2614, 'numerous': 3088, 'jake': 2443, 'tapper': 4436, 'mind': 2889, 'spokesperson': 4230, 'voter': 4813, 'fraud': 1892, 'upon': 4728, 'ways': 4859, 'donations': 1431, 'contributions': 1074, 'restaurant': 3823, 'cuomo': 1181, 'covering': 1138, 'argument': 393, 'boss': 638, 'colorado': 936, 'went': 4885, 'damn': 1203, 'guest': 2042, 'dispute': 1391, 'segment': 4019, 'erupted': 1602, 'chaos': 829, 'ridiculous': 3861, 'sometimes': 4182, 'hiring': 2158, 'contractors': 1067, 'believed': 561, 'authority': 469, 'mattis': 2816, 'understood': 4696, 'buzzfeed': 714, 'ensure': 1576, 'reflect': 3693, 'within': 4933, 'changing': 826, 'responding': 3817, 'replacing': 3766, 'transparent': 4614, 'task': 4441, 'influential': 2322, 'allied': 275, 'mosul': 2952, 'particularly': 3254, 'enemy': 1564, 'bernardino': 571, 'jeff': 2454, 'sessions': 4057, 'pretty': 3453, 'listen': 2688, 'rhetoric': 3854, 'religion': 3740, 'army': 400, 'lose': 2723, 'illegals': 2253, 'eligible': 1525, 'funding': 1918, 'aug': 462, 'letters': 2645, 'provides': 3551, 'gang': 1935, 'confirm': 1010, 'cooperation': 1094, 'asks': 420, 'detention': 1329, 'facilities': 1710, 'request': 3785, '48': 81, 'scheduled': 3968, 'comply': 984, 'unconstitutional': 4688, 'religious': 3741, 'condemn': 998, 'taiwan': 4424, 'leadership': 2609, 'damage': 1199, 'relationships': 3732, 'complaint': 976, 'apparently': 357, 'chinese': 851, 'learn': 2617, 'moves': 2961, 'consequences': 1031, 'aggressive': 234, 'intent': 2368, 'treat': 4623, 'wanting': 4835, 'winner': 4923, 'noting': 3078, 'decades': 1237, 'sensitive': 4033, 'potus': 3418, 'shit': 4093, 'damaging': 1201, 'becomes': 542, 'acting': 157, 'constant': 1042, 'foot': 1851, 'oval': 3202, 'embarrassment': 1535, 'chip': 852, 'somodevilla': 4184, 'indonesia': 2315, '11': 4, 'fighter': 1786, 'jets': 2460, 'billion': 591, 'ministers': 2895, 'southeast': 4198, 'asian': 415, 'ship': 4090, '35': 67, 'delivered': 1277, 'defence': 1258, 'type': 4672, 'negotiated': 3022, 'palm': 3234, 'oil': 3130, 'tea': 4449, 'meanwhile': 2833, 'largest': 2579, 'amid': 302, 'string': 4318, 'expand': 1659, 'tourism': 4586, 'education': 1501, 'technology': 4459, 'migrants': 2876, 'boat': 621, 'coast': 917, 'picked': 3337, 'arrived': 407, 'guard': 2038, 'commander': 949, 'sea': 3989, 'naval': 3006, 'departure': 1299, 'italy': 2433, 'increasing': 2296, 'sharp': 4082, 'surge': 4392, 'missing': 2909, 'hilarious': 2151, 'flat': 1825, 'faces': 1709, 'merely': 2857, 'growing': 2034, 'operation': 3152, 'included': 2288, 'hacking': 2057, 'comparison': 972, 'foreigners': 1861, 'purpose': 3572, 'harry': 2089, 'stars': 4260, 'actors': 167, 'nevada': 3038, 'screaming': 3981, 'worried': 4955, 'okay': 3132, 'singer': 4135, 'latino': 2587, 'cyber': 1192, 'latinos': 2588, 'kim': 2537, 'performed': 3306, 'strongly': 4323, 'stewart': 4288, 'artist': 412, 'openly': 3149, 'op': 3145, 'castro': 778, 'lawmaker': 2597, 'illinois': 2254, 'pointed': 3375, 'ads': 192, 'play': 3357, 'hispanic': 2160, 'goal': 1979, 'flickr': 1830, 'paying': 3282, 'ignorance': 2244, 'busy': 710, '1990s': 16, 'lawyers': 2603, 'irs': 2416, 'cancel': 740, 'except': 1643, 'corporations': 1105, '1993': 18, 'estate': 1612, 'trouble': 4638, 'weren': 4887, 'partnership': 3260, 'equity': 1597, 'stocks': 4292, 'legally': 2632, 'opinion': 3155, 'regulation': 3719, 'administrative': 185, 'substantial': 4344, 'exist': 1654, 'respect': 3813, 'nobody': 3055, 'somebody': 4178, 'hiding': 2144, 'items': 2435, 'laid': 2569, '1995': 20, '2004': 29, 'senators': 4028, 'brian': 661, 'duke': 1473, 'politician': 3384, 'wolf': 4938, 'jewish': 2461, 'videos': 4777, 'jews': 2462, 'wide': 4906, 'wallace': 4830, 'exposed': 1685, 'extremist': 1701, 'israel': 2426, 'megyn': 2845, 'kelly': 2519, 'fair': 1723, 'raw': 3640, 'jerusalem': 2457, 'mouth': 2956, 'sudan': 4351, 'extend': 1691, 'rebels': 3662, 'lifted': 2668, 'progress': 3504, 'blue': 619, 'regions': 3712, 'declared': 1246, 'conflict': 1013, 'lift': 2667, 'assets': 431, 'isolated': 2425, 'expire': 1674, 'racism': 3607, 'bigoted': 587, 'arizona': 395, 'joe': 2471, 'arpaio': 402, 'convicted': 1084, 'civil': 879, 'contempt': 1055, 'hates': 2101, 'orange': 3170, 'fascist': 1741, 'receive': 3666, 'served': 4050, 'extension': 1693, 'particular': 3253, 'minorities': 2899, 'constantly': 1043, 'birth': 597, 'original': 3182, 'infamous': 2320, 'disgusting': 1385, 'bigotry': 588, 'backlash': 489, 'disaster': 1370, 'floor': 1835, 'combined': 940, 'class': 889, 'scale': 3955, 'spent': 4222, 'cause': 786, 'healthcare': 2117, 'lgbt': 2651, 'etc': 1616, 'qualified': 3586, 'smart': 4156, 'deny': 1295, 'figures': 1790, 'detailed': 1325, 'happy': 2081, 'grade': 2007, 'debates': 1232, 'choose': 855, 'dirty': 1366, 'produce': 3491, 'guilty': 2046, 'stick': 4289, 'uncovered': 4689, 'secrets': 4001, 'rumors': 3916, 'benghazi': 567, 'scandals': 3959, 'rush': 3922, 'map': 2785, 'looks': 2718, 'statistics': 4273, 'speak': 4208, 'opposite': 3165, 'calm': 725, 'damascus': 1202, 'sergei': 4044, 'desert': 1311, 'met': 2862, 'raising': 3617, 'strict': 4315, 'crimea': 1154, 'ukraine': 4678, 'soldiers': 4169, 'peninsula': 3292, 'bashar': 522, 'table': 4421, 'authorized': 470, 'trend': 4628, 'dec': 1235, 'maria': 2790, 'complex': 981, 'parts': 3261, 'edge': 1497, 'giving': 1972, 'bigger': 585, 'fourth': 1882, 'trust': 4646, 'summer': 4368, 'afghanistan': 217, 'completed': 979, 'collapse': 925, 'armed': 398, 'georgia': 1956, 'foster': 1874, 'flew': 1829, 'lavrov': 2595, 'visited': 4801, 'bring': 669, 'peace': 3285, 'spoken': 4228, 'importance': 2271, 'constitution': 1045, 'envoy': 1589, 'israeli': 2427, 'benjamin': 568, 'netanyahu': 3035, 'mutual': 2983, 'senior': 4031, 'russians': 3925, 'saved': 3948, 'interference': 2376, 'hacked': 2055, 'accounts': 140, 'briefing': 665, 'proof': 3519, 'territory': 4481, 'incident': 2285, 'ranging': 3624, 'frequent': 1897, 'egypt': 1510, 'omar': 3136, 'hosted': 2198, 'eastern': 1490, 'carrier': 768, 'link': 2682, 'incidents': 2286, 'facility': 1711, 'centers': 800, 'domestic': 1424, 'expanded': 1660, 'analysts': 311, 'views': 4782, 'digital': 1354, 'decisions': 1243, 'scope': 3978, 'chairs': 812, 'feeling': 1767, 'enemies': 1563, 'tank': 4434, 'opinions': 3156, 'voice': 4808, 'tired': 4558, '2010': 35, 'crash': 1142, 'result': 3826, 'drawing': 1449, 'poland': 3378, 'grow': 2033, 'killing': 2535, 'ruling': 3914, 'error': 1601, 'deeply': 1255, 'communist': 966, 'tradition': 4596, 'denounced': 1294, 'genocide': 1954, 'tragedy': 4601, 'referring': 3692, 'massacre': 2805, 'destroyed': 1321, 'pieces': 3342, 'deliberately': 1275, 'southern': 4199, 'swedish': 4412, 'extensive': 1694, 'injured': 2332, 'unclear': 4686, 'checks': 841, 'arrests': 405, 'sweden': 4411, 'shootings': 4100, 'accident': 134, 'gmt': 1977, 'moved': 2958, 'action': 158, 'abe': 111, 'counter': 1121, 'theresa': 4511, 'attending': 454, 'stability': 4243, 'ensuring': 1577, 'regime': 3709, 'compromise': 986, 'virginia': 4794, 'lee': 2627, 'viewed': 4780, 'dangerous': 1206, 'faith': 1725, 'resulted': 3827, 'founding': 1880, 'encouraging': 1555, 'king': 2540, 'martin': 2800, 'sarah': 3943, 'sanders': 3940, 'perfect': 3302, 'representing': 3779, 'heritage': 2137, 'deadly': 1222, 'nationalists': 2997, 'charlottesville': 838, 'condemnation': 999, 'praise': 3426, 'controversy': 1080, 'congresswoman': 1023, 'hidden': 2142, 'camera': 728, 'parenthood': 3241, 'governors': 2003, 'waiting': 4823, 'legislation': 2633, 'identification': 2236, 'clean': 891, 'affordable': 215, 'waste': 4849, 'witch': 4929, 'federation': 1764, 'finding': 1805, 'handled': 2072, 'cases': 775, 'stopping': 4298, 'releasing': 3737, 'ireland': 2413, 'guys': 2053, 'bully': 695, 'aside': 416, 'constitutional': 1046, 'saving': 3949, 'vital': 4805, 'francisco': 1888, 'easier': 1487, 'lawsuits': 2601, 'intend': 2364, 'ideological': 2240, 'choice': 853, 'manufacturing': 2783, 'accountable': 139, 'stories': 4301, 'carefully': 762, 'achieve': 147, 'feature': 1758, 'arguments': 394, 'documented': 1414, 'sold': 4167, '250': 56, 'core': 1099, 'bought': 642, 'donated': 1429, 'symbol': 4416, 'grown': 2035, 'protected': 3534, 'pool': 3392, 'plea': 3363, 'investor': 2399, 'koch': 2553, 'ruled': 3912, 'carbon': 756, 'reducing': 3687, 'rates': 3636, 'tool': 4574, 'production': 3495, 'regulatory': 3722, 'employed': 1546, 'circumstances': 871, 'indicate': 2308, 'recovery': 3683, 'development': 1338, 'land': 2571, 'meant': 2832, 'lands': 2573, 'contribute': 1071, 'brothers': 682, 'donor': 1433, 'causes': 788, 'blm': 610, 'positions': 3406, 'grand': 2010, 'jury': 2505, 'lawyer': 2602, 'mueller': 2969, 'investigate': 2390, 'assistant': 434, 'manhattan': 2780, 'extended': 1692, 'offer': 3116, 'corrupt': 1109, 'practices': 3425, 'pursuing': 3575, 'fundraising': 1920, 'accuse': 144, 'indictment': 2312, 'pleaded': 3364, 'steps': 4285, 'obtain': 3099, 'develop': 1335, 'citizen': 875, 'antonin': 341, 'scalia': 3956, 'minds': 2890, 'giant': 1963, 'corporation': 1104, 'scared': 3962, 'possibility': 3409, 'settled': 4063, 'chemical': 843, 'kansas': 2513, 'upheld': 4727, 'ag': 224, 'customers': 1187, 'justices': 2508, 'realized': 3656, 'settlement': 4064, 'litigation': 2692, 'events': 1628, 'changed': 824, 'assessment': 429, 'hurt': 2228, 'average': 474, 'involvement': 2405, 'sidelines': 4118, 'wins': 4925, 'hampshire': 2067, 'epic': 1591, 'fed': 1762, 'documents': 1415, 'conducted': 1004, 'witnesses': 4937, 'unnamed': 4717, 'tells': 4468, 'tenure': 4477, 'michigan': 2871, 'block': 612, 'bipartisan': 596, 'fails': 1721, 'flint': 1833, 'appeared': 362, 'ignore': 2246, 'prospects': 3532, 'peter': 3322, 'economist': 1494, 'formed': 1866, 'confirmation': 1011, 'required': 3789, 'strategist': 4307, '64': 96, 'exxon': 1703, 'rose': 3898, 'thailand': 4495, 'mnuchin': 2919, '54': 88, 'hedge': 2127, '2002': 27, 'mortgage': 2947, '2009': 34, 'housing': 2208, 'advocacy': 205, 'accusing': 146, 'retired': 3832, 'command': 948, '66': 98, '2005': 30, 'fun': 1913, 'son': 4185, 'store': 4299, 'opposing': 3164, 'undocumented': 4697, '55': 89, 'natural': 3003, 'ranks': 3626, 'lifetime': 2666, 'score': 3979, 'ross': 3900, 'heads': 2115, 'shape': 4076, 'entry': 1586, 'causing': 789, 'factory': 1716, 'runs': 3920, 'critic': 1159, 'argued': 391, 'minimum': 2892, 'wages': 4821, 'forcing': 1858, 'obamacare': 3094, 'credits': 1151, 'savings': 3950, 'replace': 3763, '65': 97, 'dropped': 1467, 'nominating': 3058, 'indicated': 2309, '63': 95, 'rand': 3622, 'materials': 2811, 'mitch': 2915, 'mcconnell': 2826, 'kentucky': 2522, 'perry': 3313, 'adds': 183, 'drilling': 1457, 'eager': 1480, 'expansion': 1662, 'devos': 1341, 'advocate': 206, '45': 78, 'activities': 164, 'protection': 3536, 'administrator': 186, 'scott': 3980, 'opponent': 3157, 'oklahoma': 3133, 'challenged': 814, 'epa': 1590, 'mulvaney': 2973, '49': 82, 'outspoken': 3201, 'indian': 2306, '68': 99, 'pompeo': 3391, '52': 86, 'congressman': 1022, 'harvard': 2091, 'supports': 4381, 'sweeping': 4413, 'collection': 929, 'lieutenant': 2664, '57': 91, 'fierce': 1783, 'cohn': 921, '56': 90, 'operating': 3151, 'considered': 1036, 'apparent': 356, 'television': 4465, 'structure': 4325, 'engagement': 1570, 'assistance': 433, 'advised': 200, 'suggesting': 4362, 'division': 1404, 'sept': 4042, 'qaeda': 3584, 'academy': 128, 'ice': 2232, 'bannon': 512, 'shift': 4089, 'forum': 1872, 'alt': 288, 'loose': 2719, 'reject': 3727, 'neo': 3033, 'victim': 4773, 'bernie': 572, 'attitude': 456, 'motivated': 2955, 'ignorant': 2245, 'improved': 2279, 'originally': 3183, 'blog': 615, 'author': 467, 'reads': 3649, 'follows': 1849, 'amendment': 297, 'wish': 4928, 'declare': 1245, '2016the': 42, 'describes': 1308, 'male': 2769, 'fled': 1826, 'drove': 1469, 'insurance': 2355, '400': 73, 'update': 4726, 'myself': 2986, 'turnout': 4661, 'intense': 2367, 'storm': 4302, 'km': 2546, 'island': 2422, 'islands': 2423, 'marked': 2794, 'seats': 3994, 'weather': 4868, 'roughly': 3901, 'match': 2807, 'super': 4373, 'divisions': 1405, 'camp': 730, 'civilians': 881, 'affected': 212, 'urged': 4734, 'deaths': 1230, 'emergency': 1539, 'session': 4056, 'warning': 4841, 'palestinian': 3231, 'declaration': 1244, 'egyptian': 1511, 'expressed': 1688, 'regret': 3716, 'hoped': 2187, 'overwhelming': 3210, 'weight': 4877, 'criticizing': 1164, 'requested': 3786, 'note': 3072, 'appropriate': 377, 'recommendations': 3677, 'recognized': 3676, 'outrage': 3196, 'palestinians': 3232, 'concern': 990, 'sovereignty': 4201, 'insult': 2352, 'considers': 1038, 'sector': 4003, 'internationally': 2380, 'demanding': 1281, 'mandate': 2778, '2019': 47, 'delay': 1269, 'escalation': 1603, 'africa': 219, 'strike': 4316, 'burned': 702, 'residents': 3801, 'toll': 4566, 'commissioner': 955, 'province': 3553, 'filled': 1797, 'militia': 2884, 'disease': 1384, 'challenges': 815, 'native': 3001, 'river': 3875, 'urban': 4732, 'connected': 1025, 'fighters': 1787, 'ahmed': 242, 'prize': 3480, 'jordan': 2483, 'offered': 3117, 'hopefully': 2189, 'patriot': 3276, 'offering': 3118, 'rt': 3909, 'thomas': 4522, 'minor': 2898, 'surgery': 4393, 'online': 3142, 'shop': 4101, 'worker': 4949, 'lunch': 2741, 'jimmy': 2467, 'confronted': 1017, 'ticket': 4545, 'drivers': 1463, 'patrol': 3278, 'mail': 2754, 'refused': 3702, 'cops': 1097, 'employee': 1547, 'dan': 1204, 'deliver': 1276, 'donation': 1430, 'lowest': 2738, 'spreading': 4238, 'replacement': 3765, 'nominated': 3057, 'opportunities': 3159, 'teaching': 4453, 'disputes': 1393, 'pipeline': 3343, 'decide': 1239, 'appointed': 372, 'televised': 4464, 'embarrassing': 1534, 'nbc': 3010, 'veterans': 4768, 'accepting': 132, 'broad': 674, 'revealing': 3841, 'extremists': 1702, 'upcoming': 4725, 'absolute': 121, 'rock': 3883, 'unfit': 4700, 'pressed': 3448, 'trusted': 4647, 'usual': 4744, 'appearing': 363, 'half': 2063, 'hundred': 2223, 'quickly': 3595, 'headlines': 2113, 'condemned': 1000, 'intervention': 2382, 'proved': 3545, 'disastrous': 1371, 'terrible': 4480, 'pacific': 3220, 'prove': 3544, 'risks': 3872, 'jong': 2482, 'testing': 4491, 'above': 118, 'uk': 4677, 'seoul': 4039, 'test': 4486, 'excuse': 1649, 'device': 1339, 'associate': 435, 'massachusetts': 2804, 'institute': 2349, 'tested': 4487, 'handful': 2070, 'studies': 4332, 'surface': 4390, 'unacceptable': 4684, 'limit': 2675, 'aimed': 248, 'miami': 2867, 'announce': 326, 'spanish': 4205, 'polling': 3389, 'disputed': 1392, 'catalan': 780, 'regional': 3711, 'meddling': 2836, 'zero': 4993, 'exists': 1657, 'briefed': 664, 'warner': 4840, 'expanding': 1661, 'reviewing': 3850, 'nor': 3066, 'kushner': 2561, 'associates': 437, 'possession': 3408, 'file': 1791, 'youtu': 4990, 'outright': 3199, 'context': 1060, 'relevant': 3738, 'located': 2705, 'exclusively': 1648, 'failure': 1722, 'watchdog': 4851, 'frustration': 1908, 'abandon': 107, 'urging': 4735, 'tension': 4475, 'exchanges': 1646, 'puts': 3581, 'insults': 2354, 'threatens': 4533, 'mentally': 2854, 'pursue': 3574, 'developing': 1337, 'sullivan': 4367, 'expressing': 1689, 'regarding': 3706, 'enforce': 1566, 'guidance': 2044, 'xi': 4973, 'jinping': 2468, 'deployment': 1301, 'firms': 1815, 'aim': 247, 'aims': 249, 'liar': 2652, 'walker': 4827, 'packed': 3222, 'loved': 2734, 'sick': 4116, 'thoughts': 4526, 'mass': 2803, 'lewis': 2650, 'preparing': 3438, 'nra': 3083, 'recess': 3671, 'quiet': 3596, 'feet': 1771, 'colleagues': 927, 'sat': 3944, 'anyway': 348, 'feed': 1765, 'msnbc': 2967, 'extraordinary': 1697, 'contribution': 1073, 'measure': 2834, 'guns': 2051, 'la': 2563, 'investigated': 2391, 'orlando': 3184, 'shooter': 4098, 'mateen': 2809, 'rifle': 3862, 'fine': 1807, 'treasury': 4622, 'estimates': 1615, 'jan': 2445, 'donate': 1428, '600': 93, 'ethics': 1617, 'ownership': 3216, 'violate': 4786, 'separate': 4040, 'banning': 511, 'apply': 370, 'branch': 650, 'feb': 1760, 'resulting': 3828, 'young': 4985, '23': 53, 'guess': 2041, 'privately': 3478, 'youth': 4989, 'older': 3135, 'progressives': 3506, 'everywhere': 1635, 'santa': 3941, '300': 62, 'keeps': 2517, 'promising': 3513, 'add': 174, 'sports': 4234, 'teams': 4455, 'justin': 2510, 'trudeau': 4642, 'trans': 4607, 'agreements': 239, 'negotiate': 3021, 'hey': 2140, 'cares': 763, 'honestly': 2182, 'runner': 3918, 'denying': 1296, 'garland': 1937, 'wisconsin': 4927, 'progressive': 3505, 'temporary': 4470, 'deportation': 1303, 'normal': 3067, 'grassley': 2015, 'moderate': 2924, 'appeals': 359, 'fill': 1796, 'chose': 857, 'refusal': 3700, 'iowa': 2407, 'conversation': 1082, 'apologized': 354, 'slammed': 4149, 'vermont': 4764, 'hawaii': 2107, 'philadelphia': 3325, 'leads': 2611, 'deficit': 1264, 'seeks': 4012, 'kasich': 2514, 'dc': 1218, 'gingrich': 1965, 'radical': 3610, 'bathrooms': 527, 'encourage': 1553, 'environment': 1587, '1999': 22, 'handle': 2071, 'confront': 1015, 'mess': 2859, 'resident': 3800, 'japanese': 2448, 'duty': 1477, 'susan': 4402, 'players': 3360, 'stands': 4258, 'parents': 3242, 'field': 1781, 'kirkuk': 2542, 'balance': 496, 'julian': 2500, 'assange': 424, 'code': 919, 'carter': 773, 'uranium': 4731, 'regulators': 3721, 'engage': 1568, 'undermine': 4692, 'protecting': 3535, 'rogers': 3886, 'designed': 1315, 'benefit': 565, 'charitable': 835, 'favorable': 1748, 'consent': 1030, 'shared': 4078, 'doj': 1421, 'essentially': 1607, 'dark': 1208, 'soil': 4166, 'trail': 4603, 'approval': 378, 'plants': 3355, 'selling': 4024, 'legitimate': 2638, 'condition': 1001, 'anonymity': 331, 'purchase': 3571, 'defended': 1261, 'eric': 1600, 'arm': 397, 'commerce': 952, 'stated': 4266, 'permission': 3310, 'payment': 3283, 'recorded': 3679, 'informant': 2324, 'rosenstein': 3899, 'mccabe': 2823, 'questioned': 3591, 'understands': 4695, 'citing': 874, 'played': 3358, 'inspector': 2344, 'gov': 1998, 'mcauliffe': 2822, 'connections': 1028, 'transportation': 4616, 'asset': 430, 'cap': 747, 'executives': 1651, 'defendants': 1260, 'implications': 2269, 'ronald': 3894, 'reveals': 3842, 'christians': 862, 'exercise': 1652, 'instance': 2347, 'discrimination': 1377, 'racial': 3606, 'beliefs': 559, 'refuse': 3701, 'manner': 2781, 'perhaps': 3307, 'card': 757, 'hide': 2143, 'tim': 4551, 'desperately': 1318, 'arkansas': 396, 'consideration': 1035, 'cotton': 1113, 'institution': 2350, 'leaning': 2616, 'lake': 2570, 'reduce': 3685, 'neighborhood': 3026, 'moon': 2941, 'reasons': 3660, 'biden': 583, '2020': 48, 'maxine': 2818, 'waters': 4855, 'crazy': 1143, 'constituents': 1044, 'ca': 716, 'stood': 4295, 'brotherhood': 681, 'strategy': 4308, 'reference': 3689, 'speaks': 4211, 'islam': 2419, 'culture': 1180, 'doubts': 1440, 'participating': 3251, 'participate': 3249, 'established': 1610, 'presidents': 3446, 'proposals': 3526, 'demonstrations': 1289, 'somalia': 4176, 'malaysia': 2768, 'generations': 1952, 'passed': 3265, 'recognition': 3674, 'sons': 4187, 'corner': 1101, 'supplies': 4374, 'funded': 1917, 'sanctuary': 3939, 'laugh': 2589, 'tour': 4585, 'incredibly': 2299, 'absurd': 123, 'enjoy': 1573, '36': 68, 'poll': 3388, 'compared': 971, 'spd': 4207, 'gabriel': 1929, 'adopted': 191, 'tone': 4569, 'deeper': 1254, 'gap': 1936, 'afd': 208, 'inequality': 2319, 'migrant': 2875, 'gains': 1932, 'certain': 806, 'violated': 4787, 'longtime': 2714, 'applied': 369, 'governing': 1999, '1998': 21, 'roles': 3889, 'focused': 1842, 'griffin': 2027, 'rape': 3628, 'sentiment': 4038, 'controls': 1078, 'suspicion': 4407, 'pair': 3228, 'raped': 3629, 'beach': 532, 'resort': 3811, 'represented': 3778, 'survey': 4400, 'population': 3398, 'permits': 3312, 'meaning': 2830, 'rising': 3870, 'granted': 2012, 'flow': 1837, 'feared': 1756, 'preventing': 3456, 'fallen': 1728, 'remained': 3744, 'initially': 2329, 'ignoring': 2248, 'italian': 2432, 'headline': 2112, 'child': 847, 'hospital': 2194, 'abroad': 119, 'newspapers': 3044, 'nonsense': 3065, 'abuse': 125, 'populist': 3399, 'predicted': 3433, 'wage': 4820, 'initiatives': 2331, 'halt': 2065, 'passage': 3264, 'placed': 3345, 'christopher': 865, 'employers': 1549, 'typically': 4675, 'unveiled': 4723, 'era': 1598, 'tougher': 4584, 'childhood': 848, 'daca': 1194, '800': 104, 'schumer': 3974, 'telephone': 4463, 'principles': 3470, 'differences': 1351, 'platform': 3356, 'kids': 2531, 'spring': 4239, 'worldwide': 4954, 'ten': 4471, 'broadcaster': 676, 'wear': 4866, 'age': 227, 'exact': 1639, 'gonna': 1989, 'answered': 335, 'suit': 4366, 'awful': 482, 'ass': 422, 'pat': 3271, 'holy': 2177, 'typical': 4674, 'dishonest': 1386, 'network': 3036, 'picture': 3339, 'choosing': 856, 'dropping': 1468, 'setting': 4061, 'confrontation': 1016, 'puigdemont': 3563, 'closing': 910, 'orders': 3173, 'empty': 1551, 'memo': 2850, 'complicated': 983, 'peaceful': 3286, 'resistance': 3806, 'catalonia': 781, 'application': 367, 'content': 1056, 'madrid': 2749, 'crowds': 1171, 'chain': 809, 'stores': 4300, 'wealthy': 4863, 'spain': 4204, 'discuss': 1379, 'nixon': 3052, 'drugs': 1471, 'market': 2795, 'billions': 593, 'per': 3297, 'reagan': 3651, 'study': 4333, 'findings': 1806, 'guardian': 2039, 'banking': 507, 'accurate': 141, 'approximately': 381, 'bodies': 623, 'initial': 2328, 'types': 4673, 'maine': 2756, 'virtually': 4795, 'begun': 551, 'decline': 1248, 'mississippi': 2911, 'traditionally': 4598, 'spy': 4240, 'chiefs': 846, 'ukrainian': 4679, 'submitted': 4339, 'links': 2684, 'involve': 2403, 'horrific': 2193, 'torture': 4579, 'murder': 2974, 'investigative': 2395, 'journalism': 2488, 'prisoners': 3475, 'custody': 1186, 'coordinated': 1095, 'treatment': 4625, 'ill': 2250, 'davis': 1215, 'priority': 3473, 'objective': 3095, 'diverse': 1400, 'pose': 3403, 'covers': 1139, 'devastating': 1334, 'offices': 3123, 'haiti': 2061, 'mother': 2953, 'effect': 1503, 'rebuild': 3663, 'projects': 3508, 'industrial': 2316, 'truly': 4644, 'bitter': 599, 'expectations': 1664, 'escape': 1604, 'attention': 455, 'designated': 1314, 'permit': 3311, 'tony': 4571, 'wake': 4824, 'pattern': 3279, 'contracts': 1068, 'entities': 1584, 'active': 160, 'initiative': 2330, 'contract': 1065, 'project': 3507, 'hurricane': 2227, 'jonathan': 2480, 'loan': 2699, 'personally': 3317, 'independently': 2304, 'requirement': 3790, 'applications': 368, 'houses': 2207, 'units': 4709, 'discovered': 1375, 'commitment': 957, 'papers': 3237, 'circuit': 870, 'fields': 1782, 'unite': 4707, 'jason': 2450, 'participants': 3248, 'degree': 1267, 'bail': 494, 'neighborhoods': 3027, 'disappointed': 1369, 'unfortunately': 4701, 'barely': 515, 'retirement': 3833, 'primarily': 3464, 'ipsos': 2408, 'section': 4002, 'gender': 1948, 'primaries': 3463, 'partners': 3259, 'cbs': 790, 'traditional': 4597, 'deir': 1268, 'zor': 4998, 'chosen': 858, 'dear': 1228, 'friend': 1901, 'messages': 2861, 'terror': 4482, 'jay': 2451, 'promoting': 3516, 'hitting': 2167, 'queen': 3589, 'theme': 4504, 'cuts': 1190, 'holds': 2172, 'dressed': 1454, 'similarly': 4131, 'song': 4186, 'brutality': 688, 'fan': 1736, 'outraged': 3197, 'begins': 550, 'playing': 3361, 'quote': 3602, 'father': 1745, 'boy': 645, 'viewers': 4781, 'clip': 903, 'ring': 3866, 'blocked': 613, 'amendments': 298, 'veto': 4769, 'bridge': 662, '47': 80, 'babies': 483, 'abortions': 116, 'promises': 3512, 'bear': 533, 'baby': 484, 'precedent': 3431, 'frank': 1889, 'transfer': 4610, 'medicaid': 2838, 'perform': 3304, 'innocent': 2336, 'providers': 3550, 'highlighted': 2148, 'backing': 488, 'tackle': 4422, 'sharing': 4081, 'subsidies': 4343, 'insurers': 2356, '2018': 46, 'register': 3713, 'modern': 2925, 'revolutionary': 3852, 'unpopular': 4718, 'los': 2722, 'huckabee': 2216, 'undercover': 4691, 'ap': 350, 'counted': 1120, 'besides': 573, 'editing': 1498, 'herself': 2139, 'realize': 3655, 'hoax': 2168, 'paragraph': 3239, 'client': 898, 'privilege': 3479, 'procedure': 3486, 'thousand': 4527, 'actor': 166, 'barred': 516, 'participated': 3250, 'frustrated': 1907, 'walked': 4826, 'convinced': 1088, 'wang': 4832, 'cultural': 1179, 'returning': 3836, 'committing': 962, 'jihad': 2463, 'dealing': 1224, 'pages': 3225, 'trained': 4605, 'perspective': 3320, 'advice': 199, 'therefore': 4510, 'establish': 1609, 'labour': 2565, 'mental': 2853, 'examples': 1642, 'mosque': 2949, 'desire': 1316, 'wow': 4963, 'witnessed': 4936, 'pathetic': 3273, 'minority': 2900, 'harsh': 2090, 'lopez': 2720, 'alternate': 289, 'boiler': 626, 'regard': 3705, 'hack': 2054, 'theories': 4507, 'tend': 4472, 'box': 644, 'script': 3986, 'entertainment': 1581, 'divorce': 1407, 'phones': 3329, 'computers': 988, 'photos': 3332, 'mccarthy': 2825, 'amnesty': 303, 'nationals': 2998, 'verdict': 4763, 'ankara': 323, 'myanmar': 2985, 'cleansing': 892, 'rakhine': 3618, 'killings': 2536, 'tremendous': 4627, 'flee': 1827, 'nobel': 3054, 'suu': 4409, 'kyi': 2562, 'analyst': 310, 'uncomfortable': 4687, 'summit': 4369, 'comprehensive': 985, 'expects': 1666, 'medicare': 2840, 'pass': 3263, 'solutions': 4173, 'dedicated': 1250, 'daniel': 1207, 'accept': 129, 'phony': 3330, 'josh': 2486, 'breaks': 657, 'mile': 2879, 'brain': 649, 'strongest': 4322, 'tries': 4631, 'leaks': 2615, 'pressing': 3449, 'danger': 1205, 'furthermore': 1926, 'closest': 909, 'admitted': 189, 'soros': 4189, 'throwing': 4540, 'intention': 2369, 'organizing': 3180, 'disrupt': 1394, 'revelation': 3843, 'options': 3168, 'glenn': 1974, 'beck': 540, 'requirements': 3791, 'careful': 761, 'liberation': 2655, 'tehran': 4462, '1980s': 15, '1992': 17, 'describe': 1306, 'lay': 2604, 'golden': 1985, 'cdata': 791, 'function': 1914, 'id': 2233, 'var': 4753, 'js': 2493, 'fjs': 1821, 'connect': 1024, 'favored': 1749, 'fault': 1746, 'size': 4146, 'suffer': 4356, 'chances': 822, 'struggled': 4327, 'angeles': 318, 'reilly': 3724, 'enacted': 1552, 'jerry': 2455, 'effectively': 1505, 'obviously': 3102, 'rulings': 3915, 'colin': 924, 'powell': 3420, 'reveal': 3839, 'miller': 2886, 'blasted': 608, 'leak': 2613, 'convince': 1087, 'overcome': 3205, 'aligned': 266, 'roger': 3885, 'ailes': 246, 'advisor': 203, 'tie': 4546, 'admitting': 190, 'hassan': 2096, 'holocaust': 2176, 'celebrating': 795, 'resettlement': 3798, 'bloomberg': 617, 'disney': 1388, 'toward': 4587, 'awarded': 477, 'detroit': 1333, 'utah': 4746, 'diversity': 1401, 'grants': 2013, 'chamber': 817, 'broader': 677, 'atlanta': 442, 'signature': 4122, 'cancer': 742, 'outcome': 3192, 'collins': 932, '80': 103, 'lisa': 2685, 'afford': 214, 'proceed': 3488, 'deciding': 1241, 'hospitals': 2195, 'repealing': 3759, 'version': 4765, 'corker': 1100, 'jon': 2479, 'courage': 1131, 'cameras': 729, 'color': 935, 'ugly': 4676, 'prayer': 3429, 'listening': 2689, 'unique': 4705, 'embrace': 1537, 'pretend': 3452, 'equal': 1593, 'naturally': 3004, 'actress': 168, 'topics': 4578, 'boycott': 646, 'sharpton': 4084, 'tune': 4654, 'kennedy': 2521, 'famous': 1735, 'expression': 1690, 'uses': 4742, 'requiring': 3793, 'sworn': 4415, 'dossier': 1437, 'green': 2023, 'jill': 2465, 'stein': 4281, 'recount': 3682, 'bond': 630, 'widespread': 4909, 'filing': 1795, 'contest': 1058, 'damaged': 1200, 'estimate': 1613, 'mixed': 2917, 'electric': 1522, 'unit': 4706, 'headquarters': 2114, 'recalled': 3665, 'respected': 3814, 'mcmaster': 2827, 'intellectual': 2362, 'voices': 4810, 'basic': 523, 'exit': 1658, 'grab': 2005, 'stolen': 4293, 'miss': 2905, 'methods': 2863, 'rounds': 3903, 'hackers': 2056, 'chelsea': 842, 'casualties': 779, 'bay': 529, 'disclosure': 1374, 'tweeting': 4666, '2017the': 44, 'houthi': 2210, 'urge': 4733, 'jeb': 2453, 'endorsed': 1560, 'demonstrated': 1288, 'endorsement': 1561, 'lone': 2711, 'nominate': 3056, 'maddow': 2747, 'properly': 3522, 'sexist': 4070, 'evening': 1626, 'brings': 671, '39': 71, 'blast': 607, 'rage': 3612, 'sentence': 4035, 'gate': 1940, 'crew': 1152, 'mentioned': 2856, 'park': 3244, 'todd': 4563, 'ii': 2249, 'puerto': 3562, 'rico': 3859, 'juan': 2494, 'bankruptcy': 508, 'rick': 3858, 'irma': 2415, 'industries': 2317, 'elsewhere': 1530, 'alarm': 257, 'accord': 135, 'liked': 2672, 'antonio': 342, 'mugabe': 2970, 'zimbabwe': 4995, 'factions': 1714, 'mnangagwa': 2918, 'aspects': 421, 'copy': 1098, 'ousted': 3190, 'movements': 2960, 'developed': 1336, 'interfere': 2375, 'pull': 3564, 'approached': 376, 'revolution': 3851, 'afternoon': 223, 'heading': 2111, 'recording': 3680, 'inner': 2335, 'conversations': 1083, 'brutal': 687, 'contacted': 1051, 'hanging': 2075, 'impeachment': 2265, 'welfare': 4882, 'strengthen': 4313, 'subsequently': 4342, 'christie': 863, 'loretta': 2721, 'lynch': 2743, 'correct': 1107, 'pac': 3218, 'expense': 1667, 'kislyak': 2543, 'dealings': 1225, 'goods': 1991, 'tweets': 4667, 'duterte': 1475, 'band': 504, 'taylor': 4447, 'colbert': 922, 'barry': 517, 'anthem': 337, 'wonderful': 4943, 'fly': 1838, 'celebrities': 796, 'melania': 2846, 'rant': 3627, 'assassination': 425, 'insane': 2338, 'vocal': 4807, 'counts': 1126, 'hatch': 2098, 'gary': 1938, 'weekly': 4875, 'devices': 1340, 'portion': 3401, 'emissions': 1542, 'pact': 3223, 'quality': 3587, 'ease': 1486, 'lindsey': 2679, 'graham': 2009, 'sites': 4141, 'reflects': 3694, 'fort': 1870, 'detainees': 1328, 'maximum': 2817, 'visits': 4804, 'option': 3167, 'mainland': 2757, 'demonstrate': 1287, 'flight': 1831, 'dignity': 1355, 'tsai': 4651, 'regards': 3708, 'fairly': 1724, 'rely': 3742, 'anchor': 312, 'highway': 2150, 'passenger': 3266, 'loves': 2735, 'stuff': 4334, 'legacy': 2630, 'description': 1310, 'clapper': 887, 'cards': 758, 'abadi': 106, 'baghdad': 493, 'drive': 1460, 'kurds': 2560, 'channel': 827, 'elite': 1527, 'guards': 2040, 'withdraw': 4931, 'mohammad': 2928, 'export': 1682, 'autonomous': 471, 'hussein': 2230, 'delayed': 1270, 'palin': 3233, 'sentences': 4037, 'boys': 647, 'phrase': 3333, 'offers': 3119, 'maher': 2753, 'celebrity': 797, 'actively': 161, 'brilliant': 668, 'kinds': 2539, 'firearms': 1811, 'matthew': 2815, 'valley': 4749, 'oath': 3092, '700': 101, 'visitors': 4803, 'khan': 2528, 'documentary': 1413, 'season': 3992, 'petition': 3323, 'dean': 1227, 'abc': 109, 'lifting': 2669, 'spirit': 4225, 'brussels': 686, 'patrick': 3275, 'henningsen': 2134, 'planes': 3349, 'flights': 1832, 'counterpart': 1122, 'jihadist': 2464, 'yahoo': 4974, 'focusing': 1843, 'triggered': 4633, '90': 105, 'airports': 254, 'grave': 2017, 'necessarily': 3014, 'acr': 153, 'broadcast': 675, 'pm': 3371, 'est': 1608, 'animals': 322, 'hosts': 2200, 'andy': 316, 'episode': 1592, 'serial': 4045, 'advisers': 202, 'ballots': 501, 'conway': 1089, 'kellyanne': 2520, 'principle': 3469, 'exercises': 1653, 'seattle': 3995, 'reminder': 3751, 'michel': 2869, 'imposing': 2276, 'visas': 4798, 'defeated': 1257, 'shouting': 4108, 'deported': 1304, 'museum': 2978, 'wider': 4908, 'whites': 4899, 'grew': 2026, 'limits': 2677, 'riots': 3868, 'hungary': 2225, 'disagree': 1368, 'ms': 2966, 'cable': 718, 'parent': 3240, 'networks': 3037, 'commitments': 958, 'vile': 4783, 'relatives': 3734, 'sister': 4138, 'whenever': 4893, 'owners': 3215, 'license': 2660, 'contractor': 1066, 'correctness': 1108, 'lists': 2690, 'perfectly': 3303, 'nightclub': 3050, 'scaramucci': 3960, 'scarborough': 3961, 'ceiling': 793, 'marriage': 2798, '38': 70, 'defending': 1262, 'fail': 1718, 'accusation': 142, 'experienced': 1671, 'shake': 4073, 'concept': 989, 'product': 3494, 'weiner': 4878, 'brennan': 659, 'advertising': 198, 'swing': 4414, 'expensive': 1669, 'dhs': 1342, 'violations': 4790, 'suspicious': 4408, 'extremism': 1700, 'outlined': 3195, 'database': 1210, 'elements': 1524, 'crack': 1140, 'apartment': 352, 'reputation': 3784, 'mohamed': 2927, 'aftermath': 222, 'tragic': 4602, 'rapidly': 3630, 'eve': 1624, 'seemingly': 4015, 'brand': 651, 'gore': 1994, 'contain': 1053, 'comfortable': 946, 'snyder': 4160, 'grassroots': 2016, 'restore': 3824, 'rid': 3860, 'contrary': 1069, 'troubling': 4639, 'identify': 2238, 'launching': 2593, 'machine': 2744, 'popularity': 3397, 'tear': 4456, 'drinking': 1459, 'surfaced': 4391, 'disabled': 1367, 'display': 1390, 'bias': 579, 'occupy': 3105, 'flake': 1824, 'historic': 2162, 'christianity': 861, 'offensive': 3115, 'lesson': 2642, 'reasonable': 3659, 'sponsored': 4233, 'penalty': 3289, 'transgender': 4611, 'bathroom': 526, 'adults': 194, 'addressing': 182, 'confusion': 1019, 'confused': 1018, 'cambodia': 726, 'murphy': 2976, 'treason': 4621, 'framework': 1885, 'nyc': 3091, 'travelers': 4619, 'sponsor': 4232, 'sixth': 4145, 'stronger': 4321, 'crude': 1174, 'monitor': 2937, 'lived': 2695, 'murdered': 2975, 'steele': 4280, 'pastor': 3270, 'loud': 2730, 'races': 3605, 'admit': 188, 'harvey': 2092, 'duties': 1476, 'pace': 3219, 'challenging': 816, 'gulf': 2048, 'marijuana': 2791, 'consumer': 1048, 'sue': 4354, 'avenue': 473, 'securities': 4005, 'consumers': 1049, 'bullshit': 694, 'judges': 2496, 'clock': 904, 'nominees': 3061, 'ball': 498, 'anonymous': 332, 'quit': 3598, 'vs': 4818, 'attempting': 450, 'timeline': 4553, 'notice': 3076, 'holiday': 2174, 'stayed': 4277, 'vetting': 4770, 'computer': 987, 'proving': 3554, 'greens': 2024, 'chambers': 818, 'slightly': 4152, 'larry': 2580, 'chaffetz': 808, 'origin': 3181, 'boost': 634, 'farm': 1739, 'advisory': 204, 'drawn': 1450, 'currency': 1183, 'integration': 2359, 'appreciate': 374, 'separately': 4041, 'zones': 4997, 'proves': 3547, 'sap': 3942, 'columbia': 937, 'vast': 4756, 'customs': 1188, 'plus': 3370, 'spin': 4224, 'signing': 4126, 'alive': 267, 'extra': 1696, 'ultimate': 4680, 'taliban': 4429, 'strikes': 4317, 'village': 4784, 'insurgents': 2358, 'destroying': 1322, 'drone': 1465, 'fleeing': 1828, 'catholic': 783, 'universities': 4711, 'vatican': 4757, 'pope': 3395, 'phase': 3324, 'teach': 4450, 'offense': 3114, 'implemented': 2268, 'giuliani': 1968, 'bombs': 629, 'kaine': 2512, 'refuses': 3703, 'flags': 1823, 'burden': 699, 'survive': 4401, 'compliance': 982, 'reserve': 3797, 'knowing': 2549, 'glass': 1973, 'dodd': 1416, 'mogul': 2926, 'corps': 1106, 'viral': 4793, 'space': 4203, 'nfl': 3046, 'instagram': 2346, 'louisiana': 2732, 'dallas': 1198, 'emotional': 1544, 'swamp': 4410, 'dictator': 1344, 'huma': 2219, 'abedin': 112, 'rice': 3855, 'reminded': 3750, 'anniversary': 325, 'responses': 3819, 'mitt': 2916, 'romney': 3892, 'bunch': 697, 'jack': 2439, 'zika': 4994, 'virus': 4796, 'provisions': 3556, 'covered': 1137, 'clients': 899, 'euros': 1623, 'absence': 120, 'tucker': 4652, 'carlson': 765, 'wounded': 4962, 'christmas': 864, 'rural': 3921, 'football': 1853, 'sec': 3996, 'breach': 654, 'staged': 4249, 'mob': 2920, 'mid': 2872, 'root': 3897, 'legitimacy': 2637, 'raqqa': 3632, 'timing': 4555, 'royal': 3907, 'liberty': 2657, 'prospect': 3531, 'feels': 1769, 'raid': 3613, 'villages': 4785, 'sufficient': 4359, 'blind': 609, 'stream': 4309, 'solidarity': 4171, 'proper': 3521, 'formerly': 1868, 'scenario': 3964, 'preferred': 3434, 'square': 4241, 'burns': 704, 'blasio': 606, 'transcript': 4609, 'rooms': 3896, 'weinstein': 4879, 'charity': 836, 'boston': 639, 'apple': 366, 'complaints': 977, 'afghan': 216, 'settle': 4062, 'shirt': 4092, 'mall': 2770, 'hunt': 2226, 'opposes': 3163, 'nationalist': 2996, 'supremacy': 4386, 'dad': 1195, 'exception': 1644, 'biased': 580, 'blacks': 602, 'guests': 2043, 'frontrunner': 1906, 'remark': 3747, 'capable': 749, 'fans': 1737, 'sisi': 4137, 'invitation': 2401, 'ideology': 2241, 'dress': 1453, 'clothing': 911, 'screengrab': 3983, 'cry': 1176, 'backs': 490, 'overall': 3204, 'percentage': 3300, 'bruce': 685, 'bible': 581, 'jesus': 2458, 'schedule': 3967, 'landmark': 2572, 'settlements': 4065, 'anger': 319, 'neil': 3030, 'earned': 1483, 'argentina': 389, 'relatively': 3733, 'bonds': 631, 'geneva': 1953, 'van': 4752, 'obligations': 3097, 'collapsed': 926, 'daughters': 1213, 'equality': 1594, 'hispanics': 2161, 'irish': 2414, 'vision': 4799, 'seth': 4059, 'candidacy': 743, 'manufacturers': 2782, 'audit': 461, 'hong': 2183, 'kong': 2554, 'resolutions': 3808, 'yourself': 4988, 'celebrate': 794, '51': 85, 'golf': 1987, 'steel': 4279, 'mobile': 2921, 'import': 2270, 'kaepernick': 2511, 'mocked': 2922, 'leaves': 2622, 'addresses': 181, 'electronic': 1523, 'perez': 3301, 'nelson': 3032, 'persecution': 3314, 'whoever': 4901, 'abdullah': 110, 'racists': 3609, 'slave': 4150, 'resist': 3805, 'taught': 4442, 'pain': 3227, 'stamp': 4251, 'surprising': 4396, 'mistakes': 2914, 'comedian': 942, 'insulting': 2353, 'reiterated': 3726, 'formally': 1865, 'trucks': 4641, 'locked': 2709, 'doors': 1436, 'sdf': 3988, 'crossed': 1168, 'liberties': 2656, 'watson': 4856, 'signal': 4121, 'hashtag': 2094, 'farmers': 1740, 'window': 4921, 'snap': 4159, 'pride': 3461, 'lewandowski': 2649, 'venezuela': 4762, 'colombia': 934, 'blocking': 614, 'mar': 2786, 'lago': 2568, 'websites': 4871, 'admission': 187, 'misleading': 2904, 'hadn': 2059, 'unions': 4704, 'dying': 1478, 'zealand': 4992, 'uncertainty': 4685, 'freeze': 1895, 'punished': 3569, 'nasty': 2993, 'user': 4740, 'acknowledge': 149, 'pension': 3294, 'resolved': 3810, 'successor': 4349, 'turnbull': 4658, 'delegation': 1273, 'twenty': 4668, 'invest': 2389, 'improve': 2278, 'forms': 1869, 'crossing': 1169, 'podesta': 3373, 'discredit': 1376, 'teen': 4461, 'fashion': 1742, 'patients': 3274, 'smoke': 4158, 'drills': 1458, 'drill': 1456, 'prepare': 3436, 'memorial': 2851, 'allegation': 269, 'displaced': 1389, 'keith': 2518, 'operatives': 3154, 'hook': 2185, 'aclu': 151, 'demonstrators': 1290, 'disturbing': 1399, 'healthy': 2118, 'software': 4165, 'discriminatory': 1378, 'zuma': 4999, 'cleared': 894, 'testify': 4489, 'alexander': 262, '41': 74, 'intentionally': 2370, '120': 6, 'belgium': 557, 'houthis': 2211, 'incumbent': 2300, '53': 87, 'districts': 1398, 'peskov': 3321, 'ford': 1859, 'shutdown': 4115, 'killer': 2534, 'tpp': 4592, 'chanting': 828, 'premiums': 3435, 'skills': 4147, 'gorsuch': 1995, 'resume': 3830, 'foxnews': 1884, 'pakistan': 3229, 'alien': 264, 'rapists': 3631, 'burn': 701, 'fence': 1777, 'earnest': 1484, 'maduro': 2750, 'yates': 4975, 'sets': 4060, 'marketing': 2796, 'stake': 4250, 'baltimore': 502, 'edwards': 1502, 'amazon': 295, 'brazil': 653, 'airlines': 252, 'fusion': 1927, 'baldwin': 497, 'warrant': 4842, 'felony': 1774, 'affiliated': 213, 'manafort': 2772, 'pakistani': 3230, 'wells': 4884, 'odinga': 3110, 'recipients': 3672, 'younger': 4986, 'medicine': 2841, 'procedures': 3487, 'acosta': 152, 'historical': 2163, 'aleppo': 259, 'funeral': 1922, 'guidelines': 2045, 'hamas': 2066, 'statue': 4274, 'gps': 2004, 'gaza': 1947, 'cocaine': 918, 'couples': 1130, 'electors': 1521, 'lincoln': 2678, 'lepage': 2640, 'cohen': 920, 'amp': 307, 'fcc': 1753, 'quot': 3601}\n"
          ],
          "name": "stdout"
        }
      ]
    },
    {
      "cell_type": "code",
      "metadata": {
        "id": "N0wVO4SX-Fo1",
        "colab_type": "code",
        "outputId": "9c90ae1e-c864-41dd-88a7-deecdc9c13b6",
        "colab": {
          "base_uri": "https://localhost:8080/",
          "height": 914
        }
      },
      "source": [
        "print(X_train_counts)"
      ],
      "execution_count": 28,
      "outputs": [
        {
          "output_type": "stream",
          "text": [
            "  (0, 1)\t2\n",
            "  (0, 10)\t2\n",
            "  (0, 40)\t1\n",
            "  (0, 41)\t1\n",
            "  (0, 83)\t1\n",
            "  (0, 117)\t1\n",
            "  (0, 136)\t1\n",
            "  (0, 221)\t1\n",
            "  (0, 226)\t1\n",
            "  (0, 276)\t2\n",
            "  (0, 286)\t1\n",
            "  (0, 308)\t2\n",
            "  (0, 313)\t9\n",
            "  (0, 358)\t1\n",
            "  (0, 385)\t1\n",
            "  (0, 401)\t1\n",
            "  (0, 413)\t4\n",
            "  (0, 438)\t1\n",
            "  (0, 468)\t1\n",
            "  (0, 495)\t1\n",
            "  (0, 545)\t1\n",
            "  (0, 577)\t2\n",
            "  (0, 711)\t1\n",
            "  (0, 770)\t1\n",
            "  (0, 832)\t1\n",
            "  :\t:\n",
            "  (33650, 4590)\t1\n",
            "  (33650, 4646)\t1\n",
            "  (33650, 4671)\t1\n",
            "  (33650, 4690)\t1\n",
            "  (33650, 4699)\t1\n",
            "  (33650, 4712)\t1\n",
            "  (33650, 4721)\t2\n",
            "  (33650, 4758)\t1\n",
            "  (33650, 4771)\t1\n",
            "  (33650, 4841)\t1\n",
            "  (33650, 4845)\t2\n",
            "  (33650, 4886)\t3\n",
            "  (33650, 4890)\t2\n",
            "  (33650, 4892)\t1\n",
            "  (33650, 4897)\t1\n",
            "  (33650, 4900)\t2\n",
            "  (33650, 4914)\t2\n",
            "  (33650, 4930)\t8\n",
            "  (33650, 4934)\t1\n",
            "  (33650, 4939)\t4\n",
            "  (33650, 4940)\t1\n",
            "  (33650, 4947)\t1\n",
            "  (33650, 4984)\t1\n",
            "  (33650, 4985)\t6\n",
            "  (33650, 4989)\t2\n"
          ],
          "name": "stdout"
        }
      ]
    },
    {
      "cell_type": "code",
      "metadata": {
        "id": "JUaeyJhVjvYc",
        "colab_type": "code",
        "colab": {}
      },
      "source": [
        "# from sklearn.svm import SVC  # Support Vector Classifier TAKES TOO DAMN LONG. complexity O(n observations * n^2 features) lmfao\n",
        "\n",
        "# SVM = SVC(C=1.0, kernel='linear', gamma='auto')\n",
        "# SVM.fit(X_train_counts,y_train)"
      ],
      "execution_count": 0,
      "outputs": []
    },
    {
      "cell_type": "code",
      "metadata": {
        "id": "jHas-gFQS9mA",
        "colab_type": "code",
        "outputId": "1c392aa3-1bd9-4c0a-87d4-2a4dd2998a89",
        "colab": {
          "base_uri": "https://localhost:8080/",
          "height": 34
        }
      },
      "source": [
        "from sklearn.naive_bayes import MultinomialNB\n",
        "# fit the training dataset on the NB classifier, will need to explain Bayes' a little\n",
        "Naive = MultinomialNB()\n",
        "Naive.fit(X_train_counts, y_train)"
      ],
      "execution_count": 30,
      "outputs": [
        {
          "output_type": "execute_result",
          "data": {
            "text/plain": [
              "MultinomialNB(alpha=1.0, class_prior=None, fit_prior=True)"
            ]
          },
          "metadata": {
            "tags": []
          },
          "execution_count": 30
        }
      ]
    },
    {
      "cell_type": "code",
      "metadata": {
        "id": "D4X1evlc_EBS",
        "colab_type": "code",
        "colab": {}
      },
      "source": [
        "X_test = count_vect.transform(X_test[\"text\"])"
      ],
      "execution_count": 0,
      "outputs": []
    },
    {
      "cell_type": "code",
      "metadata": {
        "id": "2nY6V8nQ-ojz",
        "colab_type": "code",
        "outputId": "e22b3159-ced2-4e8f-c37f-12cd55516f0b",
        "colab": {
          "base_uri": "https://localhost:8080/",
          "height": 34
        }
      },
      "source": [
        "from sklearn.metrics import accuracy_score\n",
        "# predict the labels on validation dataset\n",
        "predictions_NB = Naive.predict(X_test)\n",
        "# Use accuracy_score function to get the accuracy\n",
        "print(\"Naive Bayes Accuracy Score -> \",accuracy_score(predictions_NB, y_test)*100) # v accurate bc of assumption of independence!"
      ],
      "execution_count": 32,
      "outputs": [
        {
          "output_type": "stream",
          "text": [
            "Naive Bayes Accuracy Score ->  93.94722766981637\n"
          ],
          "name": "stdout"
        }
      ]
    },
    {
      "cell_type": "markdown",
      "metadata": {
        "id": "S0RDOamo5RsJ",
        "colab_type": "text"
      },
      "source": [
        "### The Onion"
      ]
    },
    {
      "cell_type": "code",
      "metadata": {
        "id": "lhbPIdou5myt",
        "colab_type": "code",
        "colab": {}
      },
      "source": [
        "# real life article prediction\n",
        "# link: https://entertainment.theonion.com/drake-fans-accuse-kenny-chesney-of-manipulating-billboa-1843484082\n",
        "onion = [\"Calling the country singer’s place at the top of Top 200 completely illegitimate, fans of the rapper–singer Drake took to social media Friday to accuse Kenny Chesney of manipulating Billboard’s algorithm by putting effort into his album. “It’s just unfair that this guy could keep Drake from his rightful place on the charts by putting out quality music that he actually cares about,” said Aiden Howard, 14, who echoed the sentiments of Drake fans worldwide in his assertion that the artist’s mediocre B-sides deserved more acclaim and recognition. “He clearly gamed the streaming numbers when he decided to put time and energy into his craft. It’s such horseshit that Billboard rewards that behavior and punishes Drizzy for making a half-assed mixtape full of songs he’d already dropped on SoundCloud. How the hell is ‘Toosie Slide’ going to compare to a song that the artist thought about for more than 15 minutes?” At press time, Drake released a statement asking fans to ignore Kenny Chesney and focus on the horseshit that he just released.\"]"
      ],
      "execution_count": 0,
      "outputs": []
    },
    {
      "cell_type": "code",
      "metadata": {
        "id": "IftP3QQ05tHE",
        "colab_type": "code",
        "colab": {}
      },
      "source": [
        "onion_vec = count_vect.transform(onion)"
      ],
      "execution_count": 0,
      "outputs": []
    },
    {
      "cell_type": "code",
      "metadata": {
        "id": "o3ddMgom6VJa",
        "colab_type": "code",
        "colab": {}
      },
      "source": [
        "predict_onion = Naive.predict(onion_vec)"
      ],
      "execution_count": 0,
      "outputs": []
    },
    {
      "cell_type": "code",
      "metadata": {
        "id": "xfYma1m67B_B",
        "colab_type": "code",
        "colab": {
          "base_uri": "https://localhost:8080/",
          "height": 34
        },
        "outputId": "0e572600-4557-412e-c198-6a4010714996"
      },
      "source": [
        "print(predict_onion)"
      ],
      "execution_count": 40,
      "outputs": [
        {
          "output_type": "stream",
          "text": [
            "[1]\n"
          ],
          "name": "stdout"
        }
      ]
    },
    {
      "cell_type": "markdown",
      "metadata": {
        "id": "CADsLNCs7cbr",
        "colab_type": "text"
      },
      "source": [
        "### New York Times"
      ]
    },
    {
      "cell_type": "code",
      "metadata": {
        "id": "8MpRpfYJ7bkN",
        "colab_type": "code",
        "colab": {}
      },
      "source": [
        "# link: https://www.nytimes.com/2020/05/16/us/politics/linick-investigation-pompeo.html?action=click&module=Top%20Stories&pgtype=Homepage\n",
        "nyt = [\"\"\"Two top congressional Democrats opened an investigation on Saturday into President Trump’s removal of Steve A. Linick, who led the office of the inspector general at the State Department, citing a pattern of “politically-motivated firing of inspectors general.”\n",
        "\n",
        "Mr. Trump told Speaker Nancy Pelosi late Friday night that he was ousting Mr. Linick, who was named by President Barack Obama to the State Department post, and replacing him with an ambassador with close ties to Vice President Mike Pence in the latest purge of inspectors general whom Mr. Trump has deemed insufficiently loyal to his administration.\n",
        "\n",
        "In letters to the White House, State Department, and Mr. Linick, Representative Eliot L. Engel of New York, the chairman of the House Foreign Affairs Committee, and Senator Bob Menendez of New Jersey, the top Democrat on the Senate Foreign Relations Committee, requested that the administration turn over records and information related to the firing of Mr. Linick as well as “records of all I.G. investigations involving the Office of the Secretary that were open, pending, or incomplete at the time of Mr. Linick’s firing.”\n",
        "\n",
        "Mr. Engel and Mr. Menendez said in their letters that they believe Secretary of State Mike Pompeo recommended Mr. Linick’s ouster because he had opened an investigation into Mr. Pompeo’s conduct. The lawmakers did not provide any more details, but a Democratic aide said that Mr. Linick had been looking into whether Mr. Pompeo had misused a political appointee at the State Department to perform personal tasks for himself and his wife.\n",
        "\n",
        "“Such an action, transparently designed to protect Secretary Pompeo from personal accountability, would undermine the foundation of our democratic institutions and may be an illegal act of retaliation,” the lawmakers wrote.\n",
        "\n",
        "Under law, the administration must notify Congress 30 days before formally terminating an inspector general. Mr. Linick is expected to leave his post then.\n",
        "\n",
        "Mr. Trump’s decision to remove Mr. Linick is the latest in a series of ousters aimed at inspectors general who the president and his allies believe are opposed to his agenda.\n",
        "\n",
        "In May, Mr. Trump moved to oust Christi A. Grimm, the principal deputy inspector general for the Department of Health and Human Services, whose office had issued a report revealing the dire state of the nation’s response to the pathogen. He has also taken steps to remove two other inspectors general, for the intelligence community and for the Defense Department.\n",
        "\n",
        "Mr. Linick was spotlighted during the impeachment inquiry when he requested an urgent meeting with congressional staff members to give them copies of documents related to the State Department and Ukraine, signaling they could be relevant to the House investigation into whether President Trump pressured Ukraine to investigate former Vice President Joseph R. Biden Jr. and his son Hunter Biden. The documents — a record of contacts between Rudolph W. Giuliani, the president’s personal lawyer, and Ukrainian prosecutors, as well as accounts of Ukrainian law enforcement proceedings — turned out to be largely inconsequential.\"\"\"]"
      ],
      "execution_count": 0,
      "outputs": []
    },
    {
      "cell_type": "code",
      "metadata": {
        "id": "A4uCGa8X7vtE",
        "colab_type": "code",
        "colab": {}
      },
      "source": [
        "nyt_vec = count_vect.transform(nyt)"
      ],
      "execution_count": 0,
      "outputs": []
    },
    {
      "cell_type": "code",
      "metadata": {
        "id": "Byy1wgSf8N6F",
        "colab_type": "code",
        "colab": {}
      },
      "source": [
        "predict_nyt = Naive.predict(nyt_vec)"
      ],
      "execution_count": 0,
      "outputs": []
    },
    {
      "cell_type": "code",
      "metadata": {
        "id": "d3jSrtvx8S9b",
        "colab_type": "code",
        "colab": {
          "base_uri": "https://localhost:8080/",
          "height": 34
        },
        "outputId": "acce119d-283d-45fd-d71d-4bc3bd2077fe"
      },
      "source": [
        "print(predict_nyt)"
      ],
      "execution_count": 44,
      "outputs": [
        {
          "output_type": "stream",
          "text": [
            "[0]\n"
          ],
          "name": "stdout"
        }
      ]
    }
  ]
}
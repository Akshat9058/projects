{
 "cells": [
  {
   "cell_type": "markdown",
   "metadata": {},
   "source": [
    "# Load In Clean Data"
   ]
  },
  {
   "cell_type": "code",
   "execution_count": 21,
   "metadata": {},
   "outputs": [],
   "source": [
    "import pandas as pd"
   ]
  },
  {
   "cell_type": "markdown",
   "metadata": {},
   "source": [
    "***N.B: If you're using Google Colab, you may need to mount Drive again. Follow the same steps as before!***"
   ]
  },
  {
   "cell_type": "code",
   "execution_count": 22,
   "metadata": {},
   "outputs": [
    {
     "data": {
      "text/html": [
       "<div>\n",
       "<style scoped>\n",
       "    .dataframe tbody tr th:only-of-type {\n",
       "        vertical-align: middle;\n",
       "    }\n",
       "\n",
       "    .dataframe tbody tr th {\n",
       "        vertical-align: top;\n",
       "    }\n",
       "\n",
       "    .dataframe thead th {\n",
       "        text-align: right;\n",
       "    }\n",
       "</style>\n",
       "<table border=\"1\" class=\"dataframe\">\n",
       "  <thead>\n",
       "    <tr style=\"text-align: right;\">\n",
       "      <th></th>\n",
       "      <th>text</th>\n",
       "      <th>fake_news</th>\n",
       "    </tr>\n",
       "  </thead>\n",
       "  <tbody>\n",
       "    <tr>\n",
       "      <th>0</th>\n",
       "      <td>Donald Trump just couldn t wish all Americans ...</td>\n",
       "      <td>1</td>\n",
       "    </tr>\n",
       "    <tr>\n",
       "      <th>1</th>\n",
       "      <td>House Intelligence Committee Chairman Devin Nu...</td>\n",
       "      <td>1</td>\n",
       "    </tr>\n",
       "    <tr>\n",
       "      <th>2</th>\n",
       "      <td>On Friday, it was revealed that former Milwauk...</td>\n",
       "      <td>1</td>\n",
       "    </tr>\n",
       "    <tr>\n",
       "      <th>3</th>\n",
       "      <td>On Christmas day, Donald Trump announced that ...</td>\n",
       "      <td>1</td>\n",
       "    </tr>\n",
       "    <tr>\n",
       "      <th>4</th>\n",
       "      <td>Pope Francis used his annual Christmas Day mes...</td>\n",
       "      <td>1</td>\n",
       "    </tr>\n",
       "  </tbody>\n",
       "</table>\n",
       "</div>"
      ],
      "text/plain": [
       "                                                text  fake_news\n",
       "0  Donald Trump just couldn t wish all Americans ...          1\n",
       "1  House Intelligence Committee Chairman Devin Nu...          1\n",
       "2  On Friday, it was revealed that former Milwauk...          1\n",
       "3  On Christmas day, Donald Trump announced that ...          1\n",
       "4  Pope Francis used his annual Christmas Day mes...          1"
      ]
     },
     "execution_count": 22,
     "metadata": {},
     "output_type": "execute_result"
    }
   ],
   "source": [
    "df = pd.read_csv(\"cleaned_news.csv\")\n",
    "df.head()"
   ]
  },
  {
   "cell_type": "markdown",
   "metadata": {},
   "source": [
    "# Naive Multinomial Bayes with sklearn"
   ]
  },
  {
   "cell_type": "code",
   "execution_count": 23,
   "metadata": {},
   "outputs": [],
   "source": [
    "# split the data\n",
    "DV = \"fake_news\" # the dependent variable, text is the independent variable here\n",
    "X = df.drop([DV], axis = 1) # drop from our X array because this is the text data that gets trained\n",
    "y = df[DV]"
   ]
  },
  {
   "cell_type": "code",
   "execution_count": 24,
   "metadata": {},
   "outputs": [],
   "source": [
    "# Split data into test and train\n",
    "from sklearn.model_selection import train_test_split\n",
    "# we train on 75% of the data, test on the rest\n",
    "X_train, X_test, y_train, y_test = train_test_split(X,y, test_size=0.25)"
   ]
  },
  {
   "cell_type": "code",
   "execution_count": 25,
   "metadata": {},
   "outputs": [],
   "source": [
    "from sklearn.feature_extraction.text import CountVectorizer # I need to look into more why this works\n",
    "\n",
    "count_vect = CountVectorizer(max_features = 5000)# limiting to 5000, but room to play with this here!\n",
    "X_train_counts = count_vect.fit_transform(X_train[\"text\"]) \n",
    "# print(count_vect.vocabulary_) # here is our bag of words! \n",
    "X_test = count_vect.transform(X_test[\"text\"]) # note: we don't fit it to the model! Or else this is all useless"
   ]
  },
  {
   "cell_type": "code",
   "execution_count": 26,
   "metadata": {},
   "outputs": [
    {
     "data": {
      "text/plain": [
       "MultinomialNB(alpha=1.0, class_prior=None, fit_prior=True)"
      ]
     },
     "execution_count": 26,
     "metadata": {},
     "output_type": "execute_result"
    }
   ],
   "source": [
    "from sklearn.naive_bayes import MultinomialNB\n",
    "# fit the training dataset on the NB classifier, will need to explain Bayes' a little\n",
    "Naive = MultinomialNB()\n",
    "Naive.fit(X_train_counts, y_train)"
   ]
  },
  {
   "cell_type": "code",
   "execution_count": 27,
   "metadata": {},
   "outputs": [
    {
     "name": "stdout",
     "output_type": "stream",
     "text": [
      "Naive Bayes Accuracy Score ->  93.71545730076663\n"
     ]
    }
   ],
   "source": [
    "from sklearn.metrics import accuracy_score\n",
    "# predict the labels on validation dataset\n",
    "predictions_NB = Naive.predict(X_test)\n",
    "# Use accuracy_score function to get the accuracy\n",
    "# v accurate bc of assumption of independence!\n",
    "print(\"Naive Bayes Accuracy Score -> \",accuracy_score(predictions_NB, y_test)*100) "
   ]
  },
  {
   "cell_type": "markdown",
   "metadata": {},
   "source": [
    "# Putting It to The Test!\n",
    "## The Onion"
   ]
  },
  {
   "cell_type": "code",
   "execution_count": 28,
   "metadata": {},
   "outputs": [],
   "source": [
    "# real life article prediction\n",
    "# link: https://entertainment.theonion.com/drake-fans-accuse-kenny-chesney-of-manipulating-billboa-1843484082\n",
    "onion = [\"\"\"Calling the country singer’s place at the top of Top 200 completely illegitimate, fans of the \n",
    "            rapper–singer Drake took to social media Friday to accuse Kenny Chesney of manipulating Billboard’s \n",
    "            algorithm by putting effort into his album. “It’s just unfair that this guy could keep Drake from his\n",
    "            rightful place on the charts by putting out quality music that he actually cares about,” said Aiden \n",
    "            Howard, 14, who echoed the sentiments of Drake fans worldwide in his assertion that the artist’s \n",
    "            mediocre B-sides deserved more acclaim and recognition. “He clearly gamed the streaming numbers when \n",
    "            he decided to put time and energy into his craft. It’s such horseshit that Billboard rewards that \n",
    "            behavior and punishes Drizzy for making a half-assed mixtape full of songs he’d already dropped on \n",
    "            SoundCloud. How the hell is ‘Toosie Slide’ going to compare to a song that the artist thought about \n",
    "            for more than 15 minutes?” At press time, Drake released a statement asking fans to ignore Kenny \n",
    "            Chesney and focus on the horseshit that he just released.\"\"\"]"
   ]
  },
  {
   "cell_type": "code",
   "execution_count": 29,
   "metadata": {},
   "outputs": [],
   "source": [
    "onion_vec = count_vect.transform(onion) # create bag of words"
   ]
  },
  {
   "cell_type": "code",
   "execution_count": 30,
   "metadata": {},
   "outputs": [],
   "source": [
    "predict_onion = Naive.predict(onion_vec) # applying it to the trained model"
   ]
  },
  {
   "cell_type": "code",
   "execution_count": 31,
   "metadata": {},
   "outputs": [
    {
     "name": "stdout",
     "output_type": "stream",
     "text": [
      "[1]\n"
     ]
    }
   ],
   "source": [
    "# 1: fake news!\n",
    "print(predict_onion)"
   ]
  },
  {
   "cell_type": "markdown",
   "metadata": {},
   "source": [
    "## The New York Times"
   ]
  },
  {
   "cell_type": "code",
   "execution_count": 32,
   "metadata": {},
   "outputs": [],
   "source": [
    "# link: https://www.nytimes.com/2020/05/16/us/politics/linick-investigation-pompeo.html?action=click&module=Top%20Stories&pgtype=Homepage\n",
    "nyt = [\"\"\"Two top congressional Democrats opened an investigation on Saturday into President Trump’s removal of \n",
    "          Steve A. Linick, who led the office of the inspector general at the State Department, citing a pattern \n",
    "          of “politically-motivated firing of inspectors general.” Mr. Trump told Speaker Nancy Pelosi late \n",
    "          Friday night that he was ousting Mr. Linick, who was named by President Barack Obama to the State \n",
    "          Department post, and replacing him with an ambassador with close ties to Vice President Mike Pence in \n",
    "          the latest purge of inspectors general whom Mr. Trump has deemed insufficiently loyal to his \n",
    "          administration. In letters to the White House, State Department, and Mr. Linick, Representative Eliot \n",
    "          L. Engel of New York, the chairman of the House Foreign Affairs Committee, and Senator Bob Menendez of \n",
    "          New Jersey, the top Democrat on the Senate Foreign Relations Committee, requested that the administration\n",
    "          turn over records and information related to the firing of Mr. Linick as well as “records of all I.G. \n",
    "          investigations involving the Office of the Secretary that were open, pending, or incomplete at the \n",
    "          time of Mr. Linick’s firing.” Mr. Engel and Mr. Menendez said in their letters that they believe \n",
    "          Secretary of State Mike Pompeo recommended Mr. Linick’s ouster because he had opened an investigation \n",
    "          into Mr. Pompeo’s conduct. The lawmakers did not provide any more details, but a Democratic aide said \n",
    "          that Mr. Linick had been looking into whether Mr. Pompeo had misused a political appointee at the State \n",
    "          Department to perform personal tasks for himself and his wife. “Such an action, transparently designed to\n",
    "          protect Secretary Pompeo from personal accountability, would undermine the foundation of our democratic \n",
    "          institutions and may be an illegal act of retaliation,” the lawmakers wrote. Under law, the administration\n",
    "          must notify Congress 30 days before formally terminating an inspector general. Mr. Linick is expected to \n",
    "          leave his post then. Mr. Trump’s decision to remove Mr. Linick is the latest in a series of ousters aimed\n",
    "          at inspectors general who the president and his allies believe are opposed to his agenda. In May, Mr. \n",
    "          Trump moved to oust Christi A. Grimm, the principal deputy inspector general for the Department of Health\n",
    "          and Human Services, whose office had issued a report revealing the dire state of the nation’s response to\n",
    "          the pathogen. He has also taken steps to remove two other inspectors general, for the intelligence\n",
    "          community and for the Defense Department. Mr. Linick was spotlighted during the impeachment inquiry when \n",
    "          he requested an urgent meeting with congressional staff members to give them copies of documents related \n",
    "          to the State Department and Ukraine, signaling they could be relevant to the House investigation into \n",
    "          whether President Trump pressured Ukraine to investigate former Vice President Joseph R. Biden Jr. and \n",
    "          his son Hunter Biden. The documents — a record of contacts between Rudolph W. Giuliani, the president’s \n",
    "          personal lawyer, and Ukrainian prosecutors, as well as accounts of Ukrainian law enforcement proceedings \n",
    "          — turned out to be largely inconsequential.\"\"\"]"
   ]
  },
  {
   "cell_type": "code",
   "execution_count": 33,
   "metadata": {},
   "outputs": [],
   "source": [
    "nyt_vec = count_vect.transform(nyt)"
   ]
  },
  {
   "cell_type": "code",
   "execution_count": 34,
   "metadata": {},
   "outputs": [],
   "source": [
    "predict_nyt = Naive.predict(nyt_vec)"
   ]
  },
  {
   "cell_type": "code",
   "execution_count": 35,
   "metadata": {},
   "outputs": [
    {
     "name": "stdout",
     "output_type": "stream",
     "text": [
      "[0]\n"
     ]
    }
   ],
   "source": [
    "# 0: not fake!\n",
    "print(predict_nyt)"
   ]
  },
  {
   "cell_type": "markdown",
   "metadata": {},
   "source": [
    "# Appendix\n",
    "Next steps for this kind of project would be to write this into functions to smooth over the whole process. Allow a user to submit a link for a story, scrape the text, and feed it into the model then give an output of whether it's a factual news story or not. In addition, look up some information about tuning this model further. We can make it better by removing stop words such as articles and function words like \"what\". This can increase the accuracy of the model! <br/> I hope you found this tutorial useful, and please feel free to leave a comment sharing your experience with it!"
   ]
  },
  {
   "cell_type": "markdown",
   "metadata": {},
   "source": [
    "## A Function to Test News With\n",
    "Here's a quick function I wrote that will summarize what we did with the modeling. The only parameter is a string containing the text in the news story!"
   ]
  },
  {
   "cell_type": "code",
   "execution_count": 38,
   "metadata": {},
   "outputs": [],
   "source": [
    "def classifier(text):\n",
    "    Naive = MultinomialNB()\n",
    "    Naive.fit(X_train_counts, y_train)\n",
    "    \n",
    "    # n.b: you may need to wrap the argument in brackets to make it a vector if you passed in a string\n",
    "    word_vec = count_vect.transform(text) \n",
    "    \n",
    "    predict = Naive.predict(word_vec)\n",
    "    return \"Fake News Story\" if predict[0] else \"Real News Story\""
   ]
  },
  {
   "cell_type": "code",
   "execution_count": 40,
   "metadata": {},
   "outputs": [
    {
     "data": {
      "text/plain": [
       "'Real News Story'"
      ]
     },
     "execution_count": 40,
     "metadata": {},
     "output_type": "execute_result"
    }
   ],
   "source": [
    "classifier(nyt)"
   ]
  },
  {
   "cell_type": "code",
   "execution_count": 41,
   "metadata": {},
   "outputs": [
    {
     "data": {
      "text/plain": [
       "'Fake News Story'"
      ]
     },
     "execution_count": 41,
     "metadata": {},
     "output_type": "execute_result"
    }
   ],
   "source": [
    "classifier(onion)"
   ]
  }
 ],
 "metadata": {
  "kernelspec": {
   "display_name": "Python 3",
   "language": "python",
   "name": "python3"
  },
  "language_info": {
   "codemirror_mode": {
    "name": "ipython",
    "version": 3
   },
   "file_extension": ".py",
   "mimetype": "text/x-python",
   "name": "python",
   "nbconvert_exporter": "python",
   "pygments_lexer": "ipython3",
   "version": "3.7.3"
  }
 },
 "nbformat": 4,
 "nbformat_minor": 2
}
